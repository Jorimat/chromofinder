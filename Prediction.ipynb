{
 "cells": [
  {
   "cell_type": "code",
   "execution_count": null,
   "id": "0f3faefc-ac08-4345-8c99-9678d21dd2be",
   "metadata": {},
   "outputs": [],
   "source": [
    "import os\n",
    "#os.environ[\"CUDA_VISIBLE_DEVICES\"]=\"1\" # NVIDIA GeForce RTX 3090\n",
    "os.environ[\"CUDA_VISIBLE_DEVICES\"]=\"3\" # NVIDIA GeForce RTX 2080\n",
    " \n",
    "import tensorflow.compat.v2 as tf\n",
    "print(\"Num GPUs Available: \", len(tf.config.experimental.list_physical_devices('GPU')))\n",
    "gpus = tf.config.experimental.list_physical_devices('GPU')\n",
    " \n",
    "print(gpus)"
   ]
  },
  {
   "cell_type": "code",
   "execution_count": null,
   "id": "1f198d57-441c-4ab8-9870-175b93168328",
   "metadata": {},
   "outputs": [],
   "source": [
    "import pickle\n",
    "import numpy as np\n",
    "import matplotlib.pyplot as plt\n",
    "import tensorflow as tf\n",
    "import tensorflow.keras.layers as layers\n",
    "import zipfile\n",
    "import os\n",
    "import random\n",
    "import datetime\n",
    "import h5py\n",
    "import cv2\n",
    "import sklearn.metrics \n",
    "from functions import *"
   ]
  },
  {
   "cell_type": "code",
   "execution_count": null,
   "id": "06035cb4-fece-47f1-9c38-09014b7eded2",
   "metadata": {},
   "outputs": [],
   "source": [
    "# Name of model\n",
    "name_model = \"Final (M0_5(3x3)_2)\"\n",
    "#version = \".3\"\n",
    "\n",
    "# Path to directory containing the model\n",
    "filepath_dic = \"Results/\" + name_model\n",
    "#filepath_subdic = filepath_dic + \"/\" + name_model + version\n",
    "\n",
    "# Path to model\n",
    "filepath_checkpoint_model = filepath_dic + \"/checkpoint.model.keras\"\n",
    "\n",
    "# Path for saving the prediction\n",
    "name_val_prediction = filepath_dic + \"/val_prediction.pkl\""
   ]
  },
  {
   "cell_type": "markdown",
   "id": "17dee780-8146-4ea3-b4a1-af7d690abd8f",
   "metadata": {},
   "source": [
    "# Prediction"
   ]
  },
  {
   "cell_type": "markdown",
   "id": "38939b55-8e93-49cb-a7b6-3740c028ef59",
   "metadata": {},
   "source": [
    "## Validation set"
   ]
  },
  {
   "cell_type": "code",
   "execution_count": null,
   "id": "10fd76d6-511f-4d2e-8c90-cf7dbc5001e3",
   "metadata": {},
   "outputs": [],
   "source": [
    "# Load validation set\n",
    "fileHDFVal = 'Data/val.hdf5'\n",
    "val = h5py.File(fileHDFVal, 'r')\n",
    "\n",
    "# Images of validation set\n",
    "val_features = np.asarray(val[\"features\"])\n",
    "val_targets = np.asarray(val[\"targets\"])"
   ]
  },
  {
   "cell_type": "markdown",
   "id": "bf01f647-4ec5-4b17-9ec6-97fa44160e4f",
   "metadata": {},
   "source": [
    "## Prediction"
   ]
  },
  {
   "cell_type": "code",
   "execution_count": null,
   "id": "388928cb-a85a-42e8-968e-e13ce5f6f596",
   "metadata": {},
   "outputs": [],
   "source": [
    "# Settings\n",
    "model_best = tf.keras.models.load_model(filepath_checkpoint_model)\n",
    "batch_size = 1"
   ]
  },
  {
   "cell_type": "code",
   "execution_count": null,
   "id": "82e0d371-4461-44b7-bf86-8252220f158b",
   "metadata": {},
   "outputs": [],
   "source": [
    "# Prediction\n",
    "val_predictions = model_best.predict(\n",
    "    val_features,\n",
    "    batch_size=batch_size)"
   ]
  },
  {
   "cell_type": "code",
   "execution_count": null,
   "id": "84698468-5e73-4a26-97ad-7fa90e56c681",
   "metadata": {},
   "outputs": [],
   "source": [
    "# Save predictions\n",
    "val_predictions = val_predictions.reshape(val_targets.shape)\n",
    "\n",
    "with open(name_val_prediction, 'wb') as file:\n",
    "    pickle.dump(val_predictions, file)"
   ]
  },
  {
   "cell_type": "markdown",
   "id": "2a8430e0-10b7-44d0-b8bd-63cf609ae46e",
   "metadata": {},
   "source": [
    "## Evaluation"
   ]
  },
  {
   "cell_type": "code",
   "execution_count": null,
   "id": "b7486967-9f73-4edf-9ead-d46852e0b98c",
   "metadata": {},
   "outputs": [],
   "source": [
    "with open(\"Data/val_coordinates.pkl\", 'rb') as file:\n",
    "    val_coordinates = pickle.load(file)"
   ]
  },
  {
   "cell_type": "markdown",
   "id": "f3a0676b-0303-4f4e-b592-7f156667f17e",
   "metadata": {},
   "source": [
    "bad = 26,40\n",
    "plt.xlim([1200,1400])\n",
    "plt.ylim([250,450])\n",
    "plt.xlim([800,1000])\n",
    "plt.ylim([1000,1200])"
   ]
  },
  {
   "cell_type": "markdown",
   "id": "6ac171bb-3fae-42ac-929c-6350f4dbc9d8",
   "metadata": {},
   "source": [
    "### Visual evaluation"
   ]
  },
  {
   "cell_type": "code",
   "execution_count": null,
   "id": "6022bbbc-5468-4117-b873-843d3d1f15f1",
   "metadata": {},
   "outputs": [],
   "source": [
    "#i = random.choice(range(len(val_predictions)))\n",
    "i = 26\n",
    "plots = [val[\"features\"][i], val[\"targets\"][i], val_predictions[i]]\n",
    "\n",
    "plt.figure(figsize=(24,8))\n",
    "for j in range(3):\n",
    "    plt.subplot(1,3,j+1)\n",
    "    plt.imshow(plots[j], interpolation='none')\n",
    "    plt.axis(\"off\")\n",
    "    if j == 0:\n",
    "        plt.scatter(*zip(*val_coordinates[i]),s=5, c=\"orange\")"
   ]
  },
  {
   "cell_type": "code",
   "execution_count": null,
   "id": "23073795-21e8-40f0-b7fe-564fa97905bf",
   "metadata": {},
   "outputs": [],
   "source": [
    "plt.imshow(val[\"features\"][i], cmap=\"gray\")\n",
    "plt.scatter(*zip(*val_coordinates[i]),s=10, c=\"orange\")\n",
    "plt.axis(\"off\")\n",
    "plt.title(\"Annotated image\")"
   ]
  },
  {
   "cell_type": "code",
   "execution_count": null,
   "id": "34228cdc-0b7d-4fbe-bcf1-113fc500c3f3",
   "metadata": {},
   "outputs": [],
   "source": [
    "plt.imshow(val[\"targets\"][i], interpolation='none')\n",
    "plt.axis(\"off\")\n",
    "plt.title(\"Target\")"
   ]
  },
  {
   "cell_type": "code",
   "execution_count": null,
   "id": "0c3f6093-ba68-4779-b8a9-38cd1a0751f1",
   "metadata": {},
   "outputs": [],
   "source": [
    "plt.imshow(val_predictions[i], interpolation='none')\n",
    "plt.title(\"Prediction\")\n",
    "plt.axis(\"off\")\n",
    "plt.colorbar()"
   ]
  },
  {
   "cell_type": "code",
   "execution_count": null,
   "id": "9e450b2c-68b9-4b4b-8873-a7a50f81935f",
   "metadata": {},
   "outputs": [],
   "source": [
    "plots = [val[\"features\"][i], val[\"targets\"][i], val_predictions[i]]\n",
    "\n",
    "plt.figure(figsize=(24,8))\n",
    "for j in range(3):\n",
    "    plt.subplot(1,3,j+1)\n",
    "    plt.imshow(plots[j], interpolation='none')\n",
    "    plt.xlim([800,1000])\n",
    "    plt.ylim([1000,1200])"
   ]
  },
  {
   "cell_type": "code",
   "execution_count": null,
   "id": "0550c70c-1297-481b-a615-ce134e44a8a0",
   "metadata": {},
   "outputs": [],
   "source": [
    "plt.figure()\n",
    "plt.imshow(val[\"features\"][i], cmap=\"gray\")\n",
    "plt.xlim([800,1000])\n",
    "plt.ylim([1000,1200])\n",
    "plt.title(\"Original image\")"
   ]
  },
  {
   "cell_type": "code",
   "execution_count": null,
   "id": "1d42d179-e023-4f6f-9b4c-d3bb57ce7234",
   "metadata": {},
   "outputs": [],
   "source": [
    "plt.figure()\n",
    "plt.imshow(val[\"targets\"][i], interpolation='none')\n",
    "plt.xlim([800,1000])\n",
    "plt.ylim([1000,1200])\n",
    "plt.title(\"Target\")\n",
    "plt.colorbar()"
   ]
  },
  {
   "cell_type": "code",
   "execution_count": null,
   "id": "9f4a3e7d-5f38-42d8-95f2-ac38336bb6a0",
   "metadata": {},
   "outputs": [],
   "source": [
    "plt.figure()\n",
    "plt.imshow(val_predictions[i], interpolation='none')\n",
    "plt.xlim([800,1000])\n",
    "plt.ylim([1000,1200])\n",
    "plt.title(\"Prediction\")\n",
    "plt.colorbar()"
   ]
  },
  {
   "cell_type": "markdown",
   "id": "dba84965-73b6-4d5d-bc51-60a81d4dc8ea",
   "metadata": {},
   "source": [
    "### Evaluation based on metrics"
   ]
  },
  {
   "cell_type": "code",
   "execution_count": null,
   "id": "e44b2e90-58fd-4910-95f7-35bdcba56ff1",
   "metadata": {},
   "outputs": [],
   "source": [
    "for i in range(len(val_predictions)):\n",
    "    val_predictions[i] = normalization(val_predictions[i])"
   ]
  },
  {
   "cell_type": "code",
   "execution_count": null,
   "id": "34172633-9472-4c53-8343-28447c6121ee",
   "metadata": {},
   "outputs": [],
   "source": [
    "threshold = 0.1\n",
    "\n",
    "val_targets_binary = binary(arr=val_targets, threshold=threshold)\n",
    "val_predictions_binary = binary(arr=val_predictions, threshold=threshold)"
   ]
  },
  {
   "cell_type": "code",
   "execution_count": null,
   "id": "4e90e8aa-3bf7-4483-8c75-d27eba9a30e9",
   "metadata": {},
   "outputs": [],
   "source": [
    "prec = precision(binary_targets=val_targets_binary, binary_predictions=val_predictions_binary)\n",
    "rec = recall(binary_targets=val_targets_binary, binary_predictions=val_predictions_binary)\n",
    "f1 = F1(binary_targets=val_targets_binary, binary_predictions=val_predictions_binary)\n",
    "uoi = jaccard(binary_targets=val_targets_binary, binary_predictions=val_predictions_binary)"
   ]
  },
  {
   "cell_type": "code",
   "execution_count": null,
   "id": "11c48c79-46f1-44d1-bba5-79d6564a801a",
   "metadata": {},
   "outputs": [],
   "source": [
    "print(\"{:20s}{:^10s}{:^10s}{:^10s}{:^10s}\".format(\"\", \"MEAN\", \"MEDIAN\",\"MIN\",\"MAX\"))\n",
    "print(\"{:20s}{:^10.2f}{:^10.2f}{:^10.2f}{:^10.2f}\".format(\"precision\",np.mean(prec),np.median(prec), np.min(prec),np.max(prec)))\n",
    "print(\"{:20s}{:^10.2f}{:^10.2f}{:^10.2f}{:^10.2f}\".format(\"recall\",np.mean(rec), np.median(rec),np.min(rec),np.max(rec)))\n",
    "print(\"{:20s}{:^10.2f}{:^10.2f}{:^10.2f}{:^10.2f}\".format(\"F1-score\",np.mean(f1),np.median(f1),np.min(f1),np.max(f1)))\n",
    "print(\"{:20s}{:^10.2f}{:^10.2f}{:^10.2f}{:^10.2f}\".format(\"Jaccard\",np.mean(uoi),np.median(uoi), np.min(uoi),np.max(uoi)))"
   ]
  },
  {
   "cell_type": "code",
   "execution_count": null,
   "id": "8c55216d-0697-4e9e-a4f4-6f0389997cea",
   "metadata": {},
   "outputs": [],
   "source": []
  }
 ],
 "metadata": {
  "kernelspec": {
   "display_name": "kiwibes_clone",
   "language": "python",
   "name": "kiwibes_clone"
  },
  "language_info": {
   "codemirror_mode": {
    "name": "ipython",
    "version": 3
   },
   "file_extension": ".py",
   "mimetype": "text/x-python",
   "name": "python",
   "nbconvert_exporter": "python",
   "pygments_lexer": "ipython3",
   "version": "3.9.12"
  }
 },
 "nbformat": 4,
 "nbformat_minor": 5
}
