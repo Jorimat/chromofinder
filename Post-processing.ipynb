{
 "cells": [
  {
   "cell_type": "code",
   "execution_count": null,
   "id": "499c4083-9745-450f-a884-fb23aed95248",
   "metadata": {},
   "outputs": [],
   "source": [
    "import pickle\n",
    "import random\n",
    "import matplotlib.pyplot as plt\n",
    "import numpy as np\n",
    "import cv2\n",
    "import skimage.measure as measure\n",
    "import skimage.filters as filters\n",
    "import skimage.morphology as morphology\n",
    "import skimage.exposure as exposure\n",
    "from functions import *"
   ]
  },
  {
   "cell_type": "code",
   "execution_count": null,
   "id": "3e879fc8-0d82-4702-836b-e81102edba53",
   "metadata": {},
   "outputs": [],
   "source": [
    "# Name of model\n",
    "name_model = \"Final (M0_6(3x3)_2)\"\n",
    "#version = \".3\"\n",
    "\n",
    "# Path to model\n",
    "filepath_dic = \"Results/\" + name_model\n",
    "#filepath_subdic = filepath_dic + \"/\" + name_model + version\n",
    "\n",
    "# Path to prediction\n",
    "name_val_prediction = filepath_dic + \"/val_prediction.pkl\""
   ]
  },
  {
   "cell_type": "code",
   "execution_count": null,
   "id": "d66669e1-9d2b-4616-aae2-96fae01a42f0",
   "metadata": {},
   "outputs": [],
   "source": [
    "# Load predictions (of validation set)\n",
    "with open(name_val_prediction, 'rb') as file:\n",
    "    val_predictions = pickle.load(file)\n",
    "\n",
    "# Load coordinates of annotations (ground truth) (of validation set)\n",
    "with open(\"Data/val_coordinates.pkl\", 'rb') as file:\n",
    "    val_coordinates = pickle.load(file)\n",
    "    \n",
    "# Load genera (of validation set)\n",
    "with open(\"Data/val_genera.pkl\", 'rb') as file:\n",
    "    val_genera = pickle.load(file)\n",
    "\n",
    "# load validation set (Images and targets)\n",
    "fileHDFVal = 'Data/val.hdf5'\n",
    "val = h5py.File(fileHDFVal, 'r')"
   ]
  },
  {
   "cell_type": "code",
   "execution_count": null,
   "id": "11633480-a45b-4b00-9d84-3523845641ec",
   "metadata": {},
   "outputs": [],
   "source": [
    "print(len(val_predictions))\n",
    "print(len(val_coordinates))\n",
    "print(len(val_genera))"
   ]
  },
  {
   "cell_type": "markdown",
   "id": "e0d0877c-fc94-456f-8bec-6338d54a68ec",
   "metadata": {},
   "source": [
    "# Optimalization parameters"
   ]
  },
  {
   "cell_type": "code",
   "execution_count": null,
   "id": "e08032fb-2a86-42ef-8700-1b1aac6b3741",
   "metadata": {},
   "outputs": [],
   "source": [
    "blurring = True\n",
    "blur_kernel_size = 11\n",
    "\n",
    "kernel_shape = \"ellipse\"\n",
    "\n",
    "threshold_technique = cv2.THRESH_BINARY+cv2.THRESH_OTSU\n",
    "#threshold_technique = cv2.THRESH_BINARY\n",
    "threshold = 1\n",
    "\n",
    "morphological_operations = {\"erosion\":{\"kernel_size\":11, \"iterations\":1},\n",
    "                            \"dilation\":{\"kernel_size\":11, \"iterations\":1},\n",
    "                            \"opening\":{\"kernel_size\":15, \"iterations\":1},\n",
    "                            \"closing\":{\"kernel_size\":11, \"iterations\":1}}\n",
    "\n",
    "order_morphological_operations =  [\"closing\",\"erosion\"] "
   ]
  },
  {
   "cell_type": "markdown",
   "id": "20c981f1-c89f-4bf1-bcdb-ab2503a9b263",
   "metadata": {},
   "source": [
    "## Optimalization based on evaluation metrics"
   ]
  },
  {
   "cell_type": "markdown",
   "id": "7f3a405f-d7f7-4c68-b611-6711903f70c4",
   "metadata": {},
   "source": [
    "### Post-processing"
   ]
  },
  {
   "cell_type": "code",
   "execution_count": null,
   "id": "b9675f29-0013-4f02-852d-3fe521965b20",
   "metadata": {},
   "outputs": [],
   "source": [
    "rec = []\n",
    "prec = []\n",
    "f1 = []\n",
    " \n",
    "for i,prediction in enumerate(val_predictions):\n",
    "    \n",
    "    genus = val_genera[i]\n",
    "    \n",
    "    # normalize pixel values between 0 and 255\n",
    "    normalized = normalization(prediction)\n",
    "    normalized = (normalized*255).astype(\"uint8\")\n",
    "    \n",
    "    # post-processing\n",
    "    post_processed  = post_processing(\n",
    "        im=normalized,\n",
    "        blurring=blurring,\n",
    "        blur_kernel_sz=blur_kernel_size,\n",
    "        thresh_technique=threshold_technique,\n",
    "        thresh=threshold,\n",
    "        kernel_shape=kernel_shape,\n",
    "        morph_ops=morphological_operations,\n",
    "        order_morph_ops=order_morphological_operations)\n",
    "    \n",
    "    # coordinates of chromosomes\n",
    "    # predicted\n",
    "    predicted_positions = centroid(post_processed)\n",
    "    # real\n",
    "    real_positions = val_coordinates[i]\n",
    "    \n",
    "    #precision\n",
    "    prec.append(precision_evaluation(coordinates_real=real_positions, \n",
    "              coordinates_predicted=predicted_positions,\n",
    "              genus=genus)) \n",
    "    # recall\n",
    "    rec.append(recall_evaluation(coordinates_real=real_positions, \n",
    "              coordinates_predicted=predicted_positions,\n",
    "              genus=genus))\n",
    "    \n",
    "    # f1\n",
    "    f1.append(F1_evaluation(coordinates_real=real_positions, \n",
    "              coordinates_predicted=predicted_positions,\n",
    "              genus=genus)) "
   ]
  },
  {
   "cell_type": "code",
   "execution_count": null,
   "id": "ef9afcb1-fb79-4ac7-a119-afea078fb1c5",
   "metadata": {},
   "outputs": [],
   "source": [
    "print(\"{:20s}{:^10s}{:^10s}{:^10s}{:^10s}\".format(\"\", \"MEAN\", \"MEDIAN\",\"MIN\",\"MAX\"))\n",
    "print(\"{:20s}{:^10.2f}{:^10.2f}{:^10.2f}{:^10.2f}\".format(\"precision\",np.mean(prec)*100,np.median(prec)*100, np.min(prec)*100,np.max(prec)*100))\n",
    "print(\"{:20s}{:^10.2f}{:^10.2f}{:^10.2f}{:^10.2f}\".format(\"recall\",np.mean(rec)*100, np.median(rec)*100,np.min(rec)*100,np.max(rec)*100))\n",
    "print(\"{:20s}{:^10.2f}{:^10.2f}{:^10.2f}{:^10.2f}\".format(\"F1-score\",np.mean(f1)*100,np.median(f1)*100,np.min(f1)*100,np.max(f1)*100))"
   ]
  },
  {
   "cell_type": "markdown",
   "id": "7bc909a4-45d0-47eb-974f-b724c7fcb250",
   "metadata": {},
   "source": [
    "precision = of all predictions how many are correct?\n",
    "\n",
    "recall = of all postions how many are predicted?\n",
    "\n",
    "precision high => predicted positions are correct\n",
    "\n",
    "recall low => a lot of positions are not predicted (due to post-processing or the model did not predict the chromosomes)\n"
   ]
  },
  {
   "cell_type": "code",
   "execution_count": null,
   "id": "721e826b-d5b3-4e16-9e5f-03d17916de62",
   "metadata": {},
   "outputs": [],
   "source": [
    "f1_bad = [i for i, x in enumerate(f1) if x < 0.8]     \n",
    "rec_bad = [i for i, x in enumerate(rec) if x < 0.8]                \n",
    "prec_bad = [i for i, x in enumerate(prec) if x < 0.8]"
   ]
  },
  {
   "cell_type": "code",
   "execution_count": null,
   "id": "fb09c5bb-1e27-499e-ac44-b273787b355a",
   "metadata": {},
   "outputs": [],
   "source": [
    "f1_good = [i for i, x in enumerate(f1) if x == 1]       \n",
    "rec_good = [i for i, x in enumerate(rec) if x == 1]             \n",
    "prec_good = [i for i, x in enumerate(prec) if x == 1]"
   ]
  },
  {
   "cell_type": "code",
   "execution_count": null,
   "id": "a6961d94-6b1b-48d1-b337-9033f5cc3dc2",
   "metadata": {},
   "outputs": [],
   "source": [
    "print(f1_bad)\n",
    "print(rec_bad)\n",
    "print(prec_bad)"
   ]
  },
  {
   "cell_type": "code",
   "execution_count": null,
   "id": "190ec4e5-84c0-461e-a2ef-6b4255f6bc2d",
   "metadata": {},
   "outputs": [],
   "source": [
    "print(f1_good)\n",
    "print(rec_good)\n",
    "print(prec_good)"
   ]
  },
  {
   "cell_type": "code",
   "execution_count": null,
   "id": "95e227b9-adb6-49f3-bc82-cab06ea1c75a",
   "metadata": {},
   "outputs": [],
   "source": [
    "bad = f1_bad + rec_bad + prec_bad\n",
    "bad = list(set(bad))"
   ]
  },
  {
   "cell_type": "code",
   "execution_count": null,
   "id": "0b69b8a4-efc5-41e1-9371-89dfc0241234",
   "metadata": {},
   "outputs": [],
   "source": [
    "good = f1_good + rec_good + prec_good\n",
    "good = list(set(good))"
   ]
  },
  {
   "cell_type": "code",
   "execution_count": null,
   "id": "5c4fe77b-ef20-40e0-abbf-7e617afaaa63",
   "metadata": {},
   "outputs": [],
   "source": [
    "bad.sort()\n",
    "print(bad)"
   ]
  },
  {
   "cell_type": "code",
   "execution_count": null,
   "id": "83cdf973-4840-4b5a-afcc-0b02d184574c",
   "metadata": {},
   "outputs": [],
   "source": [
    "good.sort\n",
    "print(good)"
   ]
  },
  {
   "cell_type": "code",
   "execution_count": null,
   "id": "9cb345c9-124c-4ade-8609-07b28a70d3e4",
   "metadata": {},
   "outputs": [],
   "source": [
    "for index in prec_good:\n",
    "    if rec[index] < 0.8:\n",
    "        print(index, \":\", rec[index])"
   ]
  },
  {
   "cell_type": "markdown",
   "id": "32096c50-0367-4ed2-a4b4-f8c8e38d6836",
   "metadata": {},
   "source": [
    "## Visual optimalization"
   ]
  },
  {
   "cell_type": "code",
   "execution_count": null,
   "id": "819c1137-a11c-420a-a20e-05b3a32f456d",
   "metadata": {
    "scrolled": true,
    "tags": []
   },
   "outputs": [],
   "source": [
    "#s = random.sample(range(len(val_predictions)),5)\n",
    "s = rec_good[0:10]\n",
    "\n",
    "for sample in s:\n",
    "    plots = []\n",
    "    \n",
    "    image = val[\"features\"][sample]\n",
    "    prediction = val_predictions[sample]\n",
    "    real_positions = val_coordinates[sample]\n",
    "    \n",
    "    # normalization\n",
    "    normalized = normalization(prediction)\n",
    "    normalized = (normalized*255).astype(\"uint8\")\n",
    "    plots.append(normalized)\n",
    "    \n",
    "    # blurring\n",
    "    if blurring:\n",
    "        blur_kernel = np.ones((blur_kernel_size, blur_kernel_size), np.float32)/blur_kernel_size**2\n",
    "        blurred = cv2.filter2D(src=normalized, ddepth=-1, kernel=blur_kernel)\n",
    "        plots.append(blurred)\n",
    "    else:\n",
    "        blurred = normalized\n",
    "\n",
    "    # thresholding\n",
    "    # thresholding\n",
    "    if str(threshold_technique) == cv2.THRESH_BINARY+cv2.THRESH_OTSU:\n",
    "        T = 255\n",
    "    else:\n",
    "        T = threshold\n",
    "    binary = cv2.threshold(blurred,0,T,threshold_technique)[1]\n",
    "    plots.append(binary)\n",
    "        \n",
    "    \"\"\"n_pixels , intensiteiten = exposure.histogram (blurred)\n",
    "    plt.figure()\n",
    "    plt.plot ( intensiteiten , n_pixels )\n",
    "    plt.xlim (xmin=0.1,xmax=0.2)\n",
    "    plt.xlabel (\"Intensity\")\n",
    "    plt.ylabel (\"Number of pixels\")\n",
    "    plt.tight_layout ()\"\"\"\n",
    "\n",
    "    # morpholoical operations\n",
    "    for morph_op in order_morphological_operations:\n",
    "        kernel_size = morphological_operations[morph_op][\"kernel_size\"]\n",
    "        it = morphological_operations[morph_op][\"iterations\"]\n",
    "        if kernel_shape == \"ellipse\":  \n",
    "            kernel = cv2.getStructuringElement(cv2.MORPH_ELLIPSE,(kernel_size, kernel_size))\n",
    "        elif kernel_shape == \"square\":\n",
    "            kernel = np.ones((kernel_size, kernel_size), np.uint8)\n",
    "        if morph_op==\"erosion\":\n",
    "            binary = cv2.erode(binary, kernel, iterations=it)\n",
    "        if morph_op==\"dilation\":\n",
    "            binary = cv2.dilate(binary, kernel, iterations=it)\n",
    "        if morph_op==\"opening\":\n",
    "            binary = cv2.morphologyEx(binary, cv2.MORPH_OPEN,kernel, iterations=it) \n",
    "        if morph_op==\"closing\":\n",
    "            binary = cv2.morphologyEx(binary, cv2.MORPH_CLOSE,kernel, iterations=it) \n",
    "        plots.append(binary)\n",
    "        \n",
    "    # labbeling\n",
    "    labelled = morphology.label(binary)\n",
    "    \n",
    "    # figure\n",
    "    plt.figure(figsize=(100,80))\n",
    "    for i,plot in enumerate(plots):\n",
    "        plt.subplot(1,len(plots)+2,i+2)\n",
    "        plt.imshow(plot, interpolation='none')\n",
    "        plt.scatter(*zip(*real_positions),s=5, c=\"orange\")\n",
    "        plt.axis(\"off\")\n",
    "    plt.subplot(1,len(plots)+2,1)\n",
    "    plt.imshow(image, cmap=\"gray\")\n",
    "    plt.scatter(*zip(*real_positions),s=5, c=\"orange\")\n",
    "    plt.axis(\"off\")\n",
    "    plt.subplot(1,len(plots)+2,len(plots)+2)\n",
    "    plt.imshow(labelled, cmap=\"nipy_spectral\")\n",
    "    plt.scatter(*zip(*real_positions),s=5, c=\"gray\")\n",
    "    plt.scatter(*zip(*centroid(labelled)),s=5, c=\"w\", marker=\"X\")\n",
    "    plt.axis(\"off\")\n",
    "    "
   ]
  },
  {
   "cell_type": "code",
   "execution_count": null,
   "id": "bb58cd5b-bd93-4216-b876-f1d058875c51",
   "metadata": {},
   "outputs": [],
   "source": [
    "i = 72\n",
    "\n",
    "plots = [val[\"features\"][i], val[\"targets\"][i], val_predictions[i]]\n",
    "\n",
    "plt.figure(figsize=(100,75))\n",
    "for j in range(3):\n",
    "    plt.subplot(1,3,j+1)\n",
    "    plt.imshow(plots[j], interpolation='none')\n",
    "    if j == 0:\n",
    "        plt.scatter(*zip(*val_coordinates[i]),s=50, c=\"orange\")"
   ]
  },
  {
   "cell_type": "code",
   "execution_count": null,
   "id": "10984a28-001c-496e-a177-4b3050da17fe",
   "metadata": {},
   "outputs": [],
   "source": [
    "plt.imsave(os.path.join(\"Images thesis\", \"Target.png\"), arr= val[\"targets\"][1], cmap=\"nipy_spectral\", format=\"png\")"
   ]
  },
  {
   "cell_type": "code",
   "execution_count": null,
   "id": "863534e4-f2da-473e-9331-096000c760b3",
   "metadata": {},
   "outputs": [],
   "source": []
  }
 ],
 "metadata": {
  "kernelspec": {
   "display_name": "kiwibes_clone",
   "language": "python",
   "name": "kiwibes_clone"
  },
  "language_info": {
   "codemirror_mode": {
    "name": "ipython",
    "version": 3
   },
   "file_extension": ".py",
   "mimetype": "text/x-python",
   "name": "python",
   "nbconvert_exporter": "python",
   "pygments_lexer": "ipython3",
   "version": "3.9.12"
  },
  "toc-autonumbering": false
 },
 "nbformat": 4,
 "nbformat_minor": 5
}
