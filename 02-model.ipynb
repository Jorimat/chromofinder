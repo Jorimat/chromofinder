{
 "cells": [
  {
   "cell_type": "code",
   "execution_count": 1,
   "id": "c3e41383-812a-4ca2-9b2a-657fa5d93caf",
   "metadata": {},
   "outputs": [
    {
     "name": "stderr",
     "output_type": "stream",
     "text": [
      "2023-09-11 19:57:13.282654: I tensorflow/core/platform/cpu_feature_guard.cc:193] This TensorFlow binary is optimized with oneAPI Deep Neural Network Library (oneDNN) to use the following CPU instructions in performance-critical operations:  AVX2 AVX512F FMA\n",
      "To enable them in other operations, rebuild TensorFlow with the appropriate compiler flags.\n",
      "2023-09-11 19:57:14.046841: E tensorflow/stream_executor/cuda/cuda_blas.cc:2981] Unable to register cuBLAS factory: Attempting to register factory for plugin cuBLAS when one has already been registered\n",
      "2023-09-11 19:57:16.537597: W tensorflow/stream_executor/platform/default/dso_loader.cc:64] Could not load dynamic library 'libnvinfer.so.7'; dlerror: libnvinfer.so.7: cannot open shared object file: No such file or directory; LD_LIBRARY_PATH: :/data/Anaconda3/envs/model_maker_object_detection_tutorial/lib/:/data/Anaconda3/envs/kiwibes/lib/\n",
      "2023-09-11 19:57:16.537802: W tensorflow/stream_executor/platform/default/dso_loader.cc:64] Could not load dynamic library 'libnvinfer_plugin.so.7'; dlerror: libnvinfer_plugin.so.7: cannot open shared object file: No such file or directory; LD_LIBRARY_PATH: :/data/Anaconda3/envs/model_maker_object_detection_tutorial/lib/:/data/Anaconda3/envs/kiwibes/lib/\n",
      "2023-09-11 19:57:16.537814: W tensorflow/compiler/tf2tensorrt/utils/py_utils.cc:38] TF-TRT Warning: Cannot dlopen some TensorRT libraries. If you would like to use Nvidia GPU with TensorRT, please make sure the missing libraries mentioned above are installed properly.\n"
     ]
    },
    {
     "name": "stdout",
     "output_type": "stream",
     "text": [
      "Num GPUs Available:  1\n",
      "[PhysicalDevice(name='/physical_device:GPU:0', device_type='GPU')]\n"
     ]
    }
   ],
   "source": [
    "import os\n",
    "\n",
    "os.environ[\"CUDA_VISIBLE_DEVICES\"]=\"1\" # NVIDIA GeForce RTX 3090\n",
    "# os.environ[\"CUDA_VISIBLE_DEVICES\"]=\"7\" # NVIDIA GeForce RTX 2080\n",
    "\n",
    "import tensorflow.compat.v2 as tf\n",
    "print(\"Num GPUs Available: \", len(tf.config.experimental.list_physical_devices('GPU')))\n",
    "gpus = tf.config.experimental.list_physical_devices('GPU')\n",
    "\n",
    "print(gpus)"
   ]
  },
  {
   "cell_type": "code",
   "execution_count": 2,
   "id": "a2bb07ca-a039-45b3-ba9c-d185237d29b6",
   "metadata": {},
   "outputs": [],
   "source": [
    "import glob, os, shutil, re, random\n",
    "import matplotlib.pyplot as plt\n",
    "import numpy as np\n",
    "import h5py\n",
    "\n",
    "import random\n",
    "import enum\n",
    "import numpy as np\n",
    "import cv2\n",
    "import imageio as iio\n",
    "import matplotlib.pyplot as plt\n",
    "import tensorflow as tf\n",
    "import tensorflow.keras.layers as layers\n",
    "from skimage import data, draw, io\n",
    "import os, shutil\n",
    "import glob, re\n",
    "from scipy.interpolate import RegularGridInterpolator\n",
    "import pandas as pd\n",
    "import keras\n",
    "\n",
    "from functions import *\n",
    "from parameters import *\n"
   ]
  },
  {
   "cell_type": "code",
   "execution_count": 3,
   "id": "1a55f18b-cdfa-42da-894f-ecacf0417fbe",
   "metadata": {},
   "outputs": [
    {
     "name": "stdout",
     "output_type": "stream",
     "text": [
      "2048\n"
     ]
    }
   ],
   "source": [
    "print(side)"
   ]
  },
  {
   "cell_type": "markdown",
   "id": "76330b81-7c74-4697-bb6a-bce095230e0c",
   "metadata": {},
   "source": [
    "# Input"
   ]
  },
  {
   "cell_type": "code",
   "execution_count": 4,
   "id": "a9d45a4b-4b83-44d8-9e48-c3b06bd0cbc1",
   "metadata": {},
   "outputs": [
    {
     "name": "stdout",
     "output_type": "stream",
     "text": [
      "batch_size: 2\n"
     ]
    }
   ],
   "source": [
    "batch_size = calculate_batch_size(side)\n",
    "print('batch_size:', batch_size)"
   ]
  },
  {
   "cell_type": "markdown",
   "id": "eaf2ba7f-d84e-49b2-82a5-1d4a63b61d48",
   "metadata": {
    "tags": []
   },
   "source": [
    "# Clean start"
   ]
  },
  {
   "cell_type": "code",
   "execution_count": 5,
   "id": "ffa111ea-6d76-4c5a-bac7-f38351c42767",
   "metadata": {},
   "outputs": [
    {
     "name": "stdout",
     "output_type": "stream",
     "text": [
      "/data/home/jorism/models/kiwibes2023-unet-006-2048x2048-11_contractions False\n"
     ]
    }
   ],
   "source": [
    "print(folderModel, os.path.exists(folderModel))\n",
    "if os.path.exists(folderModel):\n",
    "    shutil.rmtree(folderModel)\n",
    "os.mkdir(folderModel)"
   ]
  },
  {
   "cell_type": "markdown",
   "id": "de3c72b2-57e3-4fca-8f5d-c7bd43f18cc4",
   "metadata": {},
   "source": [
    "# Generators"
   ]
  },
  {
   "cell_type": "code",
   "execution_count": 6,
   "id": "6776036d-2927-448f-9116-443e001c1d13",
   "metadata": {},
   "outputs": [],
   "source": [
    "# Make generators\n",
    "train_gen = create_hdf5_generator(fileHDFTrain, batch_size, keys = ['features', 'targets'])\n",
    "test_gen  = create_hdf5_generator(fileHDFTest,  batch_size, keys = ['features', 'targets'])"
   ]
  },
  {
   "cell_type": "code",
   "execution_count": 7,
   "id": "e846bffa-55ac-47b4-9837-e78f437e2124",
   "metadata": {},
   "outputs": [],
   "source": [
    "# # Check train generator one batch; run this several times to see different batches\n",
    "# features, targets = next(train_gen)\n",
    "\n",
    "# for i in range(batch_size):\n",
    "#     n_img_feat = features.shape[-1]//3\n",
    "#     plt.figure(figsize=(20,8))\n",
    "#     for s in range(n_img_feat):\n",
    "#         subplot_num = 100 + 10*n_img_feat + 10 + s + 1\n",
    "#         plt.subplot(subplot_num) \n",
    "#         plt.imshow(features[i, :, :, s*3:s*3+3])\n",
    "#     plt.subplot(subplot_num + 1)\n",
    "#     plt.imshow(targets[i])\n",
    "#     plt.show() "
   ]
  },
  {
   "cell_type": "code",
   "execution_count": 8,
   "id": "94a1499d-20b1-47ef-bb34-593afd6103eb",
   "metadata": {},
   "outputs": [],
   "source": [
    "# # Check test generator one batch; run this several times to see different batches\n",
    "# features, targets = next(test_gen)\n",
    "\n",
    "# for i in range(batch_size):\n",
    "#     n_img_feat = features.shape[-1]//3\n",
    "#     plt.figure(figsize=(20,8))\n",
    "#     for s in range(n_img_feat):\n",
    "#         subplot_num = 100 + 10*n_img_feat + 10 + s + 1\n",
    "#         plt.subplot(subplot_num) \n",
    "#         plt.imshow(features[i, :, :, s*3:s*3+3])\n",
    "#     plt.subplot(subplot_num + 1)\n",
    "#     plt.imshow(targets[i])\n",
    "#     plt.show() "
   ]
  },
  {
   "cell_type": "markdown",
   "id": "38af0839-d8d8-4666-8147-ce08553f752f",
   "metadata": {},
   "source": [
    "# Model"
   ]
  },
  {
   "cell_type": "code",
   "execution_count": 9,
   "id": "e1dd2449-6bbb-4622-9b01-2c3b260d7ebd",
   "metadata": {},
   "outputs": [
    {
     "name": "stdout",
     "output_type": "stream",
     "text": [
      "n_train: 1120\n",
      "n_test: 284\n",
      "c_feat: 6\n"
     ]
    }
   ],
   "source": [
    "# Find size of train and test sets\n",
    "db = h5py.File(fileHDFTrain, 'r')\n",
    "n_train = db['features'].shape[0]\n",
    "c_feat  = db['features'].shape[-1]\n",
    "db.close()\n",
    "\n",
    "db = h5py.File(fileHDFTest, 'r')\n",
    "n_test = db['features'].shape[0]\n",
    "db.close()\n",
    "\n",
    "print('n_train:', n_train)\n",
    "print('n_test:', n_test)\n",
    "print('c_feat:', c_feat)\n"
   ]
  },
  {
   "cell_type": "code",
   "execution_count": 10,
   "id": "1b80c20f-549a-4c5e-88d4-194993e0490a",
   "metadata": {},
   "outputs": [
    {
     "name": "stdout",
     "output_type": "stream",
     "text": [
      "epochs: 25\n",
      "steps_per_epoch: 560\n",
      "validation_steps: 142\n"
     ]
    }
   ],
   "source": [
    "# Calculate number of steps per epoch for train and validation\n",
    "steps_per_epoch = n_train//batch_size\n",
    "validation_steps = n_test//batch_size\n",
    "\n",
    "print('epochs:', epochs)\n",
    "print('steps_per_epoch:', steps_per_epoch)\n",
    "print('validation_steps:', validation_steps)"
   ]
  },
  {
   "cell_type": "code",
   "execution_count": 11,
   "id": "fb0da39a-e7a8-4406-91b9-f021aba5ad2e",
   "metadata": {},
   "outputs": [
    {
     "name": "stderr",
     "output_type": "stream",
     "text": [
      "2023-09-11 19:57:21.619046: I tensorflow/core/platform/cpu_feature_guard.cc:193] This TensorFlow binary is optimized with oneAPI Deep Neural Network Library (oneDNN) to use the following CPU instructions in performance-critical operations:  AVX2 AVX512F FMA\n",
      "To enable them in other operations, rebuild TensorFlow with the appropriate compiler flags.\n",
      "2023-09-11 19:57:23.687033: I tensorflow/core/common_runtime/gpu/gpu_device.cc:1616] Created device /job:localhost/replica:0/task:0/device:GPU:0 with 22297 MB memory:  -> device: 0, name: NVIDIA GeForce RTX 3090, pci bus id: 0000:1e:00.0, compute capability: 8.6\n"
     ]
    },
    {
     "name": "stdout",
     "output_type": "stream",
     "text": [
      "\n",
      "TRAINING MODEL 0 /data/home/jorism/models/kiwibes2023-unet-006-2048x2048-11_contractions\n",
      "WARNING:tensorflow:Using a while_loop for converting RngReadAndSkip cause there is no registered converter for this op.\n",
      "WARNING:tensorflow:Using a while_loop for converting Bitcast cause there is no registered converter for this op.\n",
      "WARNING:tensorflow:Using a while_loop for converting Bitcast cause there is no registered converter for this op.\n",
      "WARNING:tensorflow:Using a while_loop for converting StatelessRandomUniformV2 cause there is no registered converter for this op.\n",
      "WARNING:tensorflow:Using a while_loop for converting ImageProjectiveTransformV3 cause there is no registered converter for this op.\n",
      "WARNING:tensorflow:Using a while_loop for converting RngReadAndSkip cause there is no registered converter for this op.\n",
      "WARNING:tensorflow:Using a while_loop for converting Bitcast cause there is no registered converter for this op.\n",
      "WARNING:tensorflow:Using a while_loop for converting Bitcast cause there is no registered converter for this op.\n",
      "WARNING:tensorflow:Using a while_loop for converting StatelessRandomUniformV2 cause there is no registered converter for this op.\n",
      "WARNING:tensorflow:Using a while_loop for converting RngReadAndSkip cause there is no registered converter for this op.\n",
      "WARNING:tensorflow:Using a while_loop for converting Bitcast cause there is no registered converter for this op.\n",
      "WARNING:tensorflow:Using a while_loop for converting Bitcast cause there is no registered converter for this op.\n",
      "WARNING:tensorflow:Using a while_loop for converting StatelessRandomUniformV2 cause there is no registered converter for this op.\n",
      "WARNING:tensorflow:Using a while_loop for converting ImageProjectiveTransformV3 cause there is no registered converter for this op.\n",
      "WARNING:tensorflow:Using a while_loop for converting RngReadAndSkip cause there is no registered converter for this op.\n",
      "WARNING:tensorflow:Using a while_loop for converting Bitcast cause there is no registered converter for this op.\n",
      "WARNING:tensorflow:Using a while_loop for converting Bitcast cause there is no registered converter for this op.\n",
      "WARNING:tensorflow:Using a while_loop for converting StatelessRandomUniformV2 cause there is no registered converter for this op.\n"
     ]
    },
    {
     "name": "stderr",
     "output_type": "stream",
     "text": [
      "2023-09-11 19:57:36.970992: W tensorflow/core/common_runtime/bfc_allocator.cc:479] Allocator (GPU_0_bfc) ran out of memory trying to allocate 9.00GiB (rounded to 9663676416)requested by op StatelessTruncatedNormalV2\n",
      "If the cause is memory fragmentation maybe the environment variable 'TF_GPU_ALLOCATOR=cuda_malloc_async' will improve the situation. \n",
      "Current allocation summary follows.\n",
      "Current allocation summary follows.\n",
      "2023-09-11 19:57:36.971077: I tensorflow/core/common_runtime/bfc_allocator.cc:1033] BFCAllocator dump for GPU_0_bfc\n",
      "2023-09-11 19:57:36.971110: I tensorflow/core/common_runtime/bfc_allocator.cc:1040] Bin (256): \tTotal Chunks: 39, Chunks in use: 39. 9.8KiB allocated for chunks. 9.8KiB in use in bin. 2.8KiB client-requested in use in bin.\n",
      "2023-09-11 19:57:36.971137: I tensorflow/core/common_runtime/bfc_allocator.cc:1040] Bin (512): \tTotal Chunks: 6, Chunks in use: 6. 3.0KiB allocated for chunks. 3.0KiB in use in bin. 3.0KiB client-requested in use in bin.\n",
      "2023-09-11 19:57:36.971160: I tensorflow/core/common_runtime/bfc_allocator.cc:1040] Bin (1024): \tTotal Chunks: 7, Chunks in use: 7. 7.2KiB allocated for chunks. 7.2KiB in use in bin. 7.0KiB client-requested in use in bin.\n",
      "2023-09-11 19:57:36.971187: I tensorflow/core/common_runtime/bfc_allocator.cc:1040] Bin (2048): \tTotal Chunks: 7, Chunks in use: 7. 15.5KiB allocated for chunks. 15.5KiB in use in bin. 15.4KiB client-requested in use in bin.\n",
      "2023-09-11 19:57:36.971212: I tensorflow/core/common_runtime/bfc_allocator.cc:1040] Bin (4096): \tTotal Chunks: 6, Chunks in use: 6. 27.8KiB allocated for chunks. 27.8KiB in use in bin. 24.0KiB client-requested in use in bin.\n",
      "2023-09-11 19:57:36.971236: I tensorflow/core/common_runtime/bfc_allocator.cc:1040] Bin (8192): \tTotal Chunks: 8, Chunks in use: 7. 67.5KiB allocated for chunks. 57.0KiB in use in bin. 57.0KiB client-requested in use in bin.\n",
      "2023-09-11 19:57:36.971262: I tensorflow/core/common_runtime/bfc_allocator.cc:1040] Bin (16384): \tTotal Chunks: 7, Chunks in use: 7. 122.0KiB allocated for chunks. 122.0KiB in use in bin. 114.0KiB client-requested in use in bin.\n",
      "2023-09-11 19:57:36.971287: I tensorflow/core/common_runtime/bfc_allocator.cc:1040] Bin (32768): \tTotal Chunks: 7, Chunks in use: 7. 228.0KiB allocated for chunks. 228.0KiB in use in bin. 228.0KiB client-requested in use in bin.\n",
      "2023-09-11 19:57:36.971311: I tensorflow/core/common_runtime/bfc_allocator.cc:1040] Bin (65536): \tTotal Chunks: 6, Chunks in use: 6. 424.0KiB allocated for chunks. 424.0KiB in use in bin. 392.0KiB client-requested in use in bin.\n",
      "2023-09-11 19:57:36.971336: I tensorflow/core/common_runtime/bfc_allocator.cc:1040] Bin (131072): \tTotal Chunks: 1, Chunks in use: 1. 144.0KiB allocated for chunks. 144.0KiB in use in bin. 144.0KiB client-requested in use in bin.\n",
      "2023-09-11 19:57:36.971360: I tensorflow/core/common_runtime/bfc_allocator.cc:1040] Bin (262144): \tTotal Chunks: 1, Chunks in use: 1. 288.0KiB allocated for chunks. 288.0KiB in use in bin. 288.0KiB client-requested in use in bin.\n",
      "2023-09-11 19:57:36.971385: I tensorflow/core/common_runtime/bfc_allocator.cc:1040] Bin (524288): \tTotal Chunks: 1, Chunks in use: 1. 576.0KiB allocated for chunks. 576.0KiB in use in bin. 576.0KiB client-requested in use in bin.\n",
      "2023-09-11 19:57:36.971408: I tensorflow/core/common_runtime/bfc_allocator.cc:1040] Bin (1048576): \tTotal Chunks: 3, Chunks in use: 1. 3.38MiB allocated for chunks. 1.12MiB in use in bin. 1.12MiB client-requested in use in bin.\n",
      "2023-09-11 19:57:36.971432: I tensorflow/core/common_runtime/bfc_allocator.cc:1040] Bin (2097152): \tTotal Chunks: 1, Chunks in use: 1. 2.25MiB allocated for chunks. 2.25MiB in use in bin. 2.25MiB client-requested in use in bin.\n",
      "2023-09-11 19:57:36.971456: I tensorflow/core/common_runtime/bfc_allocator.cc:1040] Bin (4194304): \tTotal Chunks: 3, Chunks in use: 1. 13.50MiB allocated for chunks. 4.50MiB in use in bin. 4.50MiB client-requested in use in bin.\n",
      "2023-09-11 19:57:36.971480: I tensorflow/core/common_runtime/bfc_allocator.cc:1040] Bin (8388608): \tTotal Chunks: 1, Chunks in use: 1. 9.00MiB allocated for chunks. 9.00MiB in use in bin. 9.00MiB client-requested in use in bin.\n",
      "2023-09-11 19:57:36.971504: I tensorflow/core/common_runtime/bfc_allocator.cc:1040] Bin (16777216): \tTotal Chunks: 3, Chunks in use: 1. 54.00MiB allocated for chunks. 18.00MiB in use in bin. 18.00MiB client-requested in use in bin.\n",
      "2023-09-11 19:57:36.971529: I tensorflow/core/common_runtime/bfc_allocator.cc:1040] Bin (33554432): \tTotal Chunks: 1, Chunks in use: 1. 36.00MiB allocated for chunks. 36.00MiB in use in bin. 36.00MiB client-requested in use in bin.\n",
      "2023-09-11 19:57:36.971558: I tensorflow/core/common_runtime/bfc_allocator.cc:1040] Bin (67108864): \tTotal Chunks: 3, Chunks in use: 1. 216.00MiB allocated for chunks. 72.00MiB in use in bin. 72.00MiB client-requested in use in bin.\n",
      "2023-09-11 19:57:36.971584: I tensorflow/core/common_runtime/bfc_allocator.cc:1040] Bin (134217728): \tTotal Chunks: 1, Chunks in use: 1. 144.00MiB allocated for chunks. 144.00MiB in use in bin. 144.00MiB client-requested in use in bin.\n",
      "2023-09-11 19:57:36.971609: I tensorflow/core/common_runtime/bfc_allocator.cc:1040] Bin (268435456): \tTotal Chunks: 12, Chunks in use: 5. 21.31GiB allocated for chunks. 8.72GiB in use in bin. 8.72GiB client-requested in use in bin.\n",
      "2023-09-11 19:57:36.971634: I tensorflow/core/common_runtime/bfc_allocator.cc:1056] Bin for 9.00GiB was 256.00MiB, Chunk State: \n",
      "2023-09-11 19:57:36.971676: I tensorflow/core/common_runtime/bfc_allocator.cc:1062]   Size: 288.00MiB | Requested Size: 288.00MiB | in_use: 0 | bin_num: 20, prev:   Size: 72.00MiB | Requested Size: 72.00MiB | in_use: 1 | bin_num: -1, next:   Size: 144.00MiB | Requested Size: 144.00MiB | in_use: 1 | bin_num: -1\n",
      "2023-09-11 19:57:36.971708: I tensorflow/core/common_runtime/bfc_allocator.cc:1062]   Size: 288.00MiB | Requested Size: 288.00MiB | in_use: 0 | bin_num: 20, prev:   Size: 144.00MiB | Requested Size: 144.00MiB | in_use: 1 | bin_num: -1, next:   Size: 288.00MiB | Requested Size: 288.00MiB | in_use: 1 | bin_num: -1\n",
      "2023-09-11 19:57:36.971736: I tensorflow/core/common_runtime/bfc_allocator.cc:1062]   Size: 793.69MiB | Requested Size: 0B | in_use: 0 | bin_num: 20, prev:   Size: 4.50GiB | Requested Size: 4.50GiB | in_use: 1 | bin_num: -1\n",
      "2023-09-11 19:57:36.971767: I tensorflow/core/common_runtime/bfc_allocator.cc:1062]   Size: 1.12GiB | Requested Size: 1.12GiB | in_use: 0 | bin_num: 20, prev:   Size: 288.00MiB | Requested Size: 288.00MiB | in_use: 1 | bin_num: -1, next:   Size: 576.00MiB | Requested Size: 576.00MiB | in_use: 1 | bin_num: -1\n",
      "2023-09-11 19:57:36.971795: I tensorflow/core/common_runtime/bfc_allocator.cc:1062]   Size: 1.12GiB | Requested Size: 1.12GiB | in_use: 0 | bin_num: 20, prev:   Size: 576.00MiB | Requested Size: 576.00MiB | in_use: 1 | bin_num: -1, next:   Size: 1.12GiB | Requested Size: 1.12GiB | in_use: 1 | bin_num: -1\n",
      "2023-09-11 19:57:36.971822: I tensorflow/core/common_runtime/bfc_allocator.cc:1062]   Size: 4.50GiB | Requested Size: 4.50GiB | in_use: 0 | bin_num: 20, prev:   Size: 1.12GiB | Requested Size: 1.12GiB | in_use: 1 | bin_num: -1, next:   Size: 2.25GiB | Requested Size: 2.25GiB | in_use: 1 | bin_num: -1\n",
      "2023-09-11 19:57:36.971848: I tensorflow/core/common_runtime/bfc_allocator.cc:1062]   Size: 4.50GiB | Requested Size: 4.50GiB | in_use: 0 | bin_num: 20, prev:   Size: 2.25GiB | Requested Size: 2.25GiB | in_use: 1 | bin_num: -1, next:   Size: 4.50GiB | Requested Size: 4.50GiB | in_use: 1 | bin_num: -1\n",
      "2023-09-11 19:57:36.971866: I tensorflow/core/common_runtime/bfc_allocator.cc:1069] Next region of size 23380819968\n",
      "2023-09-11 19:57:36.971890: I tensorflow/core/common_runtime/bfc_allocator.cc:1089] InUse at 7f2836000000 of size 256 next 1\n",
      "2023-09-11 19:57:36.971909: I tensorflow/core/common_runtime/bfc_allocator.cc:1089] InUse at 7f2836000100 of size 1280 next 2\n",
      "2023-09-11 19:57:36.971927: I tensorflow/core/common_runtime/bfc_allocator.cc:1089] InUse at 7f2836000600 of size 256 next 3\n",
      "2023-09-11 19:57:36.971944: I tensorflow/core/common_runtime/bfc_allocator.cc:1089] InUse at 7f2836000700 of size 256 next 4\n",
      "2023-09-11 19:57:36.971962: I tensorflow/core/common_runtime/bfc_allocator.cc:1089] InUse at 7f2836000800 of size 256 next 5\n",
      "2023-09-11 19:57:36.971980: I tensorflow/core/common_runtime/bfc_allocator.cc:1089] InUse at 7f2836000900 of size 256 next 6\n",
      "2023-09-11 19:57:36.971998: I tensorflow/core/common_runtime/bfc_allocator.cc:1089] InUse at 7f2836000a00 of size 256 next 7\n",
      "2023-09-11 19:57:36.972017: I tensorflow/core/common_runtime/bfc_allocator.cc:1089] InUse at 7f2836000b00 of size 256 next 9\n",
      "2023-09-11 19:57:36.972035: I tensorflow/core/common_runtime/bfc_allocator.cc:1089] InUse at 7f2836000c00 of size 256 next 10\n",
      "2023-09-11 19:57:36.972052: I tensorflow/core/common_runtime/bfc_allocator.cc:1089] InUse at 7f2836000d00 of size 256 next 8\n",
      "2023-09-11 19:57:36.972070: I tensorflow/core/common_runtime/bfc_allocator.cc:1089] InUse at 7f2836000e00 of size 256 next 15\n",
      "2023-09-11 19:57:36.972087: I tensorflow/core/common_runtime/bfc_allocator.cc:1089] InUse at 7f2836000f00 of size 256 next 13\n",
      "2023-09-11 19:57:36.972104: I tensorflow/core/common_runtime/bfc_allocator.cc:1089] InUse at 7f2836001000 of size 256 next 14\n",
      "2023-09-11 19:57:36.972122: I tensorflow/core/common_runtime/bfc_allocator.cc:1089] InUse at 7f2836001100 of size 256 next 18\n",
      "2023-09-11 19:57:36.972139: I tensorflow/core/common_runtime/bfc_allocator.cc:1089] InUse at 7f2836001200 of size 256 next 19\n",
      "2023-09-11 19:57:36.972156: I tensorflow/core/common_runtime/bfc_allocator.cc:1089] InUse at 7f2836001300 of size 256 next 20\n",
      "2023-09-11 19:57:36.972173: I tensorflow/core/common_runtime/bfc_allocator.cc:1089] InUse at 7f2836001400 of size 256 next 21\n",
      "2023-09-11 19:57:36.972190: I tensorflow/core/common_runtime/bfc_allocator.cc:1089] InUse at 7f2836001500 of size 256 next 22\n",
      "2023-09-11 19:57:36.972207: I tensorflow/core/common_runtime/bfc_allocator.cc:1089] InUse at 7f2836001600 of size 256 next 27\n",
      "2023-09-11 19:57:36.972224: I tensorflow/core/common_runtime/bfc_allocator.cc:1089] InUse at 7f2836001700 of size 256 next 25\n",
      "2023-09-11 19:57:36.972242: I tensorflow/core/common_runtime/bfc_allocator.cc:1089] InUse at 7f2836001800 of size 256 next 26\n",
      "2023-09-11 19:57:36.972259: I tensorflow/core/common_runtime/bfc_allocator.cc:1089] InUse at 7f2836001900 of size 256 next 30\n",
      "2023-09-11 19:57:36.972276: I tensorflow/core/common_runtime/bfc_allocator.cc:1089] InUse at 7f2836001a00 of size 256 next 31\n",
      "2023-09-11 19:57:36.972293: I tensorflow/core/common_runtime/bfc_allocator.cc:1089] InUse at 7f2836001b00 of size 256 next 32\n",
      "2023-09-11 19:57:36.972310: I tensorflow/core/common_runtime/bfc_allocator.cc:1089] InUse at 7f2836001c00 of size 256 next 33\n",
      "2023-09-11 19:57:36.972327: I tensorflow/core/common_runtime/bfc_allocator.cc:1089] InUse at 7f2836001d00 of size 256 next 38\n",
      "2023-09-11 19:57:36.972344: I tensorflow/core/common_runtime/bfc_allocator.cc:1089] InUse at 7f2836001e00 of size 256 next 36\n",
      "2023-09-11 19:57:36.972361: I tensorflow/core/common_runtime/bfc_allocator.cc:1089] InUse at 7f2836001f00 of size 256 next 37\n",
      "2023-09-11 19:57:36.972379: I tensorflow/core/common_runtime/bfc_allocator.cc:1089] InUse at 7f2836002000 of size 256 next 41\n",
      "2023-09-11 19:57:36.972396: I tensorflow/core/common_runtime/bfc_allocator.cc:1089] InUse at 7f2836002100 of size 256 next 42\n",
      "2023-09-11 19:57:36.972415: I tensorflow/core/common_runtime/bfc_allocator.cc:1089] InUse at 7f2836002200 of size 512 next 43\n",
      "2023-09-11 19:57:36.972434: I tensorflow/core/common_runtime/bfc_allocator.cc:1089] InUse at 7f2836002400 of size 256 next 44\n",
      "2023-09-11 19:57:36.972451: I tensorflow/core/common_runtime/bfc_allocator.cc:1089] InUse at 7f2836002500 of size 512 next 49\n",
      "2023-09-11 19:57:36.972468: I tensorflow/core/common_runtime/bfc_allocator.cc:1089] InUse at 7f2836002700 of size 512 next 11\n",
      "2023-09-11 19:57:36.972487: I tensorflow/core/common_runtime/bfc_allocator.cc:1089] InUse at 7f2836002900 of size 3584 next 12\n",
      "2023-09-11 19:57:36.972505: I tensorflow/core/common_runtime/bfc_allocator.cc:1089] InUse at 7f2836003700 of size 512 next 47\n",
      "2023-09-11 19:57:36.972523: I tensorflow/core/common_runtime/bfc_allocator.cc:1089] InUse at 7f2836003900 of size 512 next 48\n",
      "2023-09-11 19:57:36.972540: I tensorflow/core/common_runtime/bfc_allocator.cc:1089] InUse at 7f2836003b00 of size 512 next 52\n",
      "2023-09-11 19:57:36.972558: I tensorflow/core/common_runtime/bfc_allocator.cc:1089] InUse at 7f2836003d00 of size 1024 next 53\n",
      "2023-09-11 19:57:36.972575: I tensorflow/core/common_runtime/bfc_allocator.cc:1089] InUse at 7f2836004100 of size 256 next 54\n",
      "2023-09-11 19:57:36.972592: I tensorflow/core/common_runtime/bfc_allocator.cc:1089] InUse at 7f2836004200 of size 1024 next 59\n",
      "2023-09-11 19:57:36.972610: I tensorflow/core/common_runtime/bfc_allocator.cc:1089] InUse at 7f2836004600 of size 1024 next 57\n",
      "2023-09-11 19:57:36.972627: I tensorflow/core/common_runtime/bfc_allocator.cc:1089] InUse at 7f2836004a00 of size 1024 next 58\n",
      "2023-09-11 19:57:36.972644: I tensorflow/core/common_runtime/bfc_allocator.cc:1089] InUse at 7f2836004e00 of size 1024 next 62\n",
      "2023-09-11 19:57:36.972662: I tensorflow/core/common_runtime/bfc_allocator.cc:1089] InUse at 7f2836005200 of size 1024 next 63\n",
      "2023-09-11 19:57:36.972680: I tensorflow/core/common_runtime/bfc_allocator.cc:1089] InUse at 7f2836005600 of size 2048 next 64\n",
      "2023-09-11 19:57:36.972698: I tensorflow/core/common_runtime/bfc_allocator.cc:1089] InUse at 7f2836005e00 of size 256 next 65\n",
      "2023-09-11 19:57:36.972716: I tensorflow/core/common_runtime/bfc_allocator.cc:1089] InUse at 7f2836005f00 of size 2048 next 70\n",
      "2023-09-11 19:57:36.972734: I tensorflow/core/common_runtime/bfc_allocator.cc:1089] InUse at 7f2836006700 of size 2048 next 68\n",
      "2023-09-11 19:57:36.972753: I tensorflow/core/common_runtime/bfc_allocator.cc:1089] InUse at 7f2836006f00 of size 2048 next 69\n",
      "2023-09-11 19:57:36.972770: I tensorflow/core/common_runtime/bfc_allocator.cc:1089] InUse at 7f2836007700 of size 2048 next 16\n",
      "2023-09-11 19:57:36.972788: I tensorflow/core/common_runtime/bfc_allocator.cc:1089] InUse at 7f2836007f00 of size 9216 next 17\n",
      "2023-09-11 19:57:36.972805: I tensorflow/core/common_runtime/bfc_allocator.cc:1089] InUse at 7f283600a300 of size 2048 next 73\n",
      "2023-09-11 19:57:36.972823: I tensorflow/core/common_runtime/bfc_allocator.cc:1089] InUse at 7f283600ab00 of size 4096 next 74\n",
      "2023-09-11 19:57:36.972844: I tensorflow/core/common_runtime/bfc_allocator.cc:1089] InUse at 7f283600bb00 of size 256 next 75\n",
      "2023-09-11 19:57:36.972861: I tensorflow/core/common_runtime/bfc_allocator.cc:1089] InUse at 7f283600bc00 of size 4096 next 80\n",
      "2023-09-11 19:57:36.972879: I tensorflow/core/common_runtime/bfc_allocator.cc:1089] InUse at 7f283600cc00 of size 7936 next 23\n",
      "2023-09-11 19:57:36.972897: I tensorflow/core/common_runtime/bfc_allocator.cc:1089] InUse at 7f283600eb00 of size 18432 next 24\n",
      "2023-09-11 19:57:36.972915: I tensorflow/core/common_runtime/bfc_allocator.cc:1089] InUse at 7f2836013300 of size 4096 next 78\n",
      "2023-09-11 19:57:36.972932: I tensorflow/core/common_runtime/bfc_allocator.cc:1089] InUse at 7f2836014300 of size 4096 next 79\n",
      "2023-09-11 19:57:36.972950: I tensorflow/core/common_runtime/bfc_allocator.cc:1089] InUse at 7f2836015300 of size 4096 next 83\n",
      "2023-09-11 19:57:36.972967: I tensorflow/core/common_runtime/bfc_allocator.cc:1089] InUse at 7f2836016300 of size 8192 next 84\n",
      "2023-09-11 19:57:36.972985: I tensorflow/core/common_runtime/bfc_allocator.cc:1089] InUse at 7f2836018300 of size 256 next 85\n",
      "2023-09-11 19:57:36.973003: I tensorflow/core/common_runtime/bfc_allocator.cc:1089] InUse at 7f2836018400 of size 8192 next 90\n",
      "2023-09-11 19:57:36.973020: I tensorflow/core/common_runtime/bfc_allocator.cc:1089] InUse at 7f283601a400 of size 8192 next 88\n",
      "2023-09-11 19:57:36.973038: I tensorflow/core/common_runtime/bfc_allocator.cc:1089] InUse at 7f283601c400 of size 8192 next 89\n",
      "2023-09-11 19:57:36.973055: I tensorflow/core/common_runtime/bfc_allocator.cc:1089] InUse at 7f283601e400 of size 8192 next 93\n",
      "2023-09-11 19:57:36.973072: I tensorflow/core/common_runtime/bfc_allocator.cc:1089] InUse at 7f2836020400 of size 8192 next 94\n",
      "2023-09-11 19:57:36.973089: I tensorflow/core/common_runtime/bfc_allocator.cc:1089] InUse at 7f2836022400 of size 256 next 96\n",
      "2023-09-11 19:57:36.973106: I tensorflow/core/common_runtime/bfc_allocator.cc:1089] InUse at 7f2836022500 of size 256 next 106\n",
      "2023-09-11 19:57:36.973124: I tensorflow/core/common_runtime/bfc_allocator.cc:1089] InUse at 7f2836022600 of size 256 next 121\n",
      "2023-09-11 19:57:36.973141: I tensorflow/core/common_runtime/bfc_allocator.cc:1089] InUse at 7f2836022700 of size 256 next 122\n",
      "2023-09-11 19:57:36.973158: I tensorflow/core/common_runtime/bfc_allocator.cc:1089] InUse at 7f2836022800 of size 256 next 123\n",
      "2023-09-11 19:57:36.973176: I tensorflow/core/common_runtime/bfc_allocator.cc:1089] Free  at 7f2836022900 of size 10752 next 28\n",
      "2023-09-11 19:57:36.973194: I tensorflow/core/common_runtime/bfc_allocator.cc:1089] InUse at 7f2836025300 of size 36864 next 29\n",
      "2023-09-11 19:57:36.973212: I tensorflow/core/common_runtime/bfc_allocator.cc:1089] InUse at 7f283602e300 of size 16384 next 95\n",
      "2023-09-11 19:57:36.973231: I tensorflow/core/common_runtime/bfc_allocator.cc:1089] InUse at 7f2836032300 of size 16384 next 101\n",
      "2023-09-11 19:57:36.973249: I tensorflow/core/common_runtime/bfc_allocator.cc:1089] InUse at 7f2836036300 of size 16384 next 99\n",
      "2023-09-11 19:57:36.973268: I tensorflow/core/common_runtime/bfc_allocator.cc:1089] InUse at 7f283603a300 of size 24576 next 34\n",
      "2023-09-11 19:57:36.973287: I tensorflow/core/common_runtime/bfc_allocator.cc:1089] InUse at 7f2836040300 of size 73728 next 35\n",
      "2023-09-11 19:57:36.973306: I tensorflow/core/common_runtime/bfc_allocator.cc:1089] InUse at 7f2836052300 of size 16384 next 100\n",
      "2023-09-11 19:57:36.973324: I tensorflow/core/common_runtime/bfc_allocator.cc:1089] InUse at 7f2836056300 of size 16384 next 104\n",
      "2023-09-11 19:57:36.973342: I tensorflow/core/common_runtime/bfc_allocator.cc:1089] InUse at 7f283605a300 of size 32768 next 105\n",
      "2023-09-11 19:57:36.973361: I tensorflow/core/common_runtime/bfc_allocator.cc:1089] InUse at 7f2836062300 of size 32768 next 111\n",
      "2023-09-11 19:57:36.973378: I tensorflow/core/common_runtime/bfc_allocator.cc:1089] InUse at 7f283606a300 of size 32768 next 109\n",
      "2023-09-11 19:57:36.973395: I tensorflow/core/common_runtime/bfc_allocator.cc:1089] InUse at 7f2836072300 of size 32768 next 110\n",
      "2023-09-11 19:57:36.973414: I tensorflow/core/common_runtime/bfc_allocator.cc:1089] InUse at 7f283607a300 of size 32768 next 114\n",
      "2023-09-11 19:57:36.973431: I tensorflow/core/common_runtime/bfc_allocator.cc:1089] InUse at 7f2836082300 of size 32768 next 115\n",
      "2023-09-11 19:57:36.973449: I tensorflow/core/common_runtime/bfc_allocator.cc:1089] InUse at 7f283608a300 of size 65536 next 39\n",
      "2023-09-11 19:57:36.973468: I tensorflow/core/common_runtime/bfc_allocator.cc:1089] InUse at 7f283609a300 of size 147456 next 40\n",
      "2023-09-11 19:57:36.973488: I tensorflow/core/common_runtime/bfc_allocator.cc:1089] InUse at 7f28360be300 of size 65536 next 116\n",
      "2023-09-11 19:57:36.973505: I tensorflow/core/common_runtime/bfc_allocator.cc:1089] InUse at 7f28360ce300 of size 65536 next 117\n",
      "2023-09-11 19:57:36.973523: I tensorflow/core/common_runtime/bfc_allocator.cc:1089] InUse at 7f28360de300 of size 65536 next 120\n",
      "2023-09-11 19:57:36.973541: I tensorflow/core/common_runtime/bfc_allocator.cc:1089] InUse at 7f28360ee300 of size 98304 next 45\n",
      "2023-09-11 19:57:36.973560: I tensorflow/core/common_runtime/bfc_allocator.cc:1089] InUse at 7f2836106300 of size 294912 next 46\n",
      "2023-09-11 19:57:36.973578: I tensorflow/core/common_runtime/bfc_allocator.cc:1089] Free  at 7f283614e300 of size 1179648 next 50\n",
      "2023-09-11 19:57:36.973597: I tensorflow/core/common_runtime/bfc_allocator.cc:1089] InUse at 7f283626e300 of size 589824 next 51\n",
      "2023-09-11 19:57:36.973616: I tensorflow/core/common_runtime/bfc_allocator.cc:1089] Free  at 7f28362fe300 of size 1179648 next 55\n",
      "2023-09-11 19:57:36.973634: I tensorflow/core/common_runtime/bfc_allocator.cc:1089] InUse at 7f283641e300 of size 1179648 next 56\n",
      "2023-09-11 19:57:36.973652: I tensorflow/core/common_runtime/bfc_allocator.cc:1089] Free  at 7f283653e300 of size 4718592 next 60\n",
      "2023-09-11 19:57:36.973670: I tensorflow/core/common_runtime/bfc_allocator.cc:1089] InUse at 7f28369be300 of size 2359296 next 61\n",
      "2023-09-11 19:57:36.973687: I tensorflow/core/common_runtime/bfc_allocator.cc:1089] Free  at 7f2836bfe300 of size 4718592 next 66\n",
      "2023-09-11 19:57:36.973707: I tensorflow/core/common_runtime/bfc_allocator.cc:1089] InUse at 7f283707e300 of size 4718592 next 67\n",
      "2023-09-11 19:57:36.973726: I tensorflow/core/common_runtime/bfc_allocator.cc:1089] Free  at 7f28374fe300 of size 18874368 next 71\n",
      "2023-09-11 19:57:36.973744: I tensorflow/core/common_runtime/bfc_allocator.cc:1089] InUse at 7f28386fe300 of size 9437184 next 72\n",
      "2023-09-11 19:57:36.973761: I tensorflow/core/common_runtime/bfc_allocator.cc:1089] Free  at 7f2838ffe300 of size 18874368 next 76\n",
      "2023-09-11 19:57:36.973779: I tensorflow/core/common_runtime/bfc_allocator.cc:1089] InUse at 7f283a1fe300 of size 18874368 next 77\n",
      "2023-09-11 19:57:36.973798: I tensorflow/core/common_runtime/bfc_allocator.cc:1089] Free  at 7f283b3fe300 of size 75497472 next 81\n",
      "2023-09-11 19:57:36.973817: I tensorflow/core/common_runtime/bfc_allocator.cc:1089] InUse at 7f283fbfe300 of size 37748736 next 82\n",
      "2023-09-11 19:57:36.973835: I tensorflow/core/common_runtime/bfc_allocator.cc:1089] Free  at 7f2841ffe300 of size 75497472 next 86\n",
      "2023-09-11 19:57:36.973854: I tensorflow/core/common_runtime/bfc_allocator.cc:1089] InUse at 7f28467fe300 of size 75497472 next 87\n",
      "2023-09-11 19:57:36.973872: I tensorflow/core/common_runtime/bfc_allocator.cc:1089] Free  at 7f284affe300 of size 301989888 next 91\n",
      "2023-09-11 19:57:36.973890: I tensorflow/core/common_runtime/bfc_allocator.cc:1089] InUse at 7f285cffe300 of size 150994944 next 92\n",
      "2023-09-11 19:57:36.973908: I tensorflow/core/common_runtime/bfc_allocator.cc:1089] Free  at 7f2865ffe300 of size 301989888 next 97\n",
      "2023-09-11 19:57:36.973925: I tensorflow/core/common_runtime/bfc_allocator.cc:1089] InUse at 7f2877ffe300 of size 301989888 next 98\n",
      "2023-09-11 19:57:36.973944: I tensorflow/core/common_runtime/bfc_allocator.cc:1089] Free  at 7f2889ffe300 of size 1207959552 next 102\n",
      "2023-09-11 19:57:36.973962: I tensorflow/core/common_runtime/bfc_allocator.cc:1089] InUse at 7f28d1ffe300 of size 603979776 next 103\n",
      "2023-09-11 19:57:36.973980: I tensorflow/core/common_runtime/bfc_allocator.cc:1089] Free  at 7f28f5ffe300 of size 1207959552 next 107\n",
      "2023-09-11 19:57:36.973998: I tensorflow/core/common_runtime/bfc_allocator.cc:1089] InUse at 7f293dffe300 of size 1207959552 next 108\n",
      "2023-09-11 19:57:36.974016: I tensorflow/core/common_runtime/bfc_allocator.cc:1089] Free  at 7f2985ffe300 of size 4831838208 next 112\n",
      "2023-09-11 19:57:36.974035: I tensorflow/core/common_runtime/bfc_allocator.cc:1089] InUse at 7f2aa5ffe300 of size 2415919104 next 113\n",
      "2023-09-11 19:57:36.974052: I tensorflow/core/common_runtime/bfc_allocator.cc:1089] Free  at 7f2b35ffe300 of size 4831838208 next 118\n",
      "2023-09-11 19:57:36.974070: I tensorflow/core/common_runtime/bfc_allocator.cc:1089] InUse at 7f2c55ffe300 of size 4831838208 next 119\n",
      "2023-09-11 19:57:36.974090: I tensorflow/core/common_runtime/bfc_allocator.cc:1089] Free  at 7f2d75ffe300 of size 832249088 next 18446744073709551615\n",
      "2023-09-11 19:57:36.974107: I tensorflow/core/common_runtime/bfc_allocator.cc:1094]      Summary of in-use Chunks by size: \n",
      "2023-09-11 19:57:36.974131: I tensorflow/core/common_runtime/bfc_allocator.cc:1097] 39 Chunks of size 256 totalling 9.8KiB\n",
      "2023-09-11 19:57:36.974150: I tensorflow/core/common_runtime/bfc_allocator.cc:1097] 6 Chunks of size 512 totalling 3.0KiB\n",
      "2023-09-11 19:57:36.974169: I tensorflow/core/common_runtime/bfc_allocator.cc:1097] 6 Chunks of size 1024 totalling 6.0KiB\n",
      "2023-09-11 19:57:36.974188: I tensorflow/core/common_runtime/bfc_allocator.cc:1097] 1 Chunks of size 1280 totalling 1.2KiB\n",
      "2023-09-11 19:57:36.974208: I tensorflow/core/common_runtime/bfc_allocator.cc:1097] 6 Chunks of size 2048 totalling 12.0KiB\n",
      "2023-09-11 19:57:36.974251: I tensorflow/core/common_runtime/bfc_allocator.cc:1097] 1 Chunks of size 3584 totalling 3.5KiB\n",
      "2023-09-11 19:57:36.974272: I tensorflow/core/common_runtime/bfc_allocator.cc:1097] 5 Chunks of size 4096 totalling 20.0KiB\n",
      "2023-09-11 19:57:36.974291: I tensorflow/core/common_runtime/bfc_allocator.cc:1097] 1 Chunks of size 7936 totalling 7.8KiB\n",
      "2023-09-11 19:57:36.974311: I tensorflow/core/common_runtime/bfc_allocator.cc:1097] 6 Chunks of size 8192 totalling 48.0KiB\n",
      "2023-09-11 19:57:36.974330: I tensorflow/core/common_runtime/bfc_allocator.cc:1097] 1 Chunks of size 9216 totalling 9.0KiB\n",
      "2023-09-11 19:57:36.974350: I tensorflow/core/common_runtime/bfc_allocator.cc:1097] 5 Chunks of size 16384 totalling 80.0KiB\n",
      "2023-09-11 19:57:36.974369: I tensorflow/core/common_runtime/bfc_allocator.cc:1097] 1 Chunks of size 18432 totalling 18.0KiB\n",
      "2023-09-11 19:57:36.974390: I tensorflow/core/common_runtime/bfc_allocator.cc:1097] 1 Chunks of size 24576 totalling 24.0KiB\n",
      "2023-09-11 19:57:36.974409: I tensorflow/core/common_runtime/bfc_allocator.cc:1097] 6 Chunks of size 32768 totalling 192.0KiB\n",
      "2023-09-11 19:57:36.974429: I tensorflow/core/common_runtime/bfc_allocator.cc:1097] 1 Chunks of size 36864 totalling 36.0KiB\n",
      "2023-09-11 19:57:36.974449: I tensorflow/core/common_runtime/bfc_allocator.cc:1097] 4 Chunks of size 65536 totalling 256.0KiB\n",
      "2023-09-11 19:57:36.974469: I tensorflow/core/common_runtime/bfc_allocator.cc:1097] 1 Chunks of size 73728 totalling 72.0KiB\n",
      "2023-09-11 19:57:36.974489: I tensorflow/core/common_runtime/bfc_allocator.cc:1097] 1 Chunks of size 98304 totalling 96.0KiB\n",
      "2023-09-11 19:57:36.974509: I tensorflow/core/common_runtime/bfc_allocator.cc:1097] 1 Chunks of size 147456 totalling 144.0KiB\n",
      "2023-09-11 19:57:36.974530: I tensorflow/core/common_runtime/bfc_allocator.cc:1097] 1 Chunks of size 294912 totalling 288.0KiB\n",
      "2023-09-11 19:57:36.974552: I tensorflow/core/common_runtime/bfc_allocator.cc:1097] 1 Chunks of size 589824 totalling 576.0KiB\n",
      "2023-09-11 19:57:36.974572: I tensorflow/core/common_runtime/bfc_allocator.cc:1097] 1 Chunks of size 1179648 totalling 1.12MiB\n",
      "2023-09-11 19:57:36.974594: I tensorflow/core/common_runtime/bfc_allocator.cc:1097] 1 Chunks of size 2359296 totalling 2.25MiB\n",
      "2023-09-11 19:57:36.974614: I tensorflow/core/common_runtime/bfc_allocator.cc:1097] 1 Chunks of size 4718592 totalling 4.50MiB\n",
      "2023-09-11 19:57:36.974634: I tensorflow/core/common_runtime/bfc_allocator.cc:1097] 1 Chunks of size 9437184 totalling 9.00MiB\n",
      "2023-09-11 19:57:36.974654: I tensorflow/core/common_runtime/bfc_allocator.cc:1097] 1 Chunks of size 18874368 totalling 18.00MiB\n",
      "2023-09-11 19:57:36.974675: I tensorflow/core/common_runtime/bfc_allocator.cc:1097] 1 Chunks of size 37748736 totalling 36.00MiB\n",
      "2023-09-11 19:57:36.974694: I tensorflow/core/common_runtime/bfc_allocator.cc:1097] 1 Chunks of size 75497472 totalling 72.00MiB\n",
      "2023-09-11 19:57:36.974714: I tensorflow/core/common_runtime/bfc_allocator.cc:1097] 1 Chunks of size 150994944 totalling 144.00MiB\n",
      "2023-09-11 19:57:36.974734: I tensorflow/core/common_runtime/bfc_allocator.cc:1097] 1 Chunks of size 301989888 totalling 288.00MiB\n",
      "2023-09-11 19:57:36.974754: I tensorflow/core/common_runtime/bfc_allocator.cc:1097] 1 Chunks of size 603979776 totalling 576.00MiB\n",
      "2023-09-11 19:57:36.974776: I tensorflow/core/common_runtime/bfc_allocator.cc:1097] 1 Chunks of size 1207959552 totalling 1.12GiB\n",
      "2023-09-11 19:57:36.974797: I tensorflow/core/common_runtime/bfc_allocator.cc:1097] 1 Chunks of size 2415919104 totalling 2.25GiB\n",
      "2023-09-11 19:57:36.974819: I tensorflow/core/common_runtime/bfc_allocator.cc:1097] 1 Chunks of size 4831838208 totalling 4.50GiB\n",
      "2023-09-11 19:57:36.974841: I tensorflow/core/common_runtime/bfc_allocator.cc:1101] Sum Total of in-use chunks: 9.00GiB\n",
      "2023-09-11 19:57:36.974861: I tensorflow/core/common_runtime/bfc_allocator.cc:1103] total_region_allocated_bytes_: 23380819968 memory_limit_: 23380819968 available bytes: 0 curr_region_allocation_bytes_: 46761639936\n",
      "2023-09-11 19:57:36.974891: I tensorflow/core/common_runtime/bfc_allocator.cc:1109] Stats: \n",
      "Limit:                     23380819968\n",
      "InUse:                      9664444672\n",
      "MaxInUse:                  19327760384\n",
      "NumAllocs:                         198\n",
      "MaxAllocSize:               4831838208\n",
      "Reserved:                            0\n",
      "PeakReserved:                        0\n",
      "LargestFreeBlock:                    0\n",
      "\n",
      "2023-09-11 19:57:36.974931: W tensorflow/core/common_runtime/bfc_allocator.cc:491] *******____***____*******___________________************___________________**********************___\n",
      "2023-09-11 19:57:36.975005: W tensorflow/core/framework/op_kernel.cc:1780] OP_REQUIRES failed at stateless_random_ops_v2.cc:67 : RESOURCE_EXHAUSTED: OOM when allocating tensor with shape[3,3,16384,16384] and type float on /job:localhost/replica:0/task:0/device:GPU:0 by allocator GPU_0_bfc\n"
     ]
    },
    {
     "ename": "ResourceExhaustedError",
     "evalue": "{{function_node __wrapped__StatelessTruncatedNormalV2_device_/job:localhost/replica:0/task:0/device:GPU:0}} OOM when allocating tensor with shape[3,3,16384,16384] and type float on /job:localhost/replica:0/task:0/device:GPU:0 by allocator GPU_0_bfc [Op:StatelessTruncatedNormalV2]",
     "output_type": "error",
     "traceback": [
      "\u001b[0;31m---------------------------------------------------------------------------\u001b[0m",
      "\u001b[0;31mResourceExhaustedError\u001b[0m                    Traceback (most recent call last)",
      "Input \u001b[0;32mIn [11]\u001b[0m, in \u001b[0;36m<cell line: 15>\u001b[0;34m()\u001b[0m\n\u001b[1;32m     17\u001b[0m \u001b[38;5;28mprint\u001b[39m(\u001b[38;5;124m'\u001b[39m\u001b[38;5;124mTRAINING MODEL\u001b[39m\u001b[38;5;124m'\u001b[39m, m, folderModel)\n\u001b[1;32m     19\u001b[0m \u001b[38;5;66;03m# model = initiate_model_old(data_augmentation = data_augmentation)\u001b[39;00m\n\u001b[0;32m---> 20\u001b[0m model \u001b[38;5;241m=\u001b[39m \u001b[43minitiate_model\u001b[49m\u001b[43m(\u001b[49m\n\u001b[1;32m     21\u001b[0m \u001b[43m    \u001b[49m\u001b[43mh_img\u001b[49m\u001b[43m \u001b[49m\u001b[38;5;241;43m=\u001b[39;49m\u001b[43m \u001b[49m\u001b[43mh_img\u001b[49m\u001b[43m,\u001b[49m\u001b[43m \u001b[49m\n\u001b[1;32m     22\u001b[0m \u001b[43m    \u001b[49m\u001b[43mw_img\u001b[49m\u001b[43m \u001b[49m\u001b[38;5;241;43m=\u001b[39;49m\u001b[43m \u001b[49m\u001b[43mw_img\u001b[49m\u001b[43m,\u001b[49m\u001b[43m \u001b[49m\n\u001b[1;32m     23\u001b[0m \u001b[43m    \u001b[49m\u001b[43mc_feat\u001b[49m\u001b[43m \u001b[49m\u001b[38;5;241;43m=\u001b[39;49m\u001b[43m \u001b[49m\u001b[43mc_feat\u001b[49m\u001b[43m,\u001b[49m\n\u001b[1;32m     24\u001b[0m \u001b[43m    \u001b[49m\u001b[43mnum_classes\u001b[49m\u001b[43m \u001b[49m\u001b[38;5;241;43m=\u001b[39;49m\u001b[43m \u001b[49m\u001b[43mnum_classes\u001b[49m\u001b[43m,\u001b[49m\n\u001b[1;32m     25\u001b[0m \u001b[43m    \u001b[49m\u001b[43mn_contractions\u001b[49m\u001b[43m \u001b[49m\u001b[38;5;241;43m=\u001b[39;49m\u001b[43m \u001b[49m\u001b[43mn_contractions\u001b[49m\u001b[43m,\u001b[49m\n\u001b[1;32m     26\u001b[0m \u001b[43m    \u001b[49m\u001b[43mdata_augmentation\u001b[49m\u001b[43m \u001b[49m\u001b[38;5;241;43m=\u001b[39;49m\u001b[43m \u001b[49m\u001b[43mdata_augmentation\u001b[49m\n\u001b[1;32m     27\u001b[0m \u001b[43m\u001b[49m\u001b[43m)\u001b[49m\n\u001b[1;32m     29\u001b[0m model\u001b[38;5;241m.\u001b[39mcompile(optimizer\u001b[38;5;241m=\u001b[39m\u001b[38;5;124m'\u001b[39m\u001b[38;5;124madam\u001b[39m\u001b[38;5;124m'\u001b[39m, loss\u001b[38;5;241m=\u001b[39m\u001b[38;5;124m'\u001b[39m\u001b[38;5;124mbinary_crossentropy\u001b[39m\u001b[38;5;124m'\u001b[39m, metrics\u001b[38;5;241m=\u001b[39m[\u001b[38;5;124m'\u001b[39m\u001b[38;5;124maccuracy\u001b[39m\u001b[38;5;124m'\u001b[39m])\n\u001b[1;32m     32\u001b[0m model\u001b[38;5;241m.\u001b[39mfit(\n\u001b[1;32m     33\u001b[0m     train_gen,\n\u001b[1;32m     34\u001b[0m     validation_data\u001b[38;5;241m=\u001b[39m(test_gen),\n\u001b[0;32m   (...)\u001b[0m\n\u001b[1;32m     39\u001b[0m     validation_steps \u001b[38;5;241m=\u001b[39m validation_steps\n\u001b[1;32m     40\u001b[0m )\n",
      "File \u001b[0;32m~/code/kiwibes2023-unet/kiwibes2023-unet-006-multiple-runs/functions.py:412\u001b[0m, in \u001b[0;36minitiate_model\u001b[0;34m(h_img, w_img, c_feat, num_classes, n_contractions, data_augmentation)\u001b[0m\n\u001b[1;32m    410\u001b[0m r \u001b[38;5;241m=\u001b[39m tf\u001b[38;5;241m.\u001b[39mkeras\u001b[38;5;241m.\u001b[39mlayers\u001b[38;5;241m.\u001b[39mReLU()(b)\n\u001b[1;32m    411\u001b[0m c \u001b[38;5;241m=\u001b[39m tf\u001b[38;5;241m.\u001b[39mkeras\u001b[38;5;241m.\u001b[39mlayers\u001b[38;5;241m.\u001b[39mDropout(\u001b[38;5;241m0.3\u001b[39m)(r)\n\u001b[0;32m--> 412\u001b[0m c \u001b[38;5;241m=\u001b[39m \u001b[43mtf\u001b[49m\u001b[38;5;241;43m.\u001b[39;49m\u001b[43mkeras\u001b[49m\u001b[38;5;241;43m.\u001b[39;49m\u001b[43mlayers\u001b[49m\u001b[38;5;241;43m.\u001b[39;49m\u001b[43mConv2D\u001b[49m\u001b[43m(\u001b[49m\u001b[43mdepth\u001b[49m\u001b[43m,\u001b[49m\u001b[43m \u001b[49m\u001b[43m(\u001b[49m\u001b[38;5;241;43m3\u001b[39;49m\u001b[43m,\u001b[49m\u001b[43m \u001b[49m\u001b[38;5;241;43m3\u001b[39;49m\u001b[43m)\u001b[49m\u001b[43m,\u001b[49m\u001b[43m \u001b[49m\u001b[43mactivation\u001b[49m\u001b[38;5;241;43m=\u001b[39;49m\u001b[38;5;124;43m'\u001b[39;49m\u001b[38;5;124;43mrelu\u001b[39;49m\u001b[38;5;124;43m'\u001b[39;49m\u001b[43m,\u001b[49m\u001b[43m \u001b[49m\u001b[43mkernel_initializer\u001b[49m\u001b[38;5;241;43m=\u001b[39;49m\u001b[38;5;124;43m'\u001b[39;49m\u001b[38;5;124;43mhe_normal\u001b[39;49m\u001b[38;5;124;43m'\u001b[39;49m\u001b[43m,\u001b[49m\u001b[43m \u001b[49m\u001b[43mpadding\u001b[49m\u001b[38;5;241;43m=\u001b[39;49m\u001b[38;5;124;43m'\u001b[39;49m\u001b[38;5;124;43msame\u001b[39;49m\u001b[38;5;124;43m'\u001b[39;49m\u001b[43m)\u001b[49m\u001b[43m(\u001b[49m\u001b[43mc\u001b[49m\u001b[43m)\u001b[49m\n\u001b[1;32m    414\u001b[0m \u001b[38;5;66;03m# skip_layers += [c] # \"push\"\u001b[39;00m\n\u001b[1;32m    415\u001b[0m \n\u001b[1;32m    416\u001b[0m \n\u001b[1;32m    417\u001b[0m \u001b[38;5;66;03m# Expansive path \u001b[39;00m\n\u001b[1;32m    418\u001b[0m u \u001b[38;5;241m=\u001b[39m c\n",
      "File \u001b[0;32m/opt/Anaconda3/envs/kiwibes/lib/python3.9/site-packages/keras/utils/traceback_utils.py:70\u001b[0m, in \u001b[0;36mfilter_traceback.<locals>.error_handler\u001b[0;34m(*args, **kwargs)\u001b[0m\n\u001b[1;32m     67\u001b[0m     filtered_tb \u001b[38;5;241m=\u001b[39m _process_traceback_frames(e\u001b[38;5;241m.\u001b[39m__traceback__)\n\u001b[1;32m     68\u001b[0m     \u001b[38;5;66;03m# To get the full stack trace, call:\u001b[39;00m\n\u001b[1;32m     69\u001b[0m     \u001b[38;5;66;03m# `tf.debugging.disable_traceback_filtering()`\u001b[39;00m\n\u001b[0;32m---> 70\u001b[0m     \u001b[38;5;28;01mraise\u001b[39;00m e\u001b[38;5;241m.\u001b[39mwith_traceback(filtered_tb) \u001b[38;5;28;01mfrom\u001b[39;00m \u001b[38;5;28mNone\u001b[39m\n\u001b[1;32m     71\u001b[0m \u001b[38;5;28;01mfinally\u001b[39;00m:\n\u001b[1;32m     72\u001b[0m     \u001b[38;5;28;01mdel\u001b[39;00m filtered_tb\n",
      "File \u001b[0;32m/opt/Anaconda3/envs/kiwibes/lib/python3.9/site-packages/keras/backend.py:2142\u001b[0m, in \u001b[0;36mRandomGenerator.truncated_normal\u001b[0;34m(self, shape, mean, stddev, dtype, nonce)\u001b[0m\n\u001b[1;32m   2140\u001b[0m     \u001b[38;5;28;01mif\u001b[39;00m nonce:\n\u001b[1;32m   2141\u001b[0m         seed \u001b[38;5;241m=\u001b[39m tf\u001b[38;5;241m.\u001b[39mrandom\u001b[38;5;241m.\u001b[39mexperimental\u001b[38;5;241m.\u001b[39mstateless_fold_in(seed, nonce)\n\u001b[0;32m-> 2142\u001b[0m     \u001b[38;5;28;01mreturn\u001b[39;00m \u001b[43mtf\u001b[49m\u001b[38;5;241;43m.\u001b[39;49m\u001b[43mrandom\u001b[49m\u001b[38;5;241;43m.\u001b[39;49m\u001b[43mstateless_truncated_normal\u001b[49m\u001b[43m(\u001b[49m\n\u001b[1;32m   2143\u001b[0m \u001b[43m        \u001b[49m\u001b[43mshape\u001b[49m\u001b[38;5;241;43m=\u001b[39;49m\u001b[43mshape\u001b[49m\u001b[43m,\u001b[49m\u001b[43m \u001b[49m\u001b[43mmean\u001b[49m\u001b[38;5;241;43m=\u001b[39;49m\u001b[43mmean\u001b[49m\u001b[43m,\u001b[49m\u001b[43m \u001b[49m\u001b[43mstddev\u001b[49m\u001b[38;5;241;43m=\u001b[39;49m\u001b[43mstddev\u001b[49m\u001b[43m,\u001b[49m\u001b[43m \u001b[49m\u001b[43mdtype\u001b[49m\u001b[38;5;241;43m=\u001b[39;49m\u001b[43mdtype\u001b[49m\u001b[43m,\u001b[49m\u001b[43m \u001b[49m\u001b[43mseed\u001b[49m\u001b[38;5;241;43m=\u001b[39;49m\u001b[43mseed\u001b[49m\n\u001b[1;32m   2144\u001b[0m \u001b[43m    \u001b[49m\u001b[43m)\u001b[49m\n\u001b[1;32m   2145\u001b[0m \u001b[38;5;28;01mreturn\u001b[39;00m tf\u001b[38;5;241m.\u001b[39mrandom\u001b[38;5;241m.\u001b[39mtruncated_normal(\n\u001b[1;32m   2146\u001b[0m     shape\u001b[38;5;241m=\u001b[39mshape,\n\u001b[1;32m   2147\u001b[0m     mean\u001b[38;5;241m=\u001b[39mmean,\n\u001b[0;32m   (...)\u001b[0m\n\u001b[1;32m   2150\u001b[0m     seed\u001b[38;5;241m=\u001b[39m\u001b[38;5;28mself\u001b[39m\u001b[38;5;241m.\u001b[39mmake_legacy_seed(),\n\u001b[1;32m   2151\u001b[0m )\n",
      "\u001b[0;31mResourceExhaustedError\u001b[0m: {{function_node __wrapped__StatelessTruncatedNormalV2_device_/job:localhost/replica:0/task:0/device:GPU:0}} OOM when allocating tensor with shape[3,3,16384,16384] and type float on /job:localhost/replica:0/task:0/device:GPU:0 by allocator GPU_0_bfc [Op:StatelessTruncatedNormalV2]"
     ]
    }
   ],
   "source": [
    "# Make model\n",
    "\n",
    "data_augmentation = tf.keras.Sequential([\n",
    "        layers.RandomFlip(\"horizontal_and_vertical\"),\n",
    "        layers.RandomRotation(0.2),\n",
    "        layers.RandomBrightness(factor=(-0.2, 0.2))\n",
    "    ])\n",
    "\n",
    "callbacks = [\n",
    "            tf.keras.callbacks.EarlyStopping(patience=5, monitor='val_loss'),\n",
    "            # tf.keras.callbacks.TensorBoard(log_dir='logs')\n",
    "    ]\n",
    "\n",
    "\n",
    "for m in range(10):\n",
    "    print()\n",
    "    print('TRAINING MODEL', m, folderModel)\n",
    "\n",
    "    # model = initiate_model_old(data_augmentation = data_augmentation)\n",
    "    model = initiate_model(\n",
    "        h_img = h_img, \n",
    "        w_img = w_img, \n",
    "        c_feat = c_feat,\n",
    "        num_classes = num_classes,\n",
    "        n_contractions = n_contractions,\n",
    "        data_augmentation = data_augmentation\n",
    "    )\n",
    "\n",
    "    model.compile(optimizer='adam', loss='binary_crossentropy', metrics=['accuracy'])\n",
    "\n",
    "\n",
    "    model.fit(\n",
    "        train_gen,\n",
    "        validation_data=(test_gen),\n",
    "        batch_size=batch_size,\n",
    "        epochs=epochs,\n",
    "        callbacks=callbacks,\n",
    "        steps_per_epoch = steps_per_epoch,\n",
    "        validation_steps = validation_steps\n",
    "    )\n",
    "\n",
    "    fileModel = f'{folderModel}/model_{str(m).zfill(3)}.hdf5'\n",
    "    print(fileModel)\n",
    "    model.save(fileModel)\n",
    "\n",
    "    fileLosses = f'{folderModel}/losses_{str(m).zfill(3)}.csv'\n",
    "    print(fileLosses)\n",
    "    pd.DataFrame({\n",
    "        'train_loss' : model.history.history['loss'],\n",
    "        'val_loss' : model.history.history['val_loss']\n",
    "    }).to_csv(fileLosses)"
   ]
  },
  {
   "cell_type": "code",
   "execution_count": null,
   "id": "6e2db07b-2e1c-4e75-a663-c31888825f70",
   "metadata": {},
   "outputs": [],
   "source": [
    "# train_loss = model.history.history['loss']\n",
    "# val_loss   = model.history.history['val_loss']\n",
    "        \n",
    "# plt.figure()\n",
    "# plt.plot(train_loss, 'r',  label='Train')\n",
    "# plt.plot(val_loss,   'bo', label='Validation')\n",
    "# plt.title('Loss')\n",
    "# plt.xlabel('Epoch')\n",
    "# plt.ylabel('Loss Value')\n",
    "# plt.ylim(bottom=0)\n",
    "# plt.legend()\n",
    "# plt.show()\n",
    "\n"
   ]
  },
  {
   "cell_type": "code",
   "execution_count": null,
   "id": "05752f43-a6cc-4350-bf7f-2706b190b0e5",
   "metadata": {},
   "outputs": [],
   "source": [
    "# train_loss_no_aug = model.history.history['loss']\n",
    "# val_loss_no_aug   = model.history.history['val_loss']\n",
    "\n",
    "# plt.figure(figsize=(20,6))\n",
    "\n",
    "# plt.subplot(121)\n",
    "# plt.plot(train_loss, 'r',  label='Train')\n",
    "# plt.plot(val_loss,   'bo', label='Validation')\n",
    "# plt.title('Augmenation')\n",
    "# plt.xlabel('Epoch')\n",
    "# plt.ylabel('Loss Value')\n",
    "# plt.ylim(bottom=0)\n",
    "# plt.legend()\n",
    "\n",
    "# plt.subplot(122)\n",
    "# plt.plot(train_loss_no_aug, 'r',  label='Train')\n",
    "# plt.plot(val_loss_no_aug,   'bo', label='Validation')\n",
    "# plt.title('No augmentation')\n",
    "# plt.xlabel('Epoch')\n",
    "# plt.ylabel('Loss Value')\n",
    "# plt.ylim(bottom=0)\n",
    "# plt.legend()\n",
    "\n",
    "# plt.show()"
   ]
  },
  {
   "cell_type": "markdown",
   "id": "6e55ca5c-3aaa-456f-8a79-83c61b25c509",
   "metadata": {},
   "source": [
    "# Load and plot losses"
   ]
  },
  {
   "cell_type": "code",
   "execution_count": null,
   "id": "86c50bad-0cd7-4629-a1dc-f55860cccb40",
   "metadata": {},
   "outputs": [],
   "source": [
    "print(folderModel)\n",
    "! ls {folderModel}"
   ]
  },
  {
   "cell_type": "code",
   "execution_count": null,
   "id": "4ecb0fe4-582d-487c-b27e-8f1bfe99bd31",
   "metadata": {},
   "outputs": [],
   "source": [
    "# plt.figure(figsize=(20,10))\n",
    "\n",
    "# for file in glob.glob(f'{folderModel}/losses_*'):\n",
    "#     data = pd.read_csv(file)\n",
    "    \n",
    "#     plt.subplot(121)\n",
    "#     plt.plot(data['train_loss'])\n",
    "#     plt.ylim([0,0.2])\n",
    "    \n",
    "#     plt.subplot(122)\n",
    "#     plt.plot(data['val_loss'])\n",
    "#     plt.ylim([0,0.2])\n",
    "    \n",
    "# plt.show()"
   ]
  },
  {
   "cell_type": "code",
   "execution_count": null,
   "id": "1c05e92e-38e9-4aed-b64c-a8e3168d916a",
   "metadata": {},
   "outputs": [],
   "source": []
  },
  {
   "cell_type": "code",
   "execution_count": null,
   "id": "a2051b81-3bc1-4e0c-b2e8-0c38256bd425",
   "metadata": {},
   "outputs": [],
   "source": []
  },
  {
   "cell_type": "code",
   "execution_count": null,
   "id": "d1afbb1b-10c9-4292-b08b-cc81fbd5eb3c",
   "metadata": {},
   "outputs": [],
   "source": []
  },
  {
   "cell_type": "code",
   "execution_count": null,
   "id": "40d06f71-6a41-418c-9dfb-1d2631eb3a74",
   "metadata": {},
   "outputs": [],
   "source": []
  },
  {
   "cell_type": "code",
   "execution_count": null,
   "id": "7b52f1d4-bed7-49b1-bf25-b23e203b365c",
   "metadata": {},
   "outputs": [],
   "source": []
  },
  {
   "cell_type": "code",
   "execution_count": null,
   "id": "76abb42e-c58f-4add-b2cf-2d90df7d13af",
   "metadata": {},
   "outputs": [],
   "source": []
  },
  {
   "cell_type": "code",
   "execution_count": null,
   "id": "70112d79-5708-4791-905b-4315d833b216",
   "metadata": {},
   "outputs": [],
   "source": []
  },
  {
   "cell_type": "code",
   "execution_count": null,
   "id": "bf25a815-07b4-4cc9-84cb-e2fa17921447",
   "metadata": {},
   "outputs": [],
   "source": []
  },
  {
   "cell_type": "code",
   "execution_count": null,
   "id": "6045ca9e-b43d-4066-bedd-9119831c2ff5",
   "metadata": {},
   "outputs": [],
   "source": []
  },
  {
   "cell_type": "code",
   "execution_count": null,
   "id": "b01ce509-4835-439f-ad4c-0c179ed153c9",
   "metadata": {},
   "outputs": [],
   "source": []
  },
  {
   "cell_type": "markdown",
   "id": "1567da35-52f2-4ded-83d0-cdeef3b4caf5",
   "metadata": {},
   "source": [
    "# Check: load model from file and predict something"
   ]
  },
  {
   "cell_type": "code",
   "execution_count": null,
   "id": "7e2b0ddf-aa23-47a3-bc2c-50243e785563",
   "metadata": {},
   "outputs": [],
   "source": [
    "# new_model = tf.keras.models.load_model(fileModel)"
   ]
  },
  {
   "cell_type": "code",
   "execution_count": null,
   "id": "f9ce62f1-2de7-4e06-b92a-3cd6529b8312",
   "metadata": {},
   "outputs": [],
   "source": [
    "# folderData = '/data/home/jorism/data/kiwibes2023-camera_158-2023-06-05T12-tagged/'\n",
    "\n",
    "# filesTxt = glob.glob(f'{folderData}/*.txt')\n",
    "\n",
    "# f = 0\n",
    "# fileJpg = filesTxt[f][:-3] + 'jpg'\n",
    "# image_full = plt.imread(fileJpg)/255\n",
    "\n",
    "# plt.figure()\n",
    "# plt.imshow(image_full)\n",
    "# plt.show()"
   ]
  },
  {
   "cell_type": "code",
   "execution_count": null,
   "id": "f13447f1-eb90-4af1-8b56-040fec0259be",
   "metadata": {},
   "outputs": [],
   "source": [
    "# # int(np.ceil(image_full.shape[0]/h_img))\n",
    "\n",
    "# for xmin in np.arange(0, image_full.shape[0], h_img):\n",
    "#     for ymin in np.arange(0, image_full.shape[1], w_img):\n",
    "#         print(xmin,ymin)\n",
    "#         image = np.zeros((w_img, h_img, 3))\n",
    "#         crop = image_full[xmin:xmin+w_img, ymin:ymin+h_img, :]\n",
    "#         image[0:crop.shape[0], 0:crop.shape[1], :] = crop\n",
    "        \n",
    "#         prediction = new_model.predict(image[tf.newaxis, ...])[0]\n",
    "#         predicted_mask = (prediction > 0.5).astype(np.uint8)\n",
    "\n",
    "#         plt.figure(figsize=(20,20))\n",
    "#         plt.subplot(121)\n",
    "#         plt.imshow(image)\n",
    "#         plt.subplot(122)\n",
    "#         plt.imshow(predicted_mask)\n",
    "#         plt.show()\n",
    "        \n",
    "#         # plt.figure()\n",
    "#         # plt.imshow(image)\n",
    "#         # plt.show()\n",
    "\n"
   ]
  }
 ],
 "metadata": {
  "kernelspec": {
   "display_name": "Python 3 (ipykernel)",
   "language": "python",
   "name": "python3"
  },
  "language_info": {
   "codemirror_mode": {
    "name": "ipython",
    "version": 3
   },
   "file_extension": ".py",
   "mimetype": "text/x-python",
   "name": "python",
   "nbconvert_exporter": "python",
   "pygments_lexer": "ipython3",
   "version": "3.9.12"
  }
 },
 "nbformat": 4,
 "nbformat_minor": 5
}
