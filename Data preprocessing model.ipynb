{
 "cells": [
  {
   "cell_type": "code",
   "execution_count": null,
   "metadata": {
    "id": "liW7L7SY86ks"
   },
   "outputs": [],
   "source": [
    "import pickle\n",
    "import numpy as np\n",
    "import matplotlib.pyplot as plt\n",
    "import zipfile\n",
    "import os\n",
    "import random\n",
    "import datetime\n",
    "import h5py\n",
    "import cv2\n",
    "import sklearn.metrics \n",
    "from functions import *"
   ]
  },
  {
   "cell_type": "markdown",
   "metadata": {
    "id": "Za-bFj-VP2ps"
   },
   "source": [
    "# Data exploration"
   ]
  },
  {
   "cell_type": "code",
   "execution_count": null,
   "metadata": {},
   "outputs": [],
   "source": [
    "zip_ref = zipfile.ZipFile('Data/TRAIN_2.zip', 'r') #Opens the zip file in read mode\n",
    "zip_ref.extractall('Data') #Extracts the files into the Data folder\n",
    "zip_ref.close()"
   ]
  },
  {
   "cell_type": "code",
   "execution_count": null,
   "metadata": {},
   "outputs": [],
   "source": [
    "with open('Data/TRAIN_Images_2.pkl', 'rb') as file:\n",
    "    train_images = pickle.load(file)\n",
    "\n",
    "with open('Data/TRAIN_Labels_2.pkl', 'rb') as file:\n",
    "    train_labels = pickle.load(file)\n",
    "\n",
    "with open('Data/TRAIN_Coordinates_2.pkl', 'rb') as file:\n",
    "    train_cor = pickle.load(file)\n",
    "    \n",
    "with open('Data/TRAIN_Genera_2.pkl', 'rb') as file:\n",
    "    train_gen = pickle.load(file)"
   ]
  },
  {
   "cell_type": "code",
   "execution_count": null,
   "metadata": {
    "colab": {
     "base_uri": "https://localhost:8080/",
     "height": 252
    },
    "id": "cnkkKY__nD9T",
    "outputId": "b8ab8c21-146d-4f96-8cf5-2f3bcee7136a"
   },
   "outputs": [],
   "source": [
    "i = random.choice(range(len(train_images)))\n",
    "\n",
    "plt.figure()\n",
    "plt.subplot(1,2,1)\n",
    "plt.imshow(train_images[i],cmap=\"gray\")\n",
    "plt.axis(\"off\")\n",
    "plt.title(\"Annotated image\")\n",
    "plt.scatter(*zip(*train_cor[i]),s=1, c=\"orange\")\n",
    "plt.subplot(1,2,2)\n",
    "plt.imshow(train_labels[i], cmap=\"inferno\")\n",
    "plt.axis(\"off\")\n",
    "plt.title(\"Target\")"
   ]
  },
  {
   "cell_type": "markdown",
   "metadata": {
    "id": "b7teK_qVQsl_"
   },
   "source": [
    "## Dimensions"
   ]
  },
  {
   "cell_type": "code",
   "execution_count": null,
   "metadata": {},
   "outputs": [],
   "source": [
    "p0_p = np.mean([(np.sum(train_labels[i]>0.1)/np.sum(train_labels[i]==0)) for i in range(len(train_labels))])*100\n",
    "p0_ptotal = np.mean([np.sum(train_labels[i]>0.1)/(2688*2048) for i in range(len(train_labels))])*100\n",
    "print(\"The % of pixels with a value > 0.1 to pixels with a value = 0 is:\",np.round(p0_p,2))\n",
    "print(np.round(p0_ptotal,2), \"% of the pixels has a value bigger than 0.1.\")"
   ]
  },
  {
   "cell_type": "code",
   "execution_count": null,
   "metadata": {
    "colab": {
     "base_uri": "https://localhost:8080/"
    },
    "id": "emW_21x9Zlfc",
    "outputId": "1b69107e-18bb-4784-ef7b-5127c9fd9d14"
   },
   "outputs": [],
   "source": [
    "print(train_images.dtype)\n",
    "print(train_labels.dtype)"
   ]
  },
  {
   "cell_type": "code",
   "execution_count": null,
   "metadata": {
    "colab": {
     "base_uri": "https://localhost:8080/"
    },
    "id": "eTwQz84mnR6H",
    "outputId": "c26fd0e1-b2db-4cf9-92b2-ebb490c266f4"
   },
   "outputs": [],
   "source": [
    "print(\"The train set contains\", str(len(train_images)), \"images.\")\n",
    "print(\"The train set contains\", str(len(train_labels)), \"labels.\")\n",
    "print(\"The list contains the coordinates of the annotations of\", str(len(train_cor)), \"images.\")\n",
    "print(\"The list of genera contains\", str(len(train_gen)), \"elements.\")"
   ]
  },
  {
   "cell_type": "code",
   "execution_count": null,
   "metadata": {
    "colab": {
     "base_uri": "https://localhost:8080/"
    },
    "id": "aLY2bIRXQrDu",
    "outputId": "c4ffcc74-427e-43f5-fe91-bfcd4ffbbeb2"
   },
   "outputs": [],
   "source": [
    "print(\"The images in the train set have a width of\", str( train_images.shape[2]),\"and a height of\",str(train_images.shape[1]))\n",
    "print(\"The labels in the train set have a width of\", str( train_labels.shape[2]),\"and a height of\",str(train_labels.shape[1]))"
   ]
  },
  {
   "cell_type": "code",
   "execution_count": null,
   "metadata": {
    "colab": {
     "base_uri": "https://localhost:8080/"
    },
    "id": "eZj0o4206Twd",
    "outputId": "62e7d203-d093-4c58-a7b0-fb920423f128"
   },
   "outputs": [],
   "source": [
    "print(\"The maximum pixel value of the images is:\", str(np.amax(train_images)))\n",
    "print(\"The minumum pixel value of the images is:\", str(np.amin(train_images)))\n",
    "print(\"The maximum pixel value of the labels is:\", str(np.amax(train_labels)))\n",
    "print(\"The minumum pixel value of the labels is:\", str(np.amin(train_labels)))"
   ]
  },
  {
   "cell_type": "markdown",
   "metadata": {
    "id": "4vhnIOxpRf7S"
   },
   "source": [
    "## Replicates"
   ]
  },
  {
   "cell_type": "code",
   "execution_count": null,
   "metadata": {
    "id": "z1Pyk77TRfLZ"
   },
   "outputs": [],
   "source": [
    "for train_image in train_images:\n",
    "  if sum(np.all(train_images == train_image, axis=(1,2)))>1:\n",
    "    print(\"There is a replicate.\")"
   ]
  },
  {
   "cell_type": "markdown",
   "metadata": {
    "id": "-FQWMZWebyHr",
    "tags": []
   },
   "source": [
    "# Validation set and train set"
   ]
  },
  {
   "cell_type": "code",
   "execution_count": null,
   "metadata": {
    "id": "OGww9l6Mbx5N"
   },
   "outputs": [],
   "source": [
    "n = int(0.3 * len(train_images))\n",
    "\n",
    "train_features = train_images[n:]\n",
    "train_targets = train_labels[n:]\n",
    "train_coordinates = train_cor[n:]\n",
    "train_genera = train_gen[n:]\n",
    "\n",
    "val_features = train_images[:n]\n",
    "val_targets = train_labels[:n]\n",
    "val_coordinates = train_cor[:n]\n",
    "val_genera = train_gen[:n]"
   ]
  },
  {
   "cell_type": "code",
   "execution_count": null,
   "metadata": {},
   "outputs": [],
   "source": [
    "with open(\"Data/train_coordinates.pkl\", 'wb') as file:\n",
    "    pickle.dump(train_coordinates, file)\n",
    "    \n",
    "with open(\"Data/train_genera.pkl\", 'wb') as file:\n",
    "    pickle.dump(train_genera, file)\n",
    "    \n",
    "with open(\"Data/val_coordinates.pkl\", 'wb') as file:\n",
    "    pickle.dump(val_coordinates, file)\n",
    "    \n",
    "with open(\"Data/val_genera.pkl\", 'wb') as file:\n",
    "    pickle.dump(val_genera, file)"
   ]
  },
  {
   "cell_type": "code",
   "execution_count": null,
   "metadata": {
    "colab": {
     "base_uri": "https://localhost:8080/"
    },
    "id": "Y12Y-XjjbxOg",
    "outputId": "6078c0a5-727d-4bdf-9882-462a3333de4c"
   },
   "outputs": [],
   "source": [
    "print(\"The train set contains\", str(len(train_features)), \"images.\")\n",
    "print(\"The train set contains\", str(len(train_targets)), \"labels.\")\n",
    "print(\"The train set contains the coordinates of the annotations of\", str(len(train_coordinates)), \"images.\")\n",
    "print(\"The list of genera of the train set contains\", str(len(train_genera)), \"elements.\")\n",
    "\n",
    "print(\"The validation set contains\", str(len(val_features)), \"images.\")\n",
    "print(\"The validation set contains\", str(len(val_targets)), \"labels.\")\n",
    "print(\"The validation set contains the coordinates of the annotations of\", str(len(val_coordinates)), \"images.\")\n",
    "print(\"The list of genera of the validation set contains\", str(len(val_genera)), \"elements.\")"
   ]
  },
  {
   "cell_type": "code",
   "execution_count": null,
   "metadata": {
    "colab": {
     "base_uri": "https://localhost:8080/",
     "height": 252
    },
    "id": "f2LTKldEemG5",
    "outputId": "c019f739-c0e9-42dc-e270-233f130ea1dc"
   },
   "outputs": [],
   "source": [
    "i = random.choice(range(len(train_features)))\n",
    "plt.figure()\n",
    "plt.subplot(1,2,1)\n",
    "plt.imshow(train_features[i],cmap=\"gray\")\n",
    "plt.scatter(*zip(*train_coordinates[i]),s=1, c=\"orange\")\n",
    "plt.axis(\"off\")\n",
    "plt.title(\"Annotated image\")\n",
    "plt.subplot(1,2,2)\n",
    "plt.imshow(train_targets[i], cmap=\"inferno\")\n",
    "plt.axis(\"off\")\n",
    "plt.title(\"Target\")"
   ]
  },
  {
   "cell_type": "code",
   "execution_count": null,
   "metadata": {},
   "outputs": [],
   "source": [
    "i = random.choice(range(len(val_features)))\n",
    "plt.figure()\n",
    "plt.subplot(1,2,1)\n",
    "plt.imshow(val_features[i],cmap=\"gray\")\n",
    "plt.scatter(*zip(*val_coordinates[i]),s=1, c=\"orange\")\n",
    "plt.axis(\"off\")\n",
    "plt.title(\"Annotated image\")\n",
    "plt.subplot(1,2,2)\n",
    "plt.imshow(val_targets[i], cmap=\"inferno\")\n",
    "plt.axis(\"off\")\n",
    "plt.title(\"Target\")"
   ]
  },
  {
   "cell_type": "markdown",
   "metadata": {},
   "source": [
    "# Data generator"
   ]
  },
  {
   "cell_type": "code",
   "execution_count": null,
   "metadata": {},
   "outputs": [],
   "source": [
    "# Create a HDF5 file for train set\n",
    "fileHDFTrain = 'Data/train.hdf5'\n",
    "with h5py.File(fileHDFTrain, 'w') as hdf:\n",
    "    hdf.create_dataset('features', data=train_features)\n",
    "    hdf.create_dataset('targets',  data=train_targets)\n",
    "    \n",
    "# Create a HDF5 file for validation set\n",
    "fileHDFVal = 'Data/val.hdf5'\n",
    "with h5py.File(fileHDFVal, 'w') as hdf:\n",
    "    hdf.create_dataset('features', data=val_features)\n",
    "    hdf.create_dataset('targets',  data=val_targets)"
   ]
  },
  {
   "cell_type": "code",
   "execution_count": null,
   "metadata": {},
   "outputs": [],
   "source": [
    "batch_size = 1\n",
    "\n",
    "augmentations = {\n",
    "    'random_vertical_flip': None,\n",
    "    'random_horizontal_flip': None,\n",
    "    'rotation': 45,\n",
    "    'translation': 500,\n",
    "    'brightness': 0.2\n",
    "}\n",
    "\n",
    "fileHDFTrain = 'Data/train.hdf5'\n",
    "fileHDFVal = 'Data/val.hdf5'"
   ]
  },
  {
   "cell_type": "code",
   "execution_count": null,
   "metadata": {},
   "outputs": [],
   "source": [
    "train_gen = create_hdf5_generator(\n",
    "    fileHDFTrain,\n",
    "    batch_size,\n",
    "    augmentations = augmentations,\n",
    "    keys = ['features', 'targets']\n",
    ")\n",
    "\n",
    "val_gen = create_hdf5_generator(\n",
    "    fileHDFVal,\n",
    "    batch_size,\n",
    "    augmentations = {},\n",
    "    keys = ['features', 'targets']\n",
    ")"
   ]
  },
  {
   "cell_type": "code",
   "execution_count": null,
   "metadata": {},
   "outputs": [],
   "source": [
    "features, targets = next(train_gen)\n",
    "\n",
    "for i in range(batch_size):\n",
    "    plt.figure()\n",
    "    plt.subplot(1,2,1)\n",
    "    plt.imshow(features[i], cmap=\"gray\")\n",
    "    plt.axis(\"off\")\n",
    "    plt.title('Image')\n",
    "    plt.subplot(1,2,2)\n",
    "    plt.imshow(targets[i], cmap=\"inferno\")\n",
    "    plt.title('Target')\n",
    "    plt.axis(\"off\")"
   ]
  },
  {
   "cell_type": "code",
   "execution_count": null,
   "metadata": {},
   "outputs": [],
   "source": [
    "features, targets = next(val_gen)\n",
    "\n",
    "for i in range(batch_size):\n",
    "    plt.figure()\n",
    "    plt.subplot(1,2,1)\n",
    "    plt.imshow(features[i], cmap=\"gray\")\n",
    "    plt.title('Image')\n",
    "    plt.axis(\"off\")\n",
    "    plt.subplot(1,2,2)\n",
    "    plt.imshow(targets[i], cmap=\"inferno\")\n",
    "    plt.title('Target')\n",
    "    plt.axis(\"off\")"
   ]
  },
  {
   "cell_type": "code",
   "execution_count": null,
   "metadata": {},
   "outputs": [],
   "source": []
  }
 ],
 "metadata": {
  "accelerator": "GPU",
  "colab": {
   "gpuType": "T4",
   "provenance": []
  },
  "kernelspec": {
   "display_name": "kiwibes_clone",
   "language": "python",
   "name": "kiwibes_clone"
  },
  "language_info": {
   "codemirror_mode": {
    "name": "ipython",
    "version": 3
   },
   "file_extension": ".py",
   "mimetype": "text/x-python",
   "name": "python",
   "nbconvert_exporter": "python",
   "pygments_lexer": "ipython3",
   "version": "3.9.12"
  }
 },
 "nbformat": 4,
 "nbformat_minor": 4
}
