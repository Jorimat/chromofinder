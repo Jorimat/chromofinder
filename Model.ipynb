{
 "cells": [
  {
   "cell_type": "code",
   "execution_count": null,
   "metadata": {},
   "outputs": [],
   "source": [
    "import os\n",
    "#os.environ[\"CUDA_VISIBLE_DEVICES\"]=\"1\" # NVIDIA GeForce RTX 3090\n",
    "os.environ[\"CUDA_VISIBLE_DEVICES\"]=\"3\" # NVIDIA GeForce RTX 2080\n",
    " \n",
    "import tensorflow.compat.v2 as tf\n",
    "print(\"Num GPUs Available: \", len(tf.config.experimental.list_physical_devices('GPU')))\n",
    "gpus = tf.config.experimental.list_physical_devices('GPU')\n",
    " \n",
    "print(gpus)"
   ]
  },
  {
   "cell_type": "code",
   "execution_count": null,
   "metadata": {
    "id": "liW7L7SY86ks"
   },
   "outputs": [],
   "source": [
    "import pickle\n",
    "import numpy as np\n",
    "import matplotlib.pyplot as plt\n",
    "import tensorflow as tf\n",
    "import tensorflow.keras.layers as layers\n",
    "import zipfile\n",
    "import os\n",
    "import random\n",
    "import datetime\n",
    "import h5py\n",
    "import cv2\n",
    "import sklearn.metrics \n",
    "from functions import *"
   ]
  },
  {
   "cell_type": "code",
   "execution_count": null,
   "metadata": {},
   "outputs": [],
   "source": [
    "# Load the TensorBoard notebook extension\n",
    "%load_ext tensorboard"
   ]
  },
  {
   "cell_type": "code",
   "execution_count": null,
   "metadata": {},
   "outputs": [],
   "source": [
    "# Set name of files/directories used to save logs and model\n",
    "name_model = \"Final (M0_5(3x3)_2)\"\n",
    "#version = \".1\"\n",
    "\n",
    "filepath_dic = \"Results/\" + name_model\n",
    "#filepath_subdic = filepath_dic + \"/\" + name_model + version\n",
    "\n",
    "filepath_checkpoint_model = filepath_dic + \"/checkpoint.model.keras\"\n",
    "log_dir = filepath_dic + \"/\" + datetime.datetime.now().strftime(\"%Y%m%d-%H%M%S\")"
   ]
  },
  {
   "cell_type": "code",
   "execution_count": null,
   "metadata": {},
   "outputs": [],
   "source": [
    "# Make directory and subdirectory to save logs and model\n",
    "os.mkdir(filepath_dic)\n",
    "#os.mkdir(filepath_subdic)"
   ]
  },
  {
   "cell_type": "code",
   "execution_count": null,
   "metadata": {},
   "outputs": [],
   "source": [
    "# Clear any logs from previous runs\n",
    "#!rm -rf ./logs/"
   ]
  },
  {
   "cell_type": "markdown",
   "metadata": {},
   "source": [
    "# Data generator"
   ]
  },
  {
   "cell_type": "code",
   "execution_count": null,
   "metadata": {},
   "outputs": [],
   "source": [
    "# Path of hdf5 files\n",
    "fileHDFTrain = 'Data/train.hdf5'\n",
    "fileHDFVal = 'Data/val.hdf5'"
   ]
  },
  {
   "cell_type": "markdown",
   "metadata": {},
   "source": [
    "## Parameters/Settings"
   ]
  },
  {
   "cell_type": "code",
   "execution_count": null,
   "metadata": {},
   "outputs": [],
   "source": [
    "batch_size = 2\n",
    "\n",
    "augmentations = {\n",
    "    'random_vertical_flip': None,\n",
    "    'random_horizontal_flip': None,\n",
    "    'rotation': 45,\n",
    "    'translation': 500,\n",
    "    'brightness': 0.2\n",
    "}"
   ]
  },
  {
   "cell_type": "code",
   "execution_count": null,
   "metadata": {},
   "outputs": [],
   "source": [
    "train_gen = create_hdf5_generator(\n",
    "    fileHDFTrain,\n",
    "    batch_size,\n",
    "    augmentations = augmentations,\n",
    "    keys = ['features', 'targets']\n",
    ")\n",
    "\n",
    "val_gen = create_hdf5_generator(\n",
    "    fileHDFVal,\n",
    "    batch_size,\n",
    "    augmentations = {},\n",
    "    keys = ['features', 'targets']\n",
    ")"
   ]
  },
  {
   "cell_type": "markdown",
   "metadata": {},
   "source": [
    "## Examples"
   ]
  },
  {
   "cell_type": "code",
   "execution_count": null,
   "metadata": {},
   "outputs": [],
   "source": [
    "features, targets = next(train_gen)\n",
    "\n",
    "for i in range(batch_size):\n",
    "    plt.figure()\n",
    "    plt.subplot(1,2,1)\n",
    "    plt.imshow(features[i], cmap=\"gray\")\n",
    "    plt.axis(\"off\")\n",
    "    plt.title('Image')\n",
    "    plt.subplot(1,2,2)\n",
    "    plt.imshow(targets[i], cmap=\"inferno\")\n",
    "    plt.title('Target')\n",
    "    plt.axis(\"off\")"
   ]
  },
  {
   "cell_type": "code",
   "execution_count": null,
   "metadata": {},
   "outputs": [],
   "source": [
    "features, targets = next(val_gen)\n",
    "\n",
    "for i in range(batch_size):\n",
    "    plt.figure()\n",
    "    plt.subplot(1,2,1)\n",
    "    plt.imshow(features[i], cmap=\"gray\")\n",
    "    plt.title('Image')\n",
    "    plt.axis(\"off\")\n",
    "    plt.subplot(1,2,2)\n",
    "    plt.imshow(targets[i], cmap=\"inferno\")\n",
    "    plt.title('Target')\n",
    "    plt.axis(\"off\")"
   ]
  },
  {
   "cell_type": "markdown",
   "metadata": {
    "id": "5wXmLz6rSDS5",
    "tags": []
   },
   "source": [
    "# U-Net\n"
   ]
  },
  {
   "cell_type": "code",
   "execution_count": null,
   "metadata": {},
   "outputs": [],
   "source": [
    "train = h5py.File(fileHDFTrain, 'r')\n",
    "val = h5py.File(fileHDFVal, 'r')"
   ]
  },
  {
   "cell_type": "markdown",
   "metadata": {},
   "source": [
    "## Parameters"
   ]
  },
  {
   "cell_type": "code",
   "execution_count": null,
   "metadata": {},
   "outputs": [],
   "source": [
    "# Determine height and width of the model's inputs\n",
    "h_img = train[\"features\"].shape[1]\n",
    "w_img = train[\"features\"].shape[2]\n",
    "\n",
    "c_feat = 1\n",
    "num_classes = 1"
   ]
  },
  {
   "cell_type": "code",
   "execution_count": null,
   "metadata": {},
   "outputs": [],
   "source": [
    "# Calculate number of steps per epoch for train and validation\n",
    "steps_per_epoch = len(train[\"features\"])//batch_size\n",
    "validation_steps = len(val[\"features\"])//batch_size\n",
    "\n",
    "print('steps_per_epoch:', steps_per_epoch)\n",
    "print('validation_steps:', validation_steps)"
   ]
  },
  {
   "cell_type": "markdown",
   "metadata": {},
   "source": [
    "## Model"
   ]
  },
  {
   "cell_type": "code",
   "execution_count": null,
   "metadata": {},
   "outputs": [],
   "source": [
    "model = initiate_model0(\n",
    "    h_img=2048, w_img=2688,\n",
    "    c_feat=1, num_classes=1,\n",
    "    n_contractions=6,\n",
    "    dropout_rate=0,\n",
    "    size_kernel=(3,3))\n",
    "model.summary()"
   ]
  },
  {
   "cell_type": "code",
   "execution_count": null,
   "metadata": {},
   "outputs": [],
   "source": [
    "tensorboard_callback = tf.keras.callbacks.TensorBoard(log_dir=log_dir, histogram_freq=1)\n",
    "\n",
    "model.compile(optimizer='adam', loss='binary_crossentropy')\n",
    "\n",
    "callbacks = [\n",
    "        tf.keras.callbacks.EarlyStopping(patience= 10, monitor='val_loss'),\n",
    "        tf.keras.callbacks.TensorBoard(log_dir= log_dir),\n",
    "        tf.keras.callbacks.ModelCheckpoint(filepath=filepath_checkpoint_model ,monitor=\"val_loss\", verbose=True, save_best_only=True)\n",
    "]"
   ]
  },
  {
   "cell_type": "markdown",
   "metadata": {},
   "source": [
    "## Training"
   ]
  },
  {
   "cell_type": "code",
   "execution_count": null,
   "metadata": {},
   "outputs": [],
   "source": [
    "history = model.fit(\n",
    "    train_gen,\n",
    "    validation_data=(val_gen),\n",
    "    batch_size=batch_size,\n",
    "    epochs=50,\n",
    "    steps_per_epoch=steps_per_epoch,\n",
    "    validation_steps=validation_steps,\n",
    "    callbacks=callbacks\n",
    ")"
   ]
  },
  {
   "cell_type": "markdown",
   "metadata": {},
   "source": [
    "### Evaluation (loss)"
   ]
  },
  {
   "cell_type": "code",
   "execution_count": null,
   "metadata": {
    "id": "k_530GgrAT_V"
   },
   "outputs": [],
   "source": [
    "history_dict = history.history\n",
    "\n",
    "loss_values = history_dict[\"loss\"]\n",
    "val_loss_values = history_dict[\"val_loss\"]\n",
    "\n",
    "#precision = history_dict[\"precision\"]\n",
    "#val_precicion = history_dict[\"val_precision\"]\n",
    "#recall = history_dict[\"recall\"]\n",
    "#val_recall = history_dict[\"val_recall\"]\n",
    "\n",
    "epochs = range(1, len(loss_values) + 1)"
   ]
  },
  {
   "cell_type": "code",
   "execution_count": null,
   "metadata": {},
   "outputs": [],
   "source": [
    "plt.figure()\n",
    "plt.plot(epochs, loss_values, \"bo\", label=\"Training loss\")\n",
    "plt.plot(epochs, val_loss_values, \"b\", label=\"Validation loss\")\n",
    "plt.title(\"Training and validation loss\")\n",
    "plt.xlabel(\"Epochs\")\n",
    "plt.ylabel(\"Loss\")\n",
    "plt.ylim(bottom=0)\n",
    "plt.legend()\n",
    "plt.show()"
   ]
  },
  {
   "cell_type": "code",
   "execution_count": null,
   "metadata": {},
   "outputs": [],
   "source": [
    "#plt.plot(epochs, prec, \"bo\", label=\"Training precision\")\n",
    "#plt.plot(epochs, val_prec, \"b\", label=\"Validation precision\")\n",
    "#plt.title(\"Training and validation precision\")\n",
    "#plt.xlabel(\"Epochs\")\n",
    "#plt.ylabel(\"precision\")\n",
    "#plt.ylim((0,1))\n",
    "#plt.legend()\n",
    "#plt.show()"
   ]
  },
  {
   "cell_type": "code",
   "execution_count": null,
   "metadata": {},
   "outputs": [],
   "source": [
    "#plt.plot(epochs, recall, \"bo\", label=\"Training recall\")\n",
    "#plt.plot(epochs, val_recall, \"b\", label=\"Validation recall\")\n",
    "#plt.title(\"Training and validation recall\")\n",
    "#plt.xlabel(\"Epochs\")\n",
    "#plt.ylabel(\"Recall\")\n",
    "#plt.ylim((0,1))\n",
    "#plt.legend()\n",
    "#plt.show()"
   ]
  },
  {
   "cell_type": "code",
   "execution_count": null,
   "metadata": {},
   "outputs": [],
   "source": [
    "%tensorboard --logdir \"logs/\""
   ]
  }
 ],
 "metadata": {
  "accelerator": "GPU",
  "colab": {
   "gpuType": "T4",
   "provenance": []
  },
  "kernelspec": {
   "display_name": "kiwibes_clone",
   "language": "python",
   "name": "kiwibes_clone"
  },
  "language_info": {
   "codemirror_mode": {
    "name": "ipython",
    "version": 3
   },
   "file_extension": ".py",
   "mimetype": "text/x-python",
   "name": "python",
   "nbconvert_exporter": "python",
   "pygments_lexer": "ipython3",
   "version": "3.9.12"
  }
 },
 "nbformat": 4,
 "nbformat_minor": 4
}
