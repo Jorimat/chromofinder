{
 "cells": [
  {
   "cell_type": "code",
   "execution_count": null,
   "id": "9bffdd96-ddcf-4e06-84c1-32d843671554",
   "metadata": {},
   "outputs": [],
   "source": [
    "import pickle\n",
    "import random\n",
    "import matplotlib.pyplot as plt\n",
    "import numpy as np\n",
    "import zipfile\n",
    "import os\n",
    "import random\n",
    "import datetime\n",
    "import h5py\n",
    "import sklearn.metrics \n",
    "import cv2\n",
    "import skimage.measure as measure\n",
    "import skimage.filters as filters\n",
    "import skimage.morphology as morphology\n",
    "import skimage.exposure as exposure\n",
    "import tensorflow as tf\n",
    "import tensorflow.keras.layers as layers\n",
    "import tensorflow.compat.v2 as tf\n",
    "import seaborn as sns\n",
    "import matplotlib.patches as patches\n",
    "from functions import *"
   ]
  },
  {
   "cell_type": "code",
   "execution_count": null,
   "id": "295bd9db-f93c-495c-90ca-f693b3a4e671",
   "metadata": {},
   "outputs": [],
   "source": [
    "#os.environ[\"CUDA_VISIBLE_DEVICES\"]=\"1\" # NVIDIA GeForce RTX 3090\n",
    "os.environ[\"CUDA_VISIBLE_DEVICES\"]=\"3\" # NVIDIA GeForce RTX 2080\n",
    " \n",
    "print(\"Num GPUs Available: \", len(tf.config.experimental.list_physical_devices('GPU')))\n",
    "gpus = tf.config.experimental.list_physical_devices('GPU')\n",
    " \n",
    "print(gpus)"
   ]
  },
  {
   "cell_type": "markdown",
   "id": "d3891df0-3103-4b50-a112-4f0e21a5aa45",
   "metadata": {},
   "source": [
    "# Test set"
   ]
  },
  {
   "cell_type": "code",
   "execution_count": null,
   "id": "d7b9f780-2f68-4c86-b19f-dc9e7237ad5b",
   "metadata": {},
   "outputs": [],
   "source": [
    "with open('Data/TEST_Images_2.pkl', 'rb') as file:\n",
    "    test_images = pickle.load(file)\n",
    "\n",
    "with open('Data/TEST_Labels_2.pkl', 'rb') as file:\n",
    "    test_labels = pickle.load(file)\n",
    "\n",
    "with open('Data/TEST_Coordinates_2.pkl', 'rb') as file:\n",
    "    test_coordinates = pickle.load(file)\n",
    "    \n",
    "with open('Data/TEST_Genera_2.pkl', 'rb') as file:\n",
    "    test_genera = pickle.load(file)\n",
    "    \n",
    "name_model = \"Final (M0_6(3x3)_2)\"\n",
    "filepath_dic = \"Results/\" + name_model\n",
    "name_test_prediction = filepath_dic + \"/test_prediction.pkl\"\n",
    "\n",
    "with open(name_test_prediction, 'rb') as file:\n",
    "    test_predictions = pickle.load(file)"
   ]
  },
  {
   "cell_type": "markdown",
   "id": "12df0a1c-ea00-4671-bb86-6b9f5ee2dc9b",
   "metadata": {},
   "source": [
    "## Data exploration"
   ]
  },
  {
   "cell_type": "code",
   "execution_count": null,
   "id": "534baa65-747a-43db-a62d-71453cde5000",
   "metadata": {},
   "outputs": [],
   "source": [
    "print(test_images.dtype)\n",
    "print(test_labels.dtype)"
   ]
  },
  {
   "cell_type": "code",
   "execution_count": null,
   "id": "2aee9e6f-6bd4-4539-bdde-e1fbfe014324",
   "metadata": {},
   "outputs": [],
   "source": [
    "print(\"The test set contains\", str(len(test_images)), \"images.\")\n",
    "print(\"The test set contains\", str(len(test_labels)), \"labels.\")\n",
    "print(\"The length of the list with coordinates is:\", str(len(test_coordinates)))\n",
    "print(\"The length of the list with genera is:\", str(len(test_genera)))"
   ]
  },
  {
   "cell_type": "code",
   "execution_count": null,
   "id": "c5754d86-5111-40e2-b764-faa711663438",
   "metadata": {},
   "outputs": [],
   "source": [
    "print(\"The images in the test set have a width of\", str( test_images.shape[2]),\"and a height of\",str(test_images.shape[1]))\n",
    "print(\"The labels in the test set have a width of\", str( test_labels.shape[2]),\"and a height of\",str(test_labels.shape[1]))"
   ]
  },
  {
   "cell_type": "code",
   "execution_count": null,
   "id": "f61e7133-a7fa-4c66-9d56-949303a10ae2",
   "metadata": {},
   "outputs": [],
   "source": [
    "print(\"The maximum pixel value of the images is:\", str(np.amax(test_images)))\n",
    "print(\"The minumum pixel value of the images is:\", str(np.amin(test_images)))\n",
    "\n",
    "print(\"The maximum pixel value of the labels is:\", str(np.amax(test_labels)))\n",
    "print(\"The minumum pixel value of the labels is:\", str(np.amin(test_labels)))"
   ]
  },
  {
   "cell_type": "markdown",
   "id": "5392ec49-1180-4ed0-b391-1f4ab5200bf4",
   "metadata": {},
   "source": [
    "### Plot"
   ]
  },
  {
   "cell_type": "code",
   "execution_count": null,
   "id": "b5517fb6-097a-4efb-80ac-529e9c528b70",
   "metadata": {},
   "outputs": [],
   "source": [
    "i = random.choice(range(len(test_images)))\n",
    "plt.figure(figsize=(30,20))\n",
    "plt.subplot(1,2,1)\n",
    "plt.imshow(test_images[i],cmap=\"gray\")\n",
    "plt.axis(\"off\")\n",
    "plt.title(\"Annotated image\", size=30)\n",
    "plt.scatter(*zip(*test_coordinates[i]),s=20, c=\"orange\")\n",
    "\n",
    "plt.subplot(1,2,2)\n",
    "plt.imshow(test_labels[i],cmap=\"nipy_spectral\")\n",
    "plt.axis(\"off\")\n",
    "plt.title(\"Ground thruth\", size=30)"
   ]
  },
  {
   "cell_type": "markdown",
   "id": "ba3c13e6-da73-4c43-b0ed-d3221013ddc1",
   "metadata": {
    "tags": []
   },
   "source": [
    "# Prediction"
   ]
  },
  {
   "cell_type": "markdown",
   "id": "6dc7b7e3-247a-4bf4-b12a-a90524b06863",
   "metadata": {},
   "source": [
    "## Final model"
   ]
  },
  {
   "cell_type": "code",
   "execution_count": null,
   "id": "88842216-619c-4d41-b2d6-917401461e2c",
   "metadata": {},
   "outputs": [],
   "source": [
    "name_model = \"Final (M0_6(3x3)_2)\"\n",
    "filepath_dic = \"Results/\" + name_model\n",
    "filepath_checkpoint_model = filepath_dic + \"/checkpoint.model.keras\""
   ]
  },
  {
   "cell_type": "markdown",
   "id": "4e14afbc-6090-4811-89bd-50c0e0c20de4",
   "metadata": {},
   "source": [
    "## Prediction"
   ]
  },
  {
   "cell_type": "code",
   "execution_count": null,
   "id": "dc684cae-6a64-4057-b637-38df2912b8d4",
   "metadata": {},
   "outputs": [],
   "source": [
    "model_best = tf.keras.models.load_model(filepath_checkpoint_model)\n",
    "batch_size = 1\n",
    "test_predictions = model_best.predict(\n",
    "    test_images,\n",
    "    batch_size=batch_size)"
   ]
  },
  {
   "cell_type": "code",
   "execution_count": null,
   "id": "5ea7ee5d-adbe-49fb-abc4-c1d4d4cf49ae",
   "metadata": {},
   "outputs": [],
   "source": [
    "test_predictions.shape"
   ]
  },
  {
   "cell_type": "code",
   "execution_count": null,
   "id": "bd4ff69b-0d49-45be-a87f-eb31c05eef2b",
   "metadata": {},
   "outputs": [],
   "source": [
    "name_test_prediction = filepath_dic + \"/test_prediction.pkl\"\n",
    "test_predictions = test_predictions.reshape((126,2048,2688))\n",
    "with open(name_test_prediction, 'wb') as file:\n",
    "    pickle.dump(test_predictions, file)"
   ]
  },
  {
   "cell_type": "code",
   "execution_count": null,
   "id": "c478a3f9-c61a-4a67-985a-1e2f188fed93",
   "metadata": {},
   "outputs": [],
   "source": [
    "i = random.choice(range(len(test_images)))\n",
    "plt.figure(figsize=(50,25))\n",
    "plt.subplot(1,3,1)\n",
    "plt.imshow(test_images[i],cmap=\"gray\")\n",
    "plt.axis(\"off\")\n",
    "plt.title(\"Annotated image\", size=50)\n",
    "plt.scatter(*zip(*test_coordinates[i]),s=50, c=\"orange\")\n",
    "plt.subplot(1,3,2)\n",
    "plt.imshow(test_labels[i],cmap=\"nipy_spectral\")\n",
    "plt.axis(\"off\")\n",
    "plt.title(\"Ground truth\", size=50)\n",
    "plt.subplot(1,3,3)\n",
    "plt.imshow(test_predictions[i],cmap=\"nipy_spectral\")\n",
    "plt.axis(\"off\")\n",
    "plt.title(\"Prediction\", size=50)\n",
    "plt.scatter(*zip(*test_coordinates[i]),s=5, c=\"white\")"
   ]
  },
  {
   "cell_type": "code",
   "execution_count": null,
   "id": "c6469973-a532-47a1-b34f-c3de2bfe9254",
   "metadata": {},
   "outputs": [],
   "source": [
    "i"
   ]
  },
  {
   "cell_type": "markdown",
   "id": "1b2a1335-8832-4319-991a-32dc491e0999",
   "metadata": {},
   "source": [
    "# Post-processing"
   ]
  },
  {
   "cell_type": "markdown",
   "id": "98695b44-1738-4c4d-ac98-8eff8a208257",
   "metadata": {},
   "source": [
    "## Parameters for post-processing"
   ]
  },
  {
   "cell_type": "code",
   "execution_count": null,
   "id": "58256aec-1756-4503-8f8e-d6d6f91053fe",
   "metadata": {},
   "outputs": [],
   "source": [
    "blurring = True\n",
    "blur_kernel_size = 11\n",
    "\n",
    "kernel_shape = \"ellipse\"\n",
    "\n",
    "threshold_technique = cv2.THRESH_BINARY+cv2.THRESH_OTSU\n",
    "threshold = 1\n",
    "\n",
    "morphological_operations = {\"erosion\":{\"kernel_size\":11, \"iterations\":1},\n",
    "                            \"closing\":{\"kernel_size\":11, \"iterations\":1}}\n",
    "\n",
    "order_morphological_operations =  [\"closing\",\"erosion\"] "
   ]
  },
  {
   "cell_type": "markdown",
   "id": "561d1a13-af98-4bf3-b37a-756d0e9e9142",
   "metadata": {},
   "source": [
    "## Post-processing"
   ]
  },
  {
   "cell_type": "code",
   "execution_count": null,
   "id": "5c0c97cd-5bbd-4317-aa52-1aef019dcdf2",
   "metadata": {},
   "outputs": [],
   "source": [
    "post_processed_predictions = []\n",
    "\n",
    "for prediction in test_predictions:\n",
    "    \n",
    "    # normalize pixel values between 0 and 1\n",
    "    normalized = normalization(prediction)\n",
    "    normalized = (normalized*255).astype(\"uint8\")\n",
    "    \n",
    "    # post-processing\n",
    "    post_processed  = post_processing(\n",
    "        im=normalized,\n",
    "        blurring=blurring,\n",
    "        blur_kernel_sz=blur_kernel_size,\n",
    "        thresh_technique=threshold_technique,\n",
    "        thresh=threshold,\n",
    "        kernel_shape=kernel_shape,\n",
    "        morph_ops=morphological_operations,\n",
    "        order_morph_ops=order_morphological_operations)\n",
    "    \n",
    "    post_processed_predictions.append(post_processed)"
   ]
  },
  {
   "cell_type": "markdown",
   "id": "42816ef4-6bdd-4115-a10a-4c4b6e81b62b",
   "metadata": {},
   "source": [
    "### Figures"
   ]
  },
  {
   "cell_type": "code",
   "execution_count": null,
   "id": "39631304-c826-48ea-acfe-7fdf62bdc1d0",
   "metadata": {},
   "outputs": [],
   "source": [
    "index = random.choice(range(len(test_images)))"
   ]
  },
  {
   "cell_type": "code",
   "execution_count": null,
   "id": "ea493dd5-666f-41f6-99ca-81c5d694ae63",
   "metadata": {},
   "outputs": [],
   "source": [
    "plots = []\n",
    "\n",
    "real_positions = test_coordinates[index]\n",
    "    \n",
    "prediction = test_predictions[index]\n",
    "plots.append(prediction)\n",
    "\n",
    "# normalisation\n",
    "normalised = normalization(prediction)\n",
    "normalised = (normalised*255).astype(\"uint8\")\n",
    "plots.append(normalised)\n",
    "    \n",
    "# blurring\n",
    "blur_kernel = np.ones((11, 11), np.float32)/11**2\n",
    "blurred = cv2.filter2D(src=normalised, ddepth=-1, kernel=blur_kernel)\n",
    "plots.append(blurred)\n",
    " \n",
    "# thresholding\n",
    "binary = cv2.threshold(blurred,0,255,cv2.THRESH_BINARY+cv2.THRESH_OTSU)[1]\n",
    "plots.append(binary)\n",
    "        \n",
    "\n",
    "# morpholoical operations\n",
    "kernel = cv2.getStructuringElement(cv2.MORPH_ELLIPSE,(11, 11))\n",
    "closing = cv2.morphologyEx(binary, cv2.MORPH_CLOSE,kernel, iterations=1)\n",
    "erosion = cv2.erode(closing, kernel, iterations=1)\n",
    "plots.append(closing)\n",
    "plots.append(erosion)\n",
    "        \n",
    "# labbeling\n",
    "labelled = morphology.label(erosion)\n",
    "plots.append(labelled)\n",
    "\n",
    "cmaps = [\"nipy_spectral\", \"nipy_spectral\", \"nipy_spectral\", \"gray\", \"gray\", \"gray\", \"nipy_spectral\"]\n",
    "# figure\n",
    "plt.figure(figsize=(100,80))\n",
    "for i,plot in enumerate(plots):\n",
    "    plt.subplot(1,len(plots),i+1)\n",
    "    plt.imshow(plot, cmap=cmaps[i], interpolation='none')\n",
    "    plt.scatter(*zip(*real_positions),s=10, c=\"white\")\n",
    "    plt.axis(\"off\")"
   ]
  },
  {
   "cell_type": "code",
   "execution_count": null,
   "id": "19dd7919-666e-4bcb-8826-a69b829964b9",
   "metadata": {},
   "outputs": [],
   "source": [
    "plt.imsave(os.path.join(\"Images thesis/Post-processing\",\"Prediction \"+str(index)+\".png\"), arr=prediction, cmap=\"nipy_spectral\", format=\"png\")\n",
    "plt.imsave(os.path.join(\"Images thesis/Post-processing\",\"Average blurring \"+str(index)+\".png\"), arr=blurred, cmap=\"nipy_spectral\", format=\"png\")\n",
    "plt.imsave(os.path.join(\"Images thesis/Post-processing\",\"Thresholding \"+str(index)+\".png\"), arr=binary, cmap=\"gray\", format=\"png\")\n",
    "plt.imsave(os.path.join(\"Images thesis/Post-processing\",\"Closing \"+str(index)+\".png\"), arr=closing, cmap=\"gray\", format=\"png\")\n",
    "plt.imsave(os.path.join(\"Images thesis/Post-processing\",\"Erosion \"+str(index)+\".png\"), arr=erosion, cmap=\"gray\", format=\"png\")\n",
    "plt.imsave(os.path.join(\"Images thesis/Post-processing\",\"Labelling \"+str(index)+\".png\"), arr=labelled, cmap=\"nipy_spectral\", format=\"png\")"
   ]
  },
  {
   "cell_type": "markdown",
   "id": "1cc55258-bb02-4a1c-834d-2117f1734fe2",
   "metadata": {},
   "source": [
    "# Evaluation"
   ]
  },
  {
   "cell_type": "code",
   "execution_count": null,
   "id": "bc9fa8f8-5ac6-4f03-988a-3b3fb1f1d870",
   "metadata": {},
   "outputs": [],
   "source": [
    "genera_unique = [\"Agapanthus\", \"Geranium\", \"Ilex\", \"Persicaria\",\"Salvia\", \"Thalictrum\"]"
   ]
  },
  {
   "cell_type": "code",
   "execution_count": null,
   "id": "1a6d2b81-a97a-4639-9f0e-c66a139fc577",
   "metadata": {},
   "outputs": [],
   "source": [
    "positions_actual = test_coordinates\n",
    "positions_predicted = [centroid(post_processed_predictions[i]) for i in range(len(post_processed_predictions))]"
   ]
  },
  {
   "cell_type": "code",
   "execution_count": null,
   "id": "53ec0115-de24-485c-8cc9-0ec4d7321a18",
   "metadata": {},
   "outputs": [],
   "source": [
    "textwidth = 455.24411\n",
    "\n",
    "def set_size(width, fraction=1):\n",
    "    \"\"\"Set figure dimensions to avoid scaling in LaTeX.\n",
    "\n",
    "    Parameters\n",
    "    ----------\n",
    "    width: float\n",
    "            Document textwidth or columnwidth in pts\n",
    "    fraction: float, optional\n",
    "            Fraction of the width which you wish the figure to occupy\n",
    "\n",
    "    Returns\n",
    "    -------\n",
    "    fig_dim: tuple\n",
    "            Dimensions of figure in inches\n",
    "    \"\"\"\n",
    "    # Width of figure (in pts)\n",
    "    fig_width_pt = width * fraction\n",
    "\n",
    "    # Convert from pt to inches\n",
    "    inches_per_pt = 1 / 72.27\n",
    "\n",
    "    # Golden ratio to set aesthetic figure height\n",
    "    # https://disq.us/p/2940ij3\n",
    "    golden_ratio = (5**.5 - 1) / 2\n",
    "\n",
    "    # Figure width in inches\n",
    "    fig_width_in = fig_width_pt * inches_per_pt\n",
    "    # Figure height in inches\n",
    "    fig_height_in = fig_width_in * golden_ratio\n",
    "\n",
    "    fig_dim = (fig_width_in, fig_height_in)\n",
    "\n",
    "    return fig_dim"
   ]
  },
  {
   "cell_type": "markdown",
   "id": "76771301-9aa2-4fb7-8d05-86bd84d3c623",
   "metadata": {},
   "source": [
    "### Figure"
   ]
  },
  {
   "cell_type": "code",
   "execution_count": null,
   "id": "e204f54a-fdfd-4ffe-b3cc-b6ecaf8d53fb",
   "metadata": {},
   "outputs": [],
   "source": [
    "i = random.choice(range(len(test_images)))\n",
    "plt.figure(figsize=(50,20))\n",
    "plt.subplot(1,3,1)\n",
    "plt.imshow(test_images[i],cmap=\"gray\")\n",
    "plt.axis(\"off\")\n",
    "plt.title(\"Annotated image\", size=50)\n",
    "plt.scatter(*zip(*positions_actual[i]),s=30, c=\"orange\")\n",
    "plt.subplot(1,3,2)\n",
    "plt.imshow(test_predictions[i], cmap=\"nipy_spectral\")\n",
    "plt.axis(\"off\")\n",
    "plt.title(\"Prediction\", size=50)\n",
    "plt.subplot(1,3,3)\n",
    "plt.imshow(post_processed_predictions[i], cmap=\"nipy_spectral\")\n",
    "plt.scatter(*zip(*positions_predicted[i]),s=50, c=\"white\", marker=\"X\")\n",
    "plt.scatter(*zip(*positions_actual[i]),s=50, c=\"orange\")\n",
    "plt.axis(\"off\")\n",
    "plt.title(\"Post-processed prediction\", size=50)"
   ]
  },
  {
   "cell_type": "code",
   "execution_count": null,
   "id": "47cc7323-9dfd-4161-be0e-3e75354bb24e",
   "metadata": {},
   "outputs": [],
   "source": [
    "actual_positions = positions_actual[i]\n",
    "predicted_positions = positions_predicted[i]\n",
    "n_chromosomes_real = len(actual_positions)\n",
    "n_chromosomes_predicted = len(predicted_positions)\n",
    "print(\"Real chromsome number:\", n_chromosomes_real)\n",
    "print(\"Predicted chromsome number:\", n_chromosomes_predicted)"
   ]
  },
  {
   "cell_type": "markdown",
   "id": "1f12558d-8795-4f69-9e76-0d5daea4ba36",
   "metadata": {},
   "source": [
    "## Chromosome number"
   ]
  },
  {
   "cell_type": "code",
   "execution_count": null,
   "id": "01837250-028b-4833-87c7-a6a000c8e517",
   "metadata": {},
   "outputs": [],
   "source": [
    "dict_chromosome_number = {\"Genus\":[], \"Actual chromosome number\":[], \"Predicted chromosome number\":[], \"True positives\": []}\n",
    "for i,post_processed_prediction in enumerate(post_processed_predictions):\n",
    "    genus = test_genera[i]\n",
    "    actual_positions = positions_actual[i]\n",
    "    predicted_positions = positions_predicted[i]\n",
    "    n_chromosomes_real = len(actual_positions)\n",
    "    n_chromosomes_predicted = len(predicted_positions)\n",
    "\n",
    "    \n",
    "    distances_best_matches = find_best_matches(actual_positions, predicted_positions)\n",
    "    TP = calculate_true_positives(distances_best_matches, genus)\n",
    "    \n",
    "    dict_chromosome_number[\"Genus\"].append(genus)\n",
    "    dict_chromosome_number[\"Actual chromosome number\"].append(n_chromosomes_real)\n",
    "    dict_chromosome_number[\"Predicted chromosome number\"].append(n_chromosomes_predicted)\n",
    "    dict_chromosome_number[\"True positives\"].append(TP)"
   ]
  },
  {
   "cell_type": "code",
   "execution_count": null,
   "id": "7f6329fe-73d4-434d-bd7f-c9f10c346cc4",
   "metadata": {},
   "outputs": [],
   "source": [
    "dict_chromosome_number[\"Actual chromosome number\"][44]"
   ]
  },
  {
   "cell_type": "markdown",
   "id": "ccccc166-b636-4bb6-a5c8-d1b54f715d47",
   "metadata": {},
   "source": [
    "### Scatterplot"
   ]
  },
  {
   "cell_type": "code",
   "execution_count": null,
   "id": "e1a08524-cdb6-48c0-b1ff-e7ba28eca1bd",
   "metadata": {},
   "outputs": [],
   "source": [
    "fig, ax = plt.subplots(figsize=set_size(textwidth))\n",
    "sns.scatterplot(data=dict_chromosome_number, \n",
    "                x=\"Actual chromosome number\",\n",
    "                y=\"Predicted chromosome number\",\n",
    "                hue=\"Genus\",\n",
    "                hue_order=genera_unique,\n",
    "                ax=ax,\n",
    "                s=25)\n",
    "ax.tick_params(axis='both', which='major', labelsize=12)\n",
    "ax.set_xlabel(\"Werkelijke chromosoomaantal\", fontsize=14)\n",
    "ax.set_ylabel(\"Voorspelde chromosoomaantal\", fontsize=14)\n",
    "n = np.linspace(0, max(max(dict_chromosome_number[\"Actual chromosome number\"]), max(dict_chromosome_number[\"Predicted chromosome number\"])), 1000)\n",
    "ax.plot(n, n, 'k-')\n",
    "plt.savefig(\"Images presentation/Scatterplot DLM.pdf\", format=\"pdf\", bbox_inches='tight')\n",
    "plt.show()\n"
   ]
  },
  {
   "cell_type": "markdown",
   "id": "bcd5aa53-500a-4073-9fc9-0796cecce2a0",
   "metadata": {},
   "source": [
    "### Overestimation/Underestimation"
   ]
  },
  {
   "cell_type": "code",
   "execution_count": null,
   "id": "30d7c60f-2a09-4118-8d20-dd6d51bc03ff",
   "metadata": {},
   "outputs": [],
   "source": [
    "actual_numbers = list(dict_chromosome_number[\"Actual chromosome number\"])\n",
    "predicted_numbers = list(dict_chromosome_number[\"Predicted chromosome number\"])\n",
    "difference = []\n",
    "difference_abs = []\n",
    "for i in range(len(actual_numbers)):\n",
    "    actual_number = actual_numbers[i]\n",
    "    predicted_number = predicted_numbers[i]\n",
    "    difference_abs.append(abs(actual_number-predicted_number))\n",
    "    difference.append(actual_number-predicted_number)"
   ]
  },
  {
   "cell_type": "code",
   "execution_count": null,
   "id": "9fea91bd-8adc-4195-a17a-83787e523aef",
   "metadata": {},
   "outputs": [],
   "source": [
    "print(\"Min difference:\",np.min(difference_abs))\n",
    "print(\"Max difference:\",np.max(difference_abs))\n",
    "print(\"Mean difference:\",np.mean(difference_abs))\n",
    "print(\"Median difference:\",np.median(difference_abs))\n",
    "\n",
    "print(\"Overestimation of the chromosome number:\", len([i for i in difference if i < 0]))\n",
    "print(\"Underestimation of the chromosome number:\", len([i for i in difference if i > 0]))\n",
    "print(\"Correct prediction:\", len([i for i in difference if i == 0]))"
   ]
  },
  {
   "cell_type": "markdown",
   "id": "2f70fadf-2450-427d-a1bb-7821cee67266",
   "metadata": {},
   "source": [
    "### Mean absolute error"
   ]
  },
  {
   "cell_type": "code",
   "execution_count": null,
   "id": "59c96e85-72fc-45a9-af47-2fc39e5cf88b",
   "metadata": {},
   "outputs": [],
   "source": [
    "MAE = sklearn.metrics.mean_absolute_error(list(dict_chromosome_number[\"Actual chromosome number\"]),list(dict_chromosome_number[\"Predicted chromosome number\"]))\n",
    "print(\"The mean absolute error is:\", MAE)"
   ]
  },
  {
   "cell_type": "code",
   "execution_count": null,
   "id": "d158b2ea-e009-44c0-988b-381e9f571eb5",
   "metadata": {},
   "outputs": [],
   "source": [
    "difference.sort()\n",
    "print(difference)"
   ]
  },
  {
   "cell_type": "markdown",
   "id": "75a7e30b-0700-4abb-9daa-8a6a9051d3fe",
   "metadata": {},
   "source": [
    "## Evalution metrics"
   ]
  },
  {
   "cell_type": "markdown",
   "id": "718e4689-a626-49a9-b4b1-644b3459bdd9",
   "metadata": {},
   "source": [
    "### True positives"
   ]
  },
  {
   "cell_type": "code",
   "execution_count": null,
   "id": "2a3b20f3-86d7-4af9-b6b8-b2c460502477",
   "metadata": {},
   "outputs": [],
   "source": [
    "dict_chromosome_number[\"True positives\"]    "
   ]
  },
  {
   "cell_type": "code",
   "execution_count": null,
   "id": "42c78fe1-4020-4c20-ae83-67ff7747609a",
   "metadata": {},
   "outputs": [],
   "source": [
    "dict_evaluation_metrics = {\"recall\":{\"All\":[], \"Agapanthus\":[], \"Geranium\":[], \"Ilex\":[], \"Persicaria\":[],\"Salvia\":[], \"Thalictrum\":[]},\n",
    "                           \"precision\":{\"All\":[],\"Agapanthus\":[], \"Geranium\":[], \"Ilex\":[], \"Persicaria\":[],\"Salvia\":[], \"Thalictrum\":[]},\n",
    "                           \"F1\":{\"All\":[],\"Agapanthus\":[], \"Geranium\":[], \"Ilex\":[], \"Persicaria\":[],\"Salvia\":[], \"Thalictrum\":[]}}\n",
    "    \n",
    "for i in range(len(test_genera)):\n",
    "    genus = test_genera[i]\n",
    "    actual_positions = positions_actual[i]\n",
    "    predicted_positions = positions_predicted[i]\n",
    "    \n",
    "    rec = recall_evaluation(actual_positions, predicted_positions,genus)\n",
    "    prec = precision_evaluation(actual_positions, predicted_positions,genus)\n",
    "    f1 = F1_evaluation(actual_positions, predicted_positions,genus)\n",
    "    \n",
    "    dict_evaluation_metrics[\"recall\"][\"All\"].append(rec)\n",
    "    dict_evaluation_metrics[\"precision\"][\"All\"].append(prec)\n",
    "    dict_evaluation_metrics[\"F1\"][\"All\"].append(f1)\n",
    "    dict_evaluation_metrics[\"recall\"][genus].append(rec)\n",
    "    dict_evaluation_metrics[\"precision\"][genus].append(prec)\n",
    "    dict_evaluation_metrics[\"F1\"][genus].append(f1)"
   ]
  },
  {
   "cell_type": "code",
   "execution_count": null,
   "id": "843353a3-ec95-4847-9d40-54379a88bb83",
   "metadata": {},
   "outputs": [],
   "source": [
    "rec_all = dict_evaluation_metrics[\"recall\"][\"All\"]\n",
    "prec_all = dict_evaluation_metrics[\"precision\"][\"All\"]\n",
    "f1_all = dict_evaluation_metrics[\"F1\"][\"All\"]"
   ]
  },
  {
   "cell_type": "markdown",
   "id": "d4afb0d4-d386-482c-b2d3-c194b4e325ae",
   "metadata": {},
   "source": [
    "### Table"
   ]
  },
  {
   "cell_type": "markdown",
   "id": "4cb48bb7-49d9-4b44-9794-80d8e023d6cc",
   "metadata": {},
   "source": [
    "For each genera:"
   ]
  },
  {
   "cell_type": "code",
   "execution_count": null,
   "id": "0b0bb97e-b56c-4ec0-834c-94e41cde2d27",
   "metadata": {},
   "outputs": [],
   "source": [
    "print(\"{:15s} {:1s}{:^10s}{:^10s}{:^10s}{:^10s}{:^10s}{:^10s} \".format(\"GENUS\",\"|\", \"RECALL\",\"std\", \"PRECISION\",\"std\", \"F1\",\"std\"))\n",
    "print(75*\"=\")\n",
    "for genus in genera_unique:\n",
    "    rec = np.mean(dict_evaluation_metrics[\"recall\"][genus])\n",
    "    std_rec = np.std(dict_evaluation_metrics[\"recall\"][genus])\n",
    "    prec = np.mean(dict_evaluation_metrics[\"precision\"][genus])\n",
    "    std_prec = np.std(dict_evaluation_metrics[\"precision\"][genus])\n",
    "    f1 = np.mean(dict_evaluation_metrics[\"F1\"][genus])\n",
    "    std_f1 = np.std(dict_evaluation_metrics[\"F1\"][genus])\n",
    "    print(\"{:15s} {:1s}{:^10.2f}{:^10.2f}{:^10.2f}{:^10.2f}{:^10.2f}{:^10.2f} \".format(genus,\"|\", rec, std_rec, prec, std_prec, f1, std_f1))   \n",
    "print(75*\"-\")\n",
    "print(\"{:15s} {:1s} {:^10.2f}{:^10.2f}{:^10.2f}{:^10.2f}{:^10.2f}{:^10.2f} \".format(\"All\",\"|\", np.mean(rec_all), np.std(rec_all), np.mean(prec_all), np.std(prec_all), np.mean(f1_all), np.std(f1_all)))"
   ]
  },
  {
   "cell_type": "markdown",
   "id": "f7e3c78d-675f-48e3-b0d2-9edd993aaf30",
   "metadata": {},
   "source": [
    "For whole test set:"
   ]
  },
  {
   "cell_type": "code",
   "execution_count": null,
   "id": "9eb7a88a-7bfc-4274-b017-25df37d2cac5",
   "metadata": {},
   "outputs": [],
   "source": [
    "print(\"{:20s}{:1s}{:^10s}{:^10s}{:^10s}{:^10s}{:^10s}\".format(\"\",\"|\", \"MEAN\",\"std\", \"MEDIAN\",\"MIN\",\"MAX\"))\n",
    "print(70*\"=\")\n",
    "print(\"{:20s}{:1s}{:^10.2f}{:^10.2f}{:^10.2f}{:^10.2f}{:^10.2f}\".format(\"precision\",\"|\",np.mean(prec_all),np.std(prec_all), np.median(prec_all), np.min(prec_all),np.max(prec_all)))\n",
    "print(\"{:20s}{:1s}{:^10.2f}{:^10.2f}{:^10.2f}{:^10.2f}{:^10.2f}\".format(\"recall\",\"|\",np.mean(rec_all), np.std(rec_all), np.median(rec_all),np.min(rec_all),np.max(rec_all)))\n",
    "print(\"{:20s}{:1s}{:^10.2f}{:^10.2f}{:^10.2f}{:^10.2f}{:^10.2f}\".format(\"F1-score\",\"|\",np.mean(f1_all),np.std(f1_all), np.median(f1_all),np.min(f1_all),np.max(f1_all)))"
   ]
  },
  {
   "cell_type": "markdown",
   "id": "ca5b1b5a-d7be-449b-bc62-148b8cd47dcb",
   "metadata": {},
   "source": [
    "### Boxplots"
   ]
  },
  {
   "cell_type": "code",
   "execution_count": null,
   "id": "c6935de1-9859-4b45-96d8-d61617abdc35",
   "metadata": {},
   "outputs": [],
   "source": [
    "fig, ax = plt.subplots(figsize=set_size(textwidth))\n",
    "data = [rec_all, prec_all, f1_all]\n",
    "labels = [\"Recall\", \"Precision\", \"F1\"]\n",
    "bp = ax.boxplot(data, patch_artist=True,\n",
    "                labels=labels,\n",
    "                boxprops=dict(facecolor=\"steelblue\", color=\"steelblue\"),\n",
    "                whiskerprops=dict(color=\"steelblue\"),\n",
    "                capprops=dict(color=\"steelblue\"),\n",
    "                medianprops=dict(color=\"orange\", linewidth=1.5),\n",
    "                showfliers=True,\n",
    "                flierprops=dict(markeredgecolor=\"darkorange\"))\n",
    "for box in bp['boxes']:\n",
    "    box.set_facecolor(\"lightsteelblue\")  \n",
    "ax.yaxis.set_ticks_position('none')\n",
    "ax.xaxis.set_ticks_position('none')\n",
    "ax.set_ylim([0, 1])\n",
    "ax.tick_params(axis='both', which='major', labelsize=12)\n",
    "ax.spines[\"top\"].set_visible(False)\n",
    "ax.spines[\"right\"].set_visible(False)\n",
    "ax.spines[\"left\"].set_visible(False)\n",
    "ax.spines[\"bottom\"].set_visible(False)\n",
    "ax.grid(color='grey', axis='y', linestyle='-', linewidth=0.25, alpha=0.5)\n",
    "#plt.savefig(\"Images presentation/Boxplot evaluation DLM.png\", format=\"png\", bbox_inches='tight')"
   ]
  },
  {
   "cell_type": "markdown",
   "id": "d38f6aeb-ed84-4c4c-bf94-d73eca8fd748",
   "metadata": {},
   "source": [
    "## Good/Bad predictions"
   ]
  },
  {
   "cell_type": "code",
   "execution_count": null,
   "id": "f7b91ac5-051b-4c23-9203-e2f65764e2a9",
   "metadata": {},
   "outputs": [],
   "source": [
    "f1_good = [i for i, x in enumerate(f1_all) if x == 1]     \n",
    "rec_good = [i for i, x in enumerate(rec_all) if x == 1]             \n",
    "prec_good = [i for i, x in enumerate(prec_all) if x == 1]\n",
    "\n",
    "f1_bad = [i for i, x in enumerate(f1_all) if x < 0.8]    \n",
    "rec_bad = [i for i, x in enumerate(rec_all) if x < 0.8]               \n",
    "prec_bad = [i for i, x in enumerate(prec_all) if x < 0.8]"
   ]
  },
  {
   "cell_type": "code",
   "execution_count": null,
   "id": "6dc0e3ac-460b-49c4-bee9-a5bd9ce5694b",
   "metadata": {},
   "outputs": [],
   "source": [
    "#bad_predictions = f1_bad\n",
    "Agapanthus = [18,92,110]\n",
    "Salvia = [14,31,54,86]\n",
    "Thalictrum = [24,41,48,66, 70, 90, 125]"
   ]
  },
  {
   "cell_type": "code",
   "execution_count": null,
   "id": "5029686f-de9f-41a1-9d35-7ccc082f3f45",
   "metadata": {},
   "outputs": [],
   "source": [
    "for i in f1_bad:\n",
    "    print(\"F1:\", f1_all[i])\n",
    "    print(\"recall:\", rec_all[i])\n",
    "    print(\"precision:\", prec_all[i])\n",
    "    print(\"\")"
   ]
  },
  {
   "cell_type": "code",
   "execution_count": null,
   "id": "726cd327-5f8b-472b-b5a0-252304bbf22b",
   "metadata": {},
   "outputs": [],
   "source": [
    "f1_good"
   ]
  },
  {
   "cell_type": "code",
   "execution_count": null,
   "id": "950c0d75-b1f8-479e-91bc-6c76bb55b9d9",
   "metadata": {},
   "outputs": [],
   "source": [
    "index = 99\n",
    "image = test_images[index]\n",
    "prediction = test_predictions[index]\n",
    "post_processed_prediction = post_processed_predictions[index]\n",
    "label = test_labels[index]\n",
    "positions_actual_resized = [(positions_actual[index][i][0] / 128, positions_actual[index][i][1] / 128) for i in range(len(positions_actual[index]))]\n",
    "positions_predicted_resized = [(positions_predicted[index][i][0] / 128, positions_predicted[index][i][1] / 128) for i in range(len(positions_predicted[index]))]"
   ]
  },
  {
   "cell_type": "code",
   "execution_count": null,
   "id": "fa566925-332c-4096-9378-f6dffae1b0f6",
   "metadata": {
    "scrolled": true,
    "tags": []
   },
   "outputs": [],
   "source": [
    "plt.figure(figsize=(21,16.45), facecolor=\"whitesmoke\")\n",
    "plt.scatter(*zip(*positions_actual_resized),s=200, c=\"orange\")\n",
    "plt.scatter(*zip(*positions_predicted_resized),s=200, c=\"steelblue\", marker=\"X\")\n",
    "plt.xlim(0,21)\n",
    "plt.ylim(16.45,0)\n",
    "plt.legend([\"True chromosome\",\"Predicted chromosome\"], fontsize=45, facecolor= \"whitesmoke\", edgecolor=\"whitesmoke\")\n",
    "plt.axis(\"off\")\n",
    "plt.savefig(os.path.join(\"Images presentation\",\"Ground truth \"+str(index)+\".pdf\"), format=\"pdf\", bbox_inches='tight', pad_inches=0)\n",
    "plt.figure(figsize=(21,16.45))\n",
    "plt.imshow(post_processed_prediction , cmap=\"nipy_spectral\")\n",
    "plt.scatter(*zip(*positions_actual[index]),s=15, c=\"gray\")\n",
    "plt.scatter(*zip(*positions_predicted[index]),s=20, c=\"w\", marker=\"X\")\n",
    "plt.axis(\"off\")\n",
    "plt.legend([\"True chromosome\",\"Predicted chromosome\"], fontsize=25)\n",
    "#plt.savefig(os.path.join(\"Images thesis/Bad predictions DLM\",\"Fused blobs  Ground truth + Prediction \"+str(index)+\".pdf\"), format=\"pdf\", bbox_inches='tight', pad_inches=0)"
   ]
  },
  {
   "cell_type": "code",
   "execution_count": null,
   "id": "4a93aed0-95b5-4df0-9b0d-b1f4e8724d2e",
   "metadata": {},
   "outputs": [],
   "source": [
    "plt.figure(figsize=(21,16.45))\n",
    "plt.imshow(image , cmap=\"gray\")\n",
    "plt.scatter(*zip(*positions_actual[index]),s=100, c=\"orange\")\n",
    "plt.axis(\"off\")\n",
    "#plt.savefig(os.path.join(\"Images thesis/Bad predictions DLM\",\"F1 Annotated image \"+str(index)+\".pdf\"), format=\"pdf\", bbox_inches='tight', pad_inches=0)"
   ]
  },
  {
   "cell_type": "code",
   "execution_count": null,
   "id": "85902aa2-c9a0-4315-801c-8a3176c4f041",
   "metadata": {},
   "outputs": [],
   "source": [
    "plt.imsave(os.path.join(\"Images presentation\",\"Original image \"+str(index)+\".png\"), arr=image, cmap=\"gray\", format=\"png\")\n",
    "#plt.imsave(os.path.join(\"Images presentation\",\"Prediction \"+str(index)+\".png\"), arr=prediction, cmap=\"nipy_spectral\", format=\"png\")\n",
    "#plt.imsave(os.path.join(\"Images presentation\",\"Post-processed prediction \"+str(index)+\".png\"), arr=post_processed_prediction, cmap=\"nipy_spectral\", format=\"png\")\n",
    "#plt.imsave(os.path.join(\"Images presentation\",\"Label \"+str(index)+\".png\"), arr=label, cmap=\"nipy_spectral\", format=\"png\")"
   ]
  },
  {
   "cell_type": "code",
   "execution_count": null,
   "id": "5c3ca0e9-a833-4989-b557-ce6df8aa63f4",
   "metadata": {},
   "outputs": [],
   "source": [
    "plt.imsave(os.path.join(\"Images thesis/Good predictions DLM\",\"Original image \"+str(index)+\".png\"), arr=image, cmap=\"gray\", format=\"png\")\n",
    "plt.imsave(os.path.join(\"Images thesis/Good predictions DLM\",\"Prediction \"+str(index)+\".png\"), arr=prediction, cmap=\"nipy_spectral\", format=\"png\")\n",
    "plt.imsave(os.path.join(\"Images thesis/Good predictions DLM\",\"Post-processed prediction \"+str(index)+\".png\"), arr=post_processed_prediction, cmap=\"nipy_spectral\", format=\"png\")\n",
    "plt.imsave(os.path.join(\"Images thesis/Good predictions DLM\",\"Label \"+str(index)+\".png\"), arr=label, cmap=\"nipy_spectral\", format=\"png\")"
   ]
  },
  {
   "cell_type": "code",
   "execution_count": null,
   "id": "70c5f9b6-ef91-4281-8c14-6e7100da6777",
   "metadata": {},
   "outputs": [],
   "source": [
    "plt.imsave(os.path.join(\"Images thesis/Bad predictions DLM\",\"Blob shape Original image \"+str(index)+\".png\"), arr=image, cmap=\"gray\", format=\"png\")\n",
    "plt.imsave(os.path.join(\"Images thesis/Bad predictions DLM\",\"Blob shape Prediction \"+str(index)+\".png\"), arr=prediction, cmap=\"nipy_spectral\", format=\"png\")\n",
    "plt.imsave(os.path.join(\"Images thesis/Bad predictions DLM\",\"Fused blobs Post-processed prediction \"+str(index)+\".png\"), arr=post_processed_prediction, cmap=\"nipy_spectral\", format=\"png\")\n",
    "plt.imsave(os.path.join(\"Images thesis/Bad predictions DLM\",\"Rec Label \"+str(index)+\".png\"), arr=post_processed_prediction, cmap=\"nipy_spectral\", format=\"png\")"
   ]
  },
  {
   "cell_type": "code",
   "execution_count": null,
   "id": "814da6d1-9df1-4048-b2e0-2c2d0332c460",
   "metadata": {},
   "outputs": [],
   "source": [
    "plt.figure(figsize=(21,16.45))\n",
    "ax = plt.subplot()\n",
    "ax.imshow(image[1070:1670,750:1350], cmap=\"gray\")\n",
    "rect = patches.Rectangle((230,88), 60, 40, linewidth=4, edgecolor=\"red\", facecolor=\"none\")\n",
    "ax.add_patch(rect)\n",
    "ax.axis(\"off\")\n",
    "plt.savefig(os.path.join(\"Images thesis/Bad predictions DLM\",\"Removal blob Original image \"+str(index)+\".pdf\"), format=\"pdf\", bbox_inches='tight', pad_inches=0)\n",
    "\n",
    "plt.figure(figsize=(21,16.45))\n",
    "ax = plt.subplot()\n",
    "ax.imshow(prediction[1070:1670,750:1350], cmap=\"nipy_spectral\")\n",
    "rect = patches.Rectangle((230,88), 60, 40, linewidth=4, edgecolor=\"red\", facecolor=\"none\")\n",
    "ax.add_patch(rect)\n",
    "ax.axis(\"off\")\n",
    "plt.savefig(os.path.join(\"Images thesis/Bad predictions DLM\",\"Removal blob Prediction \"+str(index)+\".pdf\"), format=\"pdf\", bbox_inches='tight', pad_inches=0)\n",
    "\n",
    "plt.figure(figsize=(21,16.45))\n",
    "ax = plt.subplot()\n",
    "ax.imshow(post_processed_prediction[1070:1670,750:1350], cmap=\"nipy_spectral\")\n",
    "rect = patches.Rectangle((230,88), 60, 40, linewidth=4, edgecolor=\"red\", facecolor=\"none\")\n",
    "ax.add_patch(rect)\n",
    "ax.axis(\"off\")\n",
    "plt.savefig(os.path.join(\"Images thesis/Bad predictions DLM\",\"Removal blob Post-processed prediction \"+str(index)+\".pdf\"), format=\"pdf\", bbox_inches='tight', pad_inches=0)"
   ]
  },
  {
   "cell_type": "code",
   "execution_count": null,
   "id": "f96deaf3-dec1-45cf-85cd-a6e79a510269",
   "metadata": {
    "scrolled": true,
    "tags": []
   },
   "outputs": [],
   "source": [
    "for index in f1_good:\n",
    "    image = test_images[index]\n",
    "    prediction = test_predictions[index]\n",
    "    post_processed_prediction = post_processed_predictions[index]\n",
    "    \n",
    "    plt.figure(figsize=(30,20))\n",
    "    plt.subplot(1,3,1)\n",
    "    plt.imshow(image , cmap=\"gray\")\n",
    "    plt.scatter(*zip(*positions_actual[index]), c=\"orange\")\n",
    "    plt.title(\"Annotated image \"+str(index), size=30)\n",
    "    plt.axis(\"off\")\n",
    "    plt.subplot(1,3,2)\n",
    "    plt.imshow(prediction , cmap=\"nipy_spectral\")\n",
    "    plt.title(\"Prediction\", size=30)\n",
    "    plt.axis(\"off\")\n",
    "    plt.subplot(1,3,3)\n",
    "    plt.imshow(post_processed_prediction , cmap=\"nipy_spectral\")\n",
    "    plt.scatter(*zip(*positions_actual[index]), c=\"gray\")\n",
    "    plt.scatter(*zip(*positions_predicted[index]), c=\"w\", marker=\"X\")\n",
    "    plt.title(\"Post-processed prediction\", size=30)\n",
    "    plt.axis(\"off\")\n",
    "    plt.tight_layout()\n",
    "    plt.legend([\"True chromosome\",\"Predicted chromosome\"],fontsize=20)"
   ]
  },
  {
   "cell_type": "code",
   "execution_count": null,
   "id": "74f980d7-d1aa-48de-befe-35e1d1ea923a",
   "metadata": {},
   "outputs": [],
   "source": [
    "prec_all[99]"
   ]
  },
  {
   "cell_type": "code",
   "execution_count": null,
   "id": "17169af4-b834-4f2b-99e8-c266cf913b76",
   "metadata": {},
   "outputs": [],
   "source": []
  }
 ],
 "metadata": {
  "kernelspec": {
   "display_name": "kiwibes_clone",
   "language": "python",
   "name": "kiwibes_clone"
  },
  "language_info": {
   "codemirror_mode": {
    "name": "ipython",
    "version": 3
   },
   "file_extension": ".py",
   "mimetype": "text/x-python",
   "name": "python",
   "nbconvert_exporter": "python",
   "pygments_lexer": "ipython3",
   "version": "3.9.12"
  }
 },
 "nbformat": 4,
 "nbformat_minor": 5
}
