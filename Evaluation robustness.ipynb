{
 "cells": [
  {
   "cell_type": "code",
   "execution_count": null,
   "id": "3c6de1c6-b82c-472d-a0c6-7f31ab5a1304",
   "metadata": {},
   "outputs": [],
   "source": [
    "##### import pickle\n",
    "import random\n",
    "import matplotlib.pyplot as plt\n",
    "import numpy as np\n",
    "import zipfile\n",
    "import os\n",
    "import random\n",
    "import datetime\n",
    "import h5py\n",
    "import sklearn.metrics \n",
    "import cv2\n",
    "import skimage.measure as measure\n",
    "import skimage.filters as filters\n",
    "import skimage.morphology as morphology\n",
    "import skimage.exposure as exposure\n",
    "import tensorflow as tf\n",
    "import tensorflow.keras.layers as layers\n",
    "import tensorflow.compat.v2 as tf\n",
    "import seaborn as sns\n",
    "import matplotlib.patches as patches\n",
    "import pickle\n",
    "from functions import *"
   ]
  },
  {
   "cell_type": "code",
   "execution_count": null,
   "id": "295bd9db-f93c-495c-90ca-f693b3a4e671",
   "metadata": {},
   "outputs": [],
   "source": [
    "#os.environ[\"CUDA_VISIBLE_DEVICES\"]=\"1\" # NVIDIA GeForce RTX 3090\n",
    "os.environ[\"CUDA_VISIBLE_DEVICES\"]=\"3\" # NVIDIA GeForce RTX 2080\n",
    " \n",
    "print(\"Num GPUs Available: \", len(tf.config.experimental.list_physical_devices('GPU')))\n",
    "gpus = tf.config.experimental.list_physical_devices('GPU')\n",
    " \n",
    "print(gpus)"
   ]
  },
  {
   "cell_type": "markdown",
   "id": "d3891df0-3103-4b50-a112-4f0e21a5aa45",
   "metadata": {},
   "source": [
    "# Test set"
   ]
  },
  {
   "cell_type": "code",
   "execution_count": null,
   "id": "d7b9f780-2f68-4c86-b19f-dc9e7237ad5b",
   "metadata": {},
   "outputs": [],
   "source": [
    "directory = \"Data/Testset_Lavendel\"\n",
    "subdir = \"Lavendel_good\"\n",
    "path_dir = os.path.join(directory, subdir)\n",
    "\n",
    "with open(os.path.join(path_dir,'TEST_Images_Lavendel.pkl'), 'rb') as file:\n",
    "    test_images = pickle.load(file)\n",
    "\n",
    "with open(os.path.join(path_dir,'TEST_Ground_truth_Lavendel.pkl'), 'rb') as file:\n",
    "    test_ground_truth = pickle.load(file)\n",
    "\n",
    "with open(os.path.join(path_dir,'TEST_Genotypes_Lavendel.pkl'), 'rb') as file:\n",
    "    test_genotypes = pickle.load(file)\n",
    "    \n",
    "name_test_prediction = \"Lavendel_good\"\n",
    "path_evaluation = \"Results/Evaluation robustness final model\"\n",
    "path_test_prediction = os.path.join(path_evaluation, name_test_prediction)\n",
    "with open(path_test_prediction, 'rb') as file:\n",
    "    test_predictions = pickle.load(file)"
   ]
  },
  {
   "cell_type": "code",
   "execution_count": null,
   "id": "9bd3d0c0-e19f-4320-a5fb-857f7f7615ec",
   "metadata": {},
   "outputs": [],
   "source": [
    "test_genotypes"
   ]
  },
  {
   "cell_type": "markdown",
   "id": "12df0a1c-ea00-4671-bb86-6b9f5ee2dc9b",
   "metadata": {},
   "source": [
    "## Data exploration"
   ]
  },
  {
   "cell_type": "code",
   "execution_count": null,
   "id": "534baa65-747a-43db-a62d-71453cde5000",
   "metadata": {},
   "outputs": [],
   "source": [
    "print(test_images.dtype)"
   ]
  },
  {
   "cell_type": "code",
   "execution_count": null,
   "id": "2aee9e6f-6bd4-4539-bdde-e1fbfe014324",
   "metadata": {},
   "outputs": [],
   "source": [
    "print(\"The test set contains\", str(len(test_images)), \"images.\")\n",
    "print(\"The length of the list with chromosome numbers is:\", str(len(test_ground_truth)))\n",
    "print(\"The length of the list with genotypes is:\", str(len(test_genotypes)))"
   ]
  },
  {
   "cell_type": "code",
   "execution_count": null,
   "id": "c5754d86-5111-40e2-b764-faa711663438",
   "metadata": {},
   "outputs": [],
   "source": [
    "print(\"The images in the test set have a width of\", str( test_images.shape[2]),\"and a height of\",str(test_images.shape[1]))"
   ]
  },
  {
   "cell_type": "code",
   "execution_count": null,
   "id": "f61e7133-a7fa-4c66-9d56-949303a10ae2",
   "metadata": {},
   "outputs": [],
   "source": [
    "print(\"The maximum pixel value of the images is:\", str(np.amax(test_images)))\n",
    "print(\"The minumum pixel value of the images is:\", str(np.amin(test_images)))"
   ]
  },
  {
   "cell_type": "markdown",
   "id": "5392ec49-1180-4ed0-b391-1f4ab5200bf4",
   "metadata": {},
   "source": [
    "### Plot"
   ]
  },
  {
   "cell_type": "code",
   "execution_count": null,
   "id": "b5517fb6-097a-4efb-80ac-529e9c528b70",
   "metadata": {},
   "outputs": [],
   "source": [
    "i = random.choice(range(len(test_images)))\n",
    "plt.figure(figsize=(15,10))\n",
    "plt.imshow(test_images[i],cmap=\"gray\")\n",
    "plt.axis(\"off\")"
   ]
  },
  {
   "cell_type": "markdown",
   "id": "ba3c13e6-da73-4c43-b0ed-d3221013ddc1",
   "metadata": {
    "tags": []
   },
   "source": [
    "# Prediction"
   ]
  },
  {
   "cell_type": "markdown",
   "id": "6dc7b7e3-247a-4bf4-b12a-a90524b06863",
   "metadata": {},
   "source": [
    "## Final model"
   ]
  },
  {
   "cell_type": "code",
   "execution_count": null,
   "id": "88842216-619c-4d41-b2d6-917401461e2c",
   "metadata": {},
   "outputs": [],
   "source": [
    "name_model = \"Final (M0_6(3x3)_2)\"\n",
    "filepath_dic = \"Results/\" + name_model\n",
    "filepath_checkpoint_model = filepath_dic + \"/checkpoint.model.keras\""
   ]
  },
  {
   "cell_type": "markdown",
   "id": "4e14afbc-6090-4811-89bd-50c0e0c20de4",
   "metadata": {},
   "source": [
    "## Prediction"
   ]
  },
  {
   "cell_type": "code",
   "execution_count": null,
   "id": "dc684cae-6a64-4057-b637-38df2912b8d4",
   "metadata": {},
   "outputs": [],
   "source": [
    "model_best = tf.keras.models.load_model(filepath_checkpoint_model)\n",
    "batch_size = 1\n",
    "test_predictions = model_best.predict(\n",
    "    test_images,\n",
    "    batch_size=batch_size)"
   ]
  },
  {
   "cell_type": "code",
   "execution_count": null,
   "id": "5ea7ee5d-adbe-49fb-abc4-c1d4d4cf49ae",
   "metadata": {},
   "outputs": [],
   "source": [
    "test_predictions.shape"
   ]
  },
  {
   "cell_type": "code",
   "execution_count": null,
   "id": "bd4ff69b-0d49-45be-a87f-eb31c05eef2b",
   "metadata": {},
   "outputs": [],
   "source": [
    "name_test_prediction = \"Lavendel_good\"\n",
    "path_evaluation = \"Results/Evaluation robustness final model\"\n",
    "path_test_prediction = os.path.join(path_evaluation, name_test_prediction)\n",
    "test_predictions = test_predictions.reshape((84,2048,2688))\n",
    "with open(path_test_prediction, 'wb') as file:\n",
    "    pickle.dump(test_predictions, file)"
   ]
  },
  {
   "cell_type": "code",
   "execution_count": null,
   "id": "c478a3f9-c61a-4a67-985a-1e2f188fed93",
   "metadata": {},
   "outputs": [],
   "source": [
    "i = random.choice(range(len(test_images)))\n",
    "plt.figure(figsize=(50,25))\n",
    "plt.subplot(1,2,1)\n",
    "plt.imshow(test_images[i],cmap=\"gray\")\n",
    "plt.axis(\"off\")\n",
    "plt.title(\"Microscopic mage\", size=50)\n",
    "plt.subplot(1,2,2)\n",
    "plt.imshow(test_predictions[i],cmap=\"nipy_spectral\")\n",
    "plt.axis(\"off\")\n",
    "plt.title(\"Prediction\", size=50)"
   ]
  },
  {
   "cell_type": "markdown",
   "id": "1b2a1335-8832-4319-991a-32dc491e0999",
   "metadata": {},
   "source": [
    "# Post-processing"
   ]
  },
  {
   "cell_type": "markdown",
   "id": "98695b44-1738-4c4d-ac98-8eff8a208257",
   "metadata": {},
   "source": [
    "## Parameters for post-processing"
   ]
  },
  {
   "cell_type": "code",
   "execution_count": null,
   "id": "58256aec-1756-4503-8f8e-d6d6f91053fe",
   "metadata": {},
   "outputs": [],
   "source": [
    "blurring = True\n",
    "blur_kernel_size = 11\n",
    "\n",
    "kernel_shape = \"ellipse\"\n",
    "\n",
    "threshold_technique = cv2.THRESH_BINARY+cv2.THRESH_OTSU\n",
    "threshold = 1\n",
    "\n",
    "morphological_operations = {\"erosion\":{\"kernel_size\":11, \"iterations\":1},\n",
    "                            \"closing\":{\"kernel_size\":11, \"iterations\":1}}\n",
    "\n",
    "order_morphological_operations =  [\"closing\",\"erosion\"] "
   ]
  },
  {
   "cell_type": "markdown",
   "id": "561d1a13-af98-4bf3-b37a-756d0e9e9142",
   "metadata": {},
   "source": [
    "## Post-processing"
   ]
  },
  {
   "cell_type": "code",
   "execution_count": null,
   "id": "5c0c97cd-5bbd-4317-aa52-1aef019dcdf2",
   "metadata": {},
   "outputs": [],
   "source": [
    "post_processed_predictions = []\n",
    "\n",
    "for prediction in test_predictions:\n",
    "    \n",
    "    # normalize pixel values between 0 and 1\n",
    "    normalized = normalization(prediction)\n",
    "    normalized = (normalized*255).astype(\"uint8\")\n",
    "    \n",
    "    # post-processing\n",
    "    post_processed  = post_processing(\n",
    "        im=normalized,\n",
    "        blurring=blurring,\n",
    "        blur_kernel_sz=blur_kernel_size,\n",
    "        thresh_technique=threshold_technique,\n",
    "        thresh=threshold,\n",
    "        kernel_shape=kernel_shape,\n",
    "        morph_ops=morphological_operations,\n",
    "        order_morph_ops=order_morphological_operations)\n",
    "    \n",
    "    post_processed_predictions.append(post_processed)"
   ]
  },
  {
   "cell_type": "markdown",
   "id": "42816ef4-6bdd-4115-a10a-4c4b6e81b62b",
   "metadata": {},
   "source": [
    "### Figures"
   ]
  },
  {
   "cell_type": "code",
   "execution_count": null,
   "id": "ea493dd5-666f-41f6-99ca-81c5d694ae63",
   "metadata": {},
   "outputs": [],
   "source": [
    "index = 43\n",
    "\n",
    "plots = []\n",
    "\n",
    "    \n",
    "prediction = test_predictions[index]\n",
    "plots.append(prediction)\n",
    "\n",
    "# normalisation\n",
    "normalised = normalization(prediction)\n",
    "normalised = (normalised*255).astype(\"uint8\")\n",
    "plots.append(normalised)\n",
    "    \n",
    "# blurring\n",
    "blur_kernel = np.ones((11, 11), np.float32)/11**2\n",
    "blurred = cv2.filter2D(src=normalised, ddepth=-1, kernel=blur_kernel)\n",
    "plots.append(blurred)\n",
    " \n",
    "# thresholding\n",
    "binary = cv2.threshold(blurred,0,255,cv2.THRESH_BINARY+cv2.THRESH_OTSU)[1]\n",
    "plots.append(binary)\n",
    "        \n",
    "\n",
    "# morpholoical operations\n",
    "kernel = cv2.getStructuringElement(cv2.MORPH_ELLIPSE,(11, 11))\n",
    "closing = cv2.morphologyEx(binary, cv2.MORPH_CLOSE,kernel, iterations=1)\n",
    "erosion = cv2.erode(closing, kernel, iterations=1)\n",
    "plots.append(closing)\n",
    "plots.append(erosion)\n",
    "        \n",
    "# labbeling\n",
    "labelled = morphology.label(erosion)\n",
    "plots.append(labelled)\n",
    "\n",
    "cmaps = [\"nipy_spectral\", \"nipy_spectral\", \"nipy_spectral\", \"gray\", \"gray\", \"gray\", \"nipy_spectral\"]\n",
    "# figure\n",
    "plt.figure(figsize=(100,80))\n",
    "for i,plot in enumerate(plots):\n",
    "    plt.subplot(1,len(plots),i+1)\n",
    "    plt.imshow(plot, cmap=cmaps[i], interpolation='none')\n",
    "    plt.axis(\"off\")"
   ]
  },
  {
   "cell_type": "code",
   "execution_count": null,
   "id": "19dd7919-666e-4bcb-8826-a69b829964b9",
   "metadata": {},
   "outputs": [],
   "source": [
    "plt.imsave(os.path.join(\"Images thesis/Post-processing\",\"Prediction \"+str(index)+\".png\"), arr=prediction, cmap=\"nipy_spectral\", format=\"png\")\n",
    "plt.imsave(os.path.join(\"Images thesis/Post-processing\",\"Average blurring \"+str(index)+\".png\"), arr=blurred, cmap=\"nipy_spectral\", format=\"png\")\n",
    "plt.imsave(os.path.join(\"Images thesis/Post-processing\",\"Thresholding \"+str(index)+\".png\"), arr=binary, cmap=\"gray\", format=\"png\")\n",
    "plt.imsave(os.path.join(\"Images thesis/Post-processing\",\"Closing \"+str(index)+\".png\"), arr=closing, cmap=\"gray\", format=\"png\")\n",
    "plt.imsave(os.path.join(\"Images thesis/Post-processing\",\"Erosion \"+str(index)+\".png\"), arr=erosion, cmap=\"gray\", format=\"png\")\n",
    "plt.imsave(os.path.join(\"Images thesis/Post-processing\",\"Labelling \"+str(index)+\".png\"), arr=labelled, cmap=\"nipy_spectral\", format=\"png\")"
   ]
  },
  {
   "cell_type": "markdown",
   "id": "1cc55258-bb02-4a1c-834d-2117f1734fe2",
   "metadata": {},
   "source": [
    "# Evaluation"
   ]
  },
  {
   "cell_type": "code",
   "execution_count": null,
   "id": "53ec0115-de24-485c-8cc9-0ec4d7321a18",
   "metadata": {},
   "outputs": [],
   "source": [
    "textwidth = 455.24411\n",
    "\n",
    "def set_size(width, fraction=1):\n",
    "    \"\"\"Set figure dimensions to avoid scaling in LaTeX.\n",
    "\n",
    "    Parameters\n",
    "    ----------\n",
    "    width: float\n",
    "            Document textwidth or columnwidth in pts\n",
    "    fraction: float, optional\n",
    "            Fraction of the width which you wish the figure to occupy\n",
    "\n",
    "    Returns\n",
    "    -------\n",
    "    fig_dim: tuple\n",
    "            Dimensions of figure in inches\n",
    "    \"\"\"\n",
    "    # Width of figure (in pts)\n",
    "    fig_width_pt = width * fraction\n",
    "\n",
    "    # Convert from pt to inches\n",
    "    inches_per_pt = 1 / 72.27\n",
    "\n",
    "    # Golden ratio to set aesthetic figure height\n",
    "    # https://disq.us/p/2940ij3\n",
    "    golden_ratio = (5**.5 - 1) / 2\n",
    "\n",
    "    # Figure width in inches\n",
    "    fig_width_in = fig_width_pt * inches_per_pt\n",
    "    # Figure height in inches\n",
    "    fig_height_in = fig_width_in * golden_ratio\n",
    "\n",
    "    fig_dim = (fig_width_in, fig_height_in)\n",
    "\n",
    "    return fig_dim"
   ]
  },
  {
   "cell_type": "markdown",
   "id": "1f12558d-8795-4f69-9e76-0d5daea4ba36",
   "metadata": {},
   "source": [
    "## Chromosome number"
   ]
  },
  {
   "cell_type": "code",
   "execution_count": null,
   "id": "01837250-028b-4833-87c7-a6a000c8e517",
   "metadata": {},
   "outputs": [],
   "source": [
    "dict_chromosome_number = {\"Genotype\":[], \"Actual chromosome number\":[], \"Predicted chromosome number\":[]}\n",
    "for i,post_processed_prediction in enumerate(post_processed_predictions):\n",
    "    genotype = test_genotypes[i]\n",
    "    n_chromosomes_real = test_ground_truth[i]\n",
    "    n_chromosomes_predicted = len(centroid(post_processed_prediction))\n",
    "    \n",
    "    dict_chromosome_number[\"Genotype\"].append(genotype)\n",
    "    dict_chromosome_number[\"Actual chromosome number\"].append(n_chromosomes_real)\n",
    "    dict_chromosome_number[\"Predicted chromosome number\"].append(n_chromosomes_predicted)"
   ]
  },
  {
   "cell_type": "markdown",
   "id": "76771301-9aa2-4fb7-8d05-86bd84d3c623",
   "metadata": {},
   "source": [
    "### Figure"
   ]
  },
  {
   "cell_type": "code",
   "execution_count": null,
   "id": "e204f54a-fdfd-4ffe-b3cc-b6ecaf8d53fb",
   "metadata": {},
   "outputs": [],
   "source": [
    "i = random.choice(range(len(test_images)))\n",
    "plt.figure(figsize=(50,20))\n",
    "plt.subplot(1,3,1)\n",
    "plt.imshow(test_images[i],cmap=\"gray\")\n",
    "plt.axis(\"off\")\n",
    "plt.title(\"Microscopic image \" + str(i) + \"-\" + str(actual_numbers[i]), size=50)\n",
    "plt.subplot(1,3,2)\n",
    "plt.imshow(test_predictions[i], cmap=\"nipy_spectral\")\n",
    "plt.axis(\"off\")\n",
    "plt.title(\"Prediction\", size=50)\n",
    "plt.subplot(1,3,3)\n",
    "plt.imshow(post_processed_predictions[i], cmap=\"nipy_spectral\")\n",
    "plt.axis(\"off\")\n",
    "plt.title(\"Post-processed prediction\" + \"-\" + str(predicted_numbers[i]), size=50)"
   ]
  },
  {
   "cell_type": "markdown",
   "id": "ccccc166-b636-4bb6-a5c8-d1b54f715d47",
   "metadata": {},
   "source": [
    "### Scatterplot"
   ]
  },
  {
   "cell_type": "code",
   "execution_count": null,
   "id": "e1a08524-cdb6-48c0-b1ff-e7ba28eca1bd",
   "metadata": {},
   "outputs": [],
   "source": [
    "fig, ax = plt.subplots(figsize=(set_size(textwidth)[0]*2, set_size(textwidth)[1]*2))\n",
    "sns.scatterplot(data=dict_chromosome_number, \n",
    "                x=\"Actual chromosome number\",\n",
    "                y=\"Predicted chromosome number\",\n",
    "                hue=\"Genotype\",\n",
    "                ax=ax,\n",
    "               s=100)\n",
    "ax.tick_params(axis='both', which='major', labelsize=24)\n",
    "ax.set_xlabel(\"Werkelijke chromosoomaantal\", fontsize=24)\n",
    "ax.set_ylabel(\"Voorspelde chromosoomaantal\", fontsize=24)\n",
    "n = np.linspace(0, max(max(dict_chromosome_number[\"Actual chromosome number\"]), max(dict_chromosome_number[\"Predicted chromosome number\"])), 1000)\n",
    "ax.plot(n, n, 'k-')\n",
    "ax.legend(fontsize=18)\n",
    "legend_labels = ax.get_legend().get_texts()\n",
    "correct_labels = [r\"$\\it{\" + \"L. stoechas\" + \"}$\" +\" 'Van Gogh's babies'\", \n",
    "                 r\"$\\it{\" + \"L. lanata\" + \"}$\",\n",
    "                  r\"$\\it{\" + \"L. multifida\"+ \"}$\" ,\n",
    "                  r\"$\\it{\" + \"L. stoechas\" + \"}$\" +\" 'Kew Red'\",\n",
    "                r\"$\\it{\" + \"L. dentata\" + \"}$\" + \" var. \" + r\"$\\it{\" + \" candicans\" + \"}$\",\n",
    "                  r\"$\\it{\" + \"L. dentata\" + \"}$\" +\" 'Ploughmen's blue'\"]\n",
    "for i,legend_label in enumerate(legend_labels):\n",
    "    legend_label.set_text(correct_labels[i])\n",
    "plt.savefig(\"Images presentation/Scatterplot robustness (Lavendel good).pdf\", format=\"pdf\", bbox_inches='tight')\n",
    "plt.show()\n"
   ]
  },
  {
   "cell_type": "markdown",
   "id": "bcd5aa53-500a-4073-9fc9-0796cecce2a0",
   "metadata": {},
   "source": [
    "### Overestimation/Underestimation"
   ]
  },
  {
   "cell_type": "code",
   "execution_count": null,
   "id": "30d7c60f-2a09-4118-8d20-dd6d51bc03ff",
   "metadata": {},
   "outputs": [],
   "source": [
    "actual_numbers = list(dict_chromosome_number[\"Actual chromosome number\"])\n",
    "predicted_numbers = list(dict_chromosome_number[\"Predicted chromosome number\"])\n",
    "difference = []\n",
    "difference_abs = []\n",
    "for i in range(len(actual_numbers)):\n",
    "    actual_number = actual_numbers[i]\n",
    "    predicted_number = predicted_numbers[i]\n",
    "    difference_abs.append(abs(actual_number-predicted_number))\n",
    "    difference.append(actual_number-predicted_number)"
   ]
  },
  {
   "cell_type": "code",
   "execution_count": null,
   "id": "9fea91bd-8adc-4195-a17a-83787e523aef",
   "metadata": {},
   "outputs": [],
   "source": [
    "print(\"Min difference:\",np.min(difference_abs))\n",
    "print(\"Max difference:\",np.max(difference_abs))\n",
    "print(\"Mean difference:\",np.mean(difference_abs))\n",
    "print(\"Median difference:\",np.median(difference_abs))\n",
    "\n",
    "print(\"Overestimation of the chromosome number:\", len([i for i in difference if i < 0]))\n",
    "print(\"Underestimation of the chromosome number:\", len([i for i in difference if i > 0]))\n",
    "print(\"Correct prediction:\", len([i for i in difference if i == 0]))"
   ]
  },
  {
   "cell_type": "markdown",
   "id": "2f70fadf-2450-427d-a1bb-7821cee67266",
   "metadata": {},
   "source": [
    "### Mean absolute error"
   ]
  },
  {
   "cell_type": "code",
   "execution_count": null,
   "id": "59c96e85-72fc-45a9-af47-2fc39e5cf88b",
   "metadata": {},
   "outputs": [],
   "source": [
    "MAE = sklearn.metrics.mean_absolute_error(list(dict_chromosome_number[\"Actual chromosome number\"]),list(dict_chromosome_number[\"Predicted chromosome number\"]))\n",
    "print(\"The mean absolute error is:\", MAE)"
   ]
  },
  {
   "cell_type": "code",
   "execution_count": null,
   "id": "d158b2ea-e009-44c0-988b-381e9f571eb5",
   "metadata": {},
   "outputs": [],
   "source": [
    "difference\n",
    "print(difference)"
   ]
  },
  {
   "cell_type": "code",
   "execution_count": null,
   "id": "bbf45400-9a7b-47a4-ba0b-37dd5ec4bc27",
   "metadata": {},
   "outputs": [],
   "source": [
    "difference.sort()\n",
    "print(difference)"
   ]
  },
  {
   "cell_type": "markdown",
   "id": "4d28a1e3-72a4-4d6b-b9ed-68e7a78f347c",
   "metadata": {},
   "source": [
    "### Boxplot"
   ]
  },
  {
   "cell_type": "code",
   "execution_count": null,
   "id": "b8d3a4d9-a244-4149-bba5-5d1c24193179",
   "metadata": {},
   "outputs": [],
   "source": [
    "fig, ax = plt.subplots(figsize=(set_size(textwidth)[0], set_size(textwidth)[1]*2))\n",
    "bp = ax.boxplot(difference, patch_artist=True,\n",
    "                boxprops=dict(facecolor=\"steelblue\", color=\"steelblue\"),\n",
    "                whiskerprops=dict(color=\"steelblue\"),\n",
    "                capprops=dict(color=\"steelblue\"),\n",
    "                medianprops=dict(color=\"orange\", linewidth=1.5),\n",
    "                showfliers=True,\n",
    "                flierprops=dict(markeredgecolor=\"darkorange\"))\n",
    "bp['boxes'][0].set_facecolor(\"lightsteelblue\")  \n",
    "ax.yaxis.set_ticks_position('none')\n",
    "ax.xaxis.set_ticks_position('none')\n",
    "ax.set_ylim(-15,30)\n",
    "plt.xticks([]) \n",
    "ax.tick_params(axis='both', which='major', labelsize=12)\n",
    "ax.spines[\"top\"].set_visible(False)\n",
    "ax.spines[\"right\"].set_visible(False)\n",
    "ax.spines[\"left\"].set_visible(False)\n",
    "ax.spines[\"bottom\"].set_visible(False)\n",
    "ax.grid(color='grey', axis='y', linestyle='-', linewidth=0.25, alpha=0.5)\n",
    "plt.savefig(\"Images thesis/Boxplot robustness (Lavendel good).pdf\", format=\"pdf\", bbox_inches='tight')"
   ]
  },
  {
   "cell_type": "markdown",
   "id": "d38f6aeb-ed84-4c4c-bf94-d73eca8fd748",
   "metadata": {},
   "source": [
    "## Good/Bad predictions"
   ]
  },
  {
   "cell_type": "code",
   "execution_count": null,
   "id": "f96deaf3-dec1-45cf-85cd-a6e79a510269",
   "metadata": {
    "scrolled": true,
    "tags": []
   },
   "outputs": [],
   "source": [
    "index =  18\n",
    " \n",
    "image = test_images[index]\n",
    "prediction = test_predictions[index]\n",
    "post_processed_prediction = post_processed_predictions[index]\n",
    "n_chromosomes_real = test_ground_truth[i]\n",
    "n_chromosomes_predicted = len(centroid(post_processed_prediction))\n",
    "predicted_positions = centroid(post_processed_prediction)\n",
    "predicted_positions_resized = [(predicted_positions[i][0]-500, predicted_positions[i][1]-100) for i in range(len(predicted_positions))]\n",
    "\n",
    "legend_label = \"Predicted chromosome\"\n",
    "    \n",
    "plt.figure(figsize=(30,20))\n",
    "plt.subplot(1,3,1)\n",
    "plt.imshow(image[100:1300,500:1800], cmap=\"gray\")\n",
    "plt.title(\"Annotated image \"+str(index), size=30)\n",
    "plt.axis(\"off\")\n",
    "plt.subplot(1,3,2)\n",
    "plt.imshow(prediction[100:1300,500:1800], cmap=\"nipy_spectral\")\n",
    "plt.title(\"Prediction\", size=30)\n",
    "plt.axis(\"off\")\n",
    "plt.subplot(1,3,3)\n",
    "plt.imshow(post_processed_prediction[100:1300,500:1800], cmap=\"nipy_spectral\")\n",
    "plt.title(\"Post-processed prediction\", size=30)\n",
    "plt.scatter(*zip(*predicted_positions_resized), c=\"w\", marker=\"X\", s=200)\n",
    "plt.axis(\"off\")\n",
    "plt.tight_layout()\n",
    "plt.legend([legend_label],fontsize=30, loc=2)"
   ]
  },
  {
   "cell_type": "code",
   "execution_count": null,
   "id": "80f0d611-b3c6-4d3f-a302-67eaefa6aef7",
   "metadata": {},
   "outputs": [],
   "source": [
    "print(actual_numbers[index])\n",
    "print(predicted_numbers[index])"
   ]
  },
  {
   "cell_type": "code",
   "execution_count": null,
   "id": "c387e134-7550-406b-abf3-95050c7b6db3",
   "metadata": {},
   "outputs": [],
   "source": [
    "plt.imsave(os.path.join(\"Images thesis/Predictions robustness/Robustness (Lavendel good)\",\"Original image zoomed \"+str(index)+\".png\"), arr=image[300:1200,800:1700], cmap=\"gray\", format=\"png\")\n",
    "plt.imsave(os.path.join(\"Images thesis/Predictions robustness/Robustness (Lavendel good)\", \"Prediction zoomed \"+str(index)+\".png\"), arr=prediction[300:1200,800:1700], cmap=\"nipy_spectral\", format=\"png\")\n",
    "plt.imsave(os.path.join(\"Images thesis/Predictions robustness/Robustness (Lavendel good)\",\"Post-processed prediction zoomed \"+str(index)+\".png\"), arr=post_processed_prediction[300:1200,800:1700], cmap=\"nipy_spectral\", format=\"png\")"
   ]
  },
  {
   "cell_type": "code",
   "execution_count": null,
   "id": "a902803b-b055-47a9-a392-5499d58853ab",
   "metadata": {},
   "outputs": [],
   "source": [
    "plt.figure(figsize=(21,16.45))\n",
    "plt.imshow(post_processed_prediction[300:1200,800:1700], cmap=\"nipy_spectral\")\n",
    "plt.scatter(*zip(*predicted_positions_resized), c=\"w\", marker=\"X\", s=200)\n",
    "plt.axis(\"off\")\n",
    "plt.tight_layout()\n",
    "plt.legend([legend_label],fontsize=50, loc=2)\n",
    "plt.savefig(os.path.join(\"Images thesis/Predictions robustness/Robustness (Lavendel good)\",  \"Predicted chromosomes zoomed \"+str(index)+\".pdf\"), format=\"pdf\", bbox_inches='tight', pad_inches=0)"
   ]
  },
  {
   "cell_type": "code",
   "execution_count": null,
   "id": "4dca1c2d-f9fc-46d4-8feb-34d54465e2a2",
   "metadata": {},
   "outputs": [],
   "source": [
    "index = 18\n",
    "\n",
    "image = test_images[index]\n",
    "prediction = test_predictions[index]\n",
    "post_processed_prediction = post_processed_predictions[index]\n",
    "n_chromosomes_real = test_ground_truth[index]\n",
    "n_chromosomes_predicted = len(centroid(post_processed_prediction))\n",
    "predicted_positions = centroid(post_processed_prediction)\n",
    "predicted_positions_resized = [(predicted_positions[i][0]-500, predicted_positions[i][1]-100) for i in range(len(predicted_positions))]\n",
    "\n",
    "legend_label = \"Predicted chromosome\"\n",
    "\n",
    "plt.figure(figsize=(30, 20))\n",
    "\n",
    "\n",
    "ax1 = plt.subplot(1, 3, 1)\n",
    "ax1.imshow(image[100:1300,500:1800], cmap=\"gray\")\n",
    "rect = patches.Rectangle((610, 140), 100, 130, linewidth=4, edgecolor=\"red\", facecolor=\"none\")\n",
    "ax1.add_patch(rect)\n",
    "ax1.set_title(\"Annotated image \" + str(index), size=30)\n",
    "ax1.axis(\"off\")\n",
    "\n",
    "ax2 = plt.subplot(1, 3, 2)\n",
    "ax2.imshow(prediction[100:1300,500:1800], cmap=\"nipy_spectral\")\n",
    "rect = patches.Rectangle((610, 140), 100, 130, linewidth=4, edgecolor=\"red\", facecolor=\"none\")\n",
    "ax2.set_title(\"Prediction\", size=30)\n",
    "ax2.add_patch(rect)\n",
    "ax2.axis(\"off\")\n",
    "\n",
    "\n",
    "ax3 = plt.subplot(1, 3, 3)\n",
    "ax3.imshow(post_processed_prediction[100:1300,500:1800], cmap=\"nipy_spectral\")\n",
    "rect = patches.Rectangle((610, 140), 100, 130, linewidth=4, edgecolor=\"red\", facecolor=\"none\")\n",
    "plt.scatter(*zip(*predicted_positions_resized), c=\"w\", marker=\"X\", s=200)\n",
    "ax3.set_title(\"Post-processed prediction\", size=30)\n",
    "ax3.add_patch(rect)\n",
    "ax3.axis(\"off\")\n",
    "\n",
    "plt.tight_layout()\n",
    "plt.show()"
   ]
  },
  {
   "cell_type": "code",
   "execution_count": null,
   "id": "51c57701-a78b-445a-8294-cbd2814464f2",
   "metadata": {},
   "outputs": [],
   "source": [
    "plt.figure(figsize=(21,16.45))\n",
    "ax = plt.subplot()\n",
    "ax.imshow(image[100:1300,500:1800], cmap=\"gray\")\n",
    "rect = patches.Rectangle((610, 140), 100, 130, linewidth=4, edgecolor=\"red\", facecolor=\"none\")\n",
    "ax.add_patch(rect)\n",
    "ax.axis(\"off\")\n",
    "plt.savefig(os.path.join(\"Images thesis/Predictions robustness/Robustness (Lavendel good)\",\"Original image zoomed \"+str(index)+\".pdf\"), format=\"pdf\", bbox_inches='tight', pad_inches=0)\n",
    "\n",
    "plt.figure(figsize=(21,16.45))\n",
    "ax = plt.subplot()\n",
    "ax.imshow(prediction[100:1300,500:1800], cmap=\"nipy_spectral\")\n",
    "rect = patches.Rectangle((610, 140), 100, 130, linewidth=4, edgecolor=\"red\", facecolor=\"none\")\n",
    "ax.add_patch(rect)\n",
    "ax.axis(\"off\")\n",
    "plt.savefig(os.path.join(\"Images thesis/Predictions robustness/Robustness (Lavendel good)\",\"Prediction zoomed \"+str(index)+\".pdf\"), format=\"pdf\", bbox_inches='tight', pad_inches=0)\n",
    "\n",
    "plt.figure(figsize=(21,16.45))\n",
    "ax = plt.subplot()\n",
    "ax.imshow(post_processed_prediction[100:1300,500:1800], cmap=\"nipy_spectral\")\n",
    "rect = patches.Rectangle((610, 140), 100, 130, linewidth=4, edgecolor=\"red\", facecolor=\"none\")\n",
    "plt.scatter(*zip(*predicted_positions_resized), c=\"w\", marker=\"X\", s=200)\n",
    "plt.legend([legend_label],fontsize=30, loc=2)\n",
    "ax.add_patch(rect)\n",
    "ax.axis(\"off\")\n",
    "plt.savefig(os.path.join(\"Images thesis/Predictions robustness/Robustness (Lavendel good)\",\"Post-processed prediction zoomed \"+str(index)+\".pdf\"), format=\"pdf\", bbox_inches='tight', pad_inches=0)"
   ]
  },
  {
   "cell_type": "code",
   "execution_count": null,
   "id": "903485d1-9c3d-4a64-8a78-14e28eeb9af3",
   "metadata": {},
   "outputs": [],
   "source": []
  },
  {
   "cell_type": "code",
   "execution_count": null,
   "id": "31043cf3-b28f-4a37-9073-6b359cb462b3",
   "metadata": {},
   "outputs": [],
   "source": []
  }
 ],
 "metadata": {
  "kernelspec": {
   "display_name": "kiwibes_clone",
   "language": "python",
   "name": "kiwibes_clone"
  },
  "language_info": {
   "codemirror_mode": {
    "name": "ipython",
    "version": 3
   },
   "file_extension": ".py",
   "mimetype": "text/x-python",
   "name": "python",
   "nbconvert_exporter": "python",
   "pygments_lexer": "ipython3",
   "version": "3.9.12"
  }
 },
 "nbformat": 4,
 "nbformat_minor": 5
}
